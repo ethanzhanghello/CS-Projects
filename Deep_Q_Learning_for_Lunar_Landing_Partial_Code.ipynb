{
  "cells": [
    {
      "cell_type": "markdown",
      "metadata": {
        "id": "view-in-github",
        "colab_type": "text"
      },
      "source": [
        "<a href=\"https://colab.research.google.com/github/ethanzhanghello/CS-Projects/blob/main/Deep_Q_Learning_for_Lunar_Landing_Partial_Code.ipynb\" target=\"_parent\"><img src=\"https://colab.research.google.com/assets/colab-badge.svg\" alt=\"Open In Colab\"/></a>"
      ]
    },
    {
      "cell_type": "markdown",
      "metadata": {
        "id": "LbZcI9ZXHl3a"
      },
      "source": [
        "# Deep Q-Learning for Lunar Landing"
      ]
    },
    {
      "cell_type": "markdown",
      "metadata": {
        "id": "E8yPRjteXgPb"
      },
      "source": [
        "## Part 0 - Installing the required packages and importing the libraries"
      ]
    },
    {
      "cell_type": "markdown",
      "metadata": {
        "id": "slEm5teGWjWU"
      },
      "source": [
        "### Installing Gymnasium"
      ]
    },
    {
      "cell_type": "code",
      "execution_count": 12,
      "metadata": {
        "id": "dbnq3XpoKa_7",
        "colab": {
          "base_uri": "https://localhost:8080/"
        },
        "outputId": "d8089608-c35f-4430-cad1-5a38a244fda0"
      },
      "outputs": [
        {
          "output_type": "stream",
          "name": "stdout",
          "text": [
            "Requirement already satisfied: gymnasium in /usr/local/lib/python3.11/dist-packages (1.1.1)\n",
            "Requirement already satisfied: numpy>=1.21.0 in /usr/local/lib/python3.11/dist-packages (from gymnasium) (2.0.2)\n",
            "Requirement already satisfied: cloudpickle>=1.2.0 in /usr/local/lib/python3.11/dist-packages (from gymnasium) (3.1.1)\n",
            "Requirement already satisfied: typing-extensions>=4.3.0 in /usr/local/lib/python3.11/dist-packages (from gymnasium) (4.13.2)\n",
            "Requirement already satisfied: farama-notifications>=0.0.1 in /usr/local/lib/python3.11/dist-packages (from gymnasium) (0.0.4)\n",
            "Requirement already satisfied: gymnasium[accept-rom-license,atari] in /usr/local/lib/python3.11/dist-packages (1.1.1)\n",
            "\u001b[33mWARNING: gymnasium 1.1.1 does not provide the extra 'accept-rom-license'\u001b[0m\u001b[33m\n",
            "\u001b[0mRequirement already satisfied: numpy>=1.21.0 in /usr/local/lib/python3.11/dist-packages (from gymnasium[accept-rom-license,atari]) (2.0.2)\n",
            "Requirement already satisfied: cloudpickle>=1.2.0 in /usr/local/lib/python3.11/dist-packages (from gymnasium[accept-rom-license,atari]) (3.1.1)\n",
            "Requirement already satisfied: typing-extensions>=4.3.0 in /usr/local/lib/python3.11/dist-packages (from gymnasium[accept-rom-license,atari]) (4.13.2)\n",
            "Requirement already satisfied: farama-notifications>=0.0.1 in /usr/local/lib/python3.11/dist-packages (from gymnasium[accept-rom-license,atari]) (0.0.4)\n",
            "Requirement already satisfied: ale_py>=0.9 in /usr/local/lib/python3.11/dist-packages (from gymnasium[accept-rom-license,atari]) (0.10.2)\n",
            "Reading package lists... Done\n",
            "Building dependency tree... Done\n",
            "Reading state information... Done\n",
            "swig is already the newest version (4.0.2-1ubuntu1).\n",
            "0 upgraded, 0 newly installed, 0 to remove and 34 not upgraded.\n",
            "Requirement already satisfied: gymnasium[box2d] in /usr/local/lib/python3.11/dist-packages (1.1.1)\n",
            "Requirement already satisfied: numpy>=1.21.0 in /usr/local/lib/python3.11/dist-packages (from gymnasium[box2d]) (2.0.2)\n",
            "Requirement already satisfied: cloudpickle>=1.2.0 in /usr/local/lib/python3.11/dist-packages (from gymnasium[box2d]) (3.1.1)\n",
            "Requirement already satisfied: typing-extensions>=4.3.0 in /usr/local/lib/python3.11/dist-packages (from gymnasium[box2d]) (4.13.2)\n",
            "Requirement already satisfied: farama-notifications>=0.0.1 in /usr/local/lib/python3.11/dist-packages (from gymnasium[box2d]) (0.0.4)\n",
            "Requirement already satisfied: box2d-py==2.3.5 in /usr/local/lib/python3.11/dist-packages (from gymnasium[box2d]) (2.3.5)\n",
            "Requirement already satisfied: pygame>=2.1.3 in /usr/local/lib/python3.11/dist-packages (from gymnasium[box2d]) (2.6.1)\n",
            "Requirement already satisfied: swig==4.* in /usr/local/lib/python3.11/dist-packages (from gymnasium[box2d]) (4.3.1)\n"
          ]
        }
      ],
      "source": [
        "!pip install gymnasium\n",
        "!pip install \"gymnasium[atari, accept-rom-license]\"\n",
        "!apt-get install -y swig\n",
        "!pip install gymnasium[box2d]"
      ]
    },
    {
      "cell_type": "markdown",
      "metadata": {
        "id": "brqiMN3UW9T9"
      },
      "source": [
        "### Importing the libraries"
      ]
    },
    {
      "cell_type": "code",
      "execution_count": 13,
      "metadata": {
        "id": "mZaKXP_aMl9O"
      },
      "outputs": [],
      "source": [
        "import os\n",
        "import random\n",
        "import numpy as np\n",
        "import torch\n",
        "import torch.nn as nn\n",
        "import torch.optim as optim\n",
        "import torch.nn.functional as F\n",
        "import torch.autograd as autograd\n",
        "from torch.autograd import Variable\n",
        "from collections import deque, namedtuple"
      ]
    },
    {
      "cell_type": "markdown",
      "metadata": {
        "id": "EzlDKXvkXzGI"
      },
      "source": [
        "## Part 1 - Building the AI"
      ]
    },
    {
      "cell_type": "markdown",
      "metadata": {
        "id": "UtG6Zc83YYy3"
      },
      "source": [
        "### Creating the architecture of the Neural Network"
      ]
    },
    {
      "cell_type": "code",
      "source": [
        "class Network(nn.Module):\n",
        "\n",
        "  def __init__(self, state_size, action_size, seed = 42):\n",
        "    super(Network, self).__init__()\n",
        "    self.seed = torch.manual_seed(seed)\n",
        "    self.fc1 = nn.Linear(state_size, 64)\n",
        "    self.fc2 = nn.Linear(64, 64)\n",
        "    self.fc3 = nn.Linear(64, action_size)\n",
        "\n",
        "  def forward(self, state):\n",
        "    x = self.fc1(state)\n",
        "    x = F.relu(x)\n",
        "    x = self.fc2(x)\n",
        "    x = F.relu(x)\n",
        "    return self.fc3(x)"
      ],
      "metadata": {
        "id": "Av9NtniO8w_R"
      },
      "execution_count": 14,
      "outputs": []
    },
    {
      "cell_type": "markdown",
      "metadata": {
        "id": "UxVrBnFWZKb1"
      },
      "source": [
        "## Part 2 - Training the AI"
      ]
    },
    {
      "cell_type": "markdown",
      "metadata": {
        "id": "T364fz9qZb2j"
      },
      "source": [
        "### Setting up the environment"
      ]
    },
    {
      "cell_type": "code",
      "source": [
        "import gymnasium as gym\n",
        "env = gym.make('LunarLander-v3') # The Lunar Lander environment was upgraded to v3\n",
        "state_shape = env.observation_space.shape\n",
        "state_size = env.observation_space.shape[0]\n",
        "number_actions = env.action_space.n\n",
        "print('State shape: ', state_shape)\n",
        "print('State size: ', state_size)\n",
        "print('Number of actions: ', number_actions)"
      ],
      "metadata": {
        "id": "41sgnpCwtd5f",
        "colab": {
          "base_uri": "https://localhost:8080/"
        },
        "outputId": "6e002a90-fa5d-4b72-cc67-c0e57c6a93e4"
      },
      "execution_count": 15,
      "outputs": [
        {
          "output_type": "stream",
          "name": "stdout",
          "text": [
            "State shape:  (8,)\n",
            "State size:  8\n",
            "Number of actions:  4\n"
          ]
        }
      ]
    },
    {
      "cell_type": "markdown",
      "metadata": {
        "id": "c_dZmOIvZgj-"
      },
      "source": [
        "### Initializing the hyperparameters"
      ]
    },
    {
      "cell_type": "code",
      "source": [
        "learning_rate = 5e-4\n",
        "minibatch_size = 100\n",
        "discount_factor = .99\n",
        "replay_buffer_size = int(1e5)\n",
        "interpolation_parameter = 1e-3"
      ],
      "metadata": {
        "id": "dTE2XlQCCOov"
      },
      "execution_count": 16,
      "outputs": []
    },
    {
      "cell_type": "markdown",
      "metadata": {
        "id": "8hD_Vs-bYnip"
      },
      "source": [
        "### Implementing Experience Replay"
      ]
    },
    {
      "cell_type": "code",
      "source": [
        "class ReplayMemory(object):\n",
        "\n",
        "  def __init__(self, capacity):\n",
        "    self.device = torch.device(\"cuda:0\" if torch.cuda.is_available() else \"cpu\")\n",
        "    self.capacity = capacity\n",
        "    self.memory = []\n",
        "\n",
        "  def push(self, event):\n",
        "    self.memory.append(event)\n",
        "    if len(self.memory) > self.capacity:\n",
        "      del self.memory[0]\n",
        "\n",
        "  def sample(self, batch_size):\n",
        "    experiences = random.sample(self.memory, k = batch_size)\n",
        "    states = torch.from_numpy(np.vstack([e[0] for e in experiences if e is not None])).float().to(self.device)\n",
        "    actions = torch.from_numpy(np.vstack([e[1] for e in experiences if e is not None])).long().to(self.device)\n",
        "    rewards = torch.from_numpy(np.vstack([e[2] for e in experiences if e is not None])).float().to(self.device)\n",
        "    next_states = torch.from_numpy(np.vstack([e[3] for e in experiences if e is not None])).float().to(self.device)\n",
        "    dones = torch.from_numpy(np.vstack([e[4] for e in experiences if e is not None]).astype(np.uint8)).float().to(self.device)\n",
        "    return states, next_states, actions, rewards, dones"
      ],
      "metadata": {
        "id": "rtFAn9VTTcXk"
      },
      "execution_count": 17,
      "outputs": []
    },
    {
      "cell_type": "markdown",
      "metadata": {
        "id": "JmEkbFbUY6Jt"
      },
      "source": [
        "### Implementing the DQN class"
      ]
    },
    {
      "cell_type": "code",
      "source": [
        "class Agent():\n",
        "\n",
        "  def __init__(self, state_size, action_size):\n",
        "    self.device = torch.device(\"cuda:0\" if torch.cuda.is_available() else \"cpu\")\n",
        "    self.state_size = state_size\n",
        "    self.action_size = action_size\n",
        "    self.local_qnetwork = Network(state_size, action_size).to(self.device)\n",
        "    self.target_qnetwork = Network(state_size, action_size).to(self.device)\n",
        "    self.optimizer = optim.Adam(self.local_qnetwork.parameters(), lr = learning_rate)\n",
        "    self.memory = ReplayMemory(replay_buffer_size)\n",
        "    self.t_step = 0\n",
        "\n",
        "  def step(self, state, action, reward, next_state, done):\n",
        "    self.memory.push((state, action, reward, next_state, done))\n",
        "    self.t_step = (self.t_step + 1) % 4\n",
        "    if self.t_step == 0:\n",
        "      if len(self.memory.memory) > minibatch_size:\n",
        "        experiences = self.memory.sample(100)\n",
        "        self.learn(experiences, discount_factor)\n",
        "\n",
        "  def act(self, state, epsilon = 0.):\n",
        "    state = torch.from_numpy(state).float().unsqueeze(0).to(self.device)\n",
        "    self.local_qnetwork.eval()\n",
        "    with torch.no_grad():\n",
        "      action_values = self.local_qnetwork(state)\n",
        "    self.local_qnetwork.train()\n",
        "    if random.random() > epsilon:\n",
        "      return np.argmax(action_values.cpu().data.numpy())\n",
        "    else:\n",
        "      return random.choice(np.arange(self.action_size))\n",
        "\n",
        "  def learn(self, experiences, discount_factor):\n",
        "    states, next_states, actions, rewards, dones = experiences\n",
        "    next_q_targets = self.target_qnetwork(next_states).detach().max(1)[0].unsqueeze(1)\n",
        "    q_targets = rewards + discount_factor * next_q_targets * (1 - dones)\n",
        "    q_expected = self.local_qnetwork(states).gather(1, actions)\n",
        "    loss = F.mse_loss(q_expected, q_targets)\n",
        "    self.optimizer.zero_grad()\n",
        "    loss.backward()\n",
        "    self.optimizer.step()\n",
        "    self.soft_update(self.local_qnetwork, self.target_qnetwork, interpolation_parameter)\n",
        "\n",
        "  def soft_update(self, local_model, target_model, interpolation_parameter):\n",
        "    for target_param, local_param in zip(target_model.parameters(), local_model.parameters()):\n",
        "      target_param.data.copy_(interpolation_parameter * local_param.data + (1.0 - interpolation_parameter) * target_param.data)"
      ],
      "metadata": {
        "id": "kxI55b4qWWnT"
      },
      "execution_count": 18,
      "outputs": []
    },
    {
      "cell_type": "markdown",
      "metadata": {
        "id": "o1tZElccZmf6"
      },
      "source": [
        "### Initializing the DQN agent"
      ]
    },
    {
      "cell_type": "code",
      "source": [
        "agent = Agent(state_size, number_actions)"
      ],
      "metadata": {
        "id": "sar4aQ5v6O41"
      },
      "execution_count": 19,
      "outputs": []
    },
    {
      "cell_type": "markdown",
      "metadata": {
        "id": "E8v0PtUfaVQp"
      },
      "source": [
        "### Training the DQN agent"
      ]
    },
    {
      "cell_type": "code",
      "source": [
        "number_episodes = 2000\n",
        "maximum_number_timesteps_per_episode = 1000\n",
        "epsilon_starting_value  = 1.0\n",
        "epsilon_ending_value  = 0.01\n",
        "epsilon_decay_value  = 0.995\n",
        "epsilon = epsilon_starting_value\n",
        "scores_on_100_episodes = deque(maxlen = 100)\n",
        "\n",
        "for episode in range(1, number_episodes + 1):\n",
        "  state, _ = env.reset()\n",
        "  score = 0\n",
        "  for t in range(maximum_number_timesteps_per_episode):\n",
        "    action = agent.act(state, epsilon)\n",
        "    next_state, reward, done, _, _ = env.step(action)\n",
        "    agent.step(state, action, reward, next_state, done)\n",
        "    state = next_state\n",
        "    score += reward\n",
        "    if done:\n",
        "      break\n",
        "  scores_on_100_episodes.append(score)\n",
        "  epsilon = max(epsilon_ending_value, epsilon_decay_value * epsilon)\n",
        "  print('\\rEpisode {}\\tAverage Score: {:.2f}'.format(episode, np.mean(scores_on_100_episodes)), end = \"\")\n",
        "  if episode % 100 == 0:\n",
        "    print('\\rEpisode {}\\tAverage Score: {:.2f}'.format(episode, np.mean(scores_on_100_episodes)))\n",
        "  if np.mean(scores_on_100_episodes) >= 200.0:\n",
        "    print('\\nEnvironment solved in {:d} episodes!\\tAverage Score: {:.2f}'.format(episode - 100, np.mean(scores_on_100_episodes)))\n",
        "    torch.save(agent.local_qnetwork.state_dict(), 'checkpoint.pth')\n",
        "    break"
      ],
      "metadata": {
        "colab": {
          "base_uri": "https://localhost:8080/"
        },
        "id": "u84P10-b6gcc",
        "outputId": "6e0ca562-fafa-403f-b8cb-a7a15585d5be"
      },
      "execution_count": 20,
      "outputs": [
        {
          "output_type": "stream",
          "name": "stdout",
          "text": [
            "Episode 100\tAverage Score: -136.03\n",
            "Episode 200\tAverage Score: -117.22\n",
            "Episode 300\tAverage Score: -54.76\n",
            "Episode 400\tAverage Score: -20.00\n",
            "Episode 500\tAverage Score: 28.09\n",
            "Episode 600\tAverage Score: 149.31\n",
            "Episode 671\tAverage Score: 201.48\n",
            "Environment solved in 571 episodes!\tAverage Score: 201.48\n"
          ]
        }
      ]
    },
    {
      "cell_type": "markdown",
      "metadata": {
        "id": "O8CNwdOTcCoP"
      },
      "source": [
        "## Part 3 - Visualizing the results"
      ]
    },
    {
      "cell_type": "code",
      "execution_count": 21,
      "metadata": {
        "id": "cb9nVvU2Okhk",
        "colab": {
          "base_uri": "https://localhost:8080/",
          "height": 459
        },
        "outputId": "a206726a-4e1d-4765-fb34-4e76182f82da"
      },
      "outputs": [
        {
          "output_type": "stream",
          "name": "stderr",
          "text": [
            "WARNING:imageio_ffmpeg:IMAGEIO FFMPEG_WRITER WARNING: input image is not divisible by macro_block_size=16, resizing from (600, 400) to (608, 400) to ensure video compatibility with most codecs and players. To prevent resizing, make your input image divisible by the macro_block_size or set the macro_block_size to 1 (risking incompatibility).\n"
          ]
        },
        {
          "output_type": "display_data",
          "data": {
            "text/plain": [
              "<IPython.core.display.HTML object>"
            ],
            "text/html": [
              "<video alt=\"test\" autoplay\n",
              "                loop controls style=\"height: 400px;\">\n",
              "                <source src=\"data:video/mp4;base64,AAAAIGZ0eXBpc29tAAACAGlzb21pc28yYXZjMW1wNDEAAAAIZnJlZQAA2JZtZGF0AAACrgYF//+q3EXpvebZSLeWLNgg2SPu73gyNjQgLSBjb3JlIDE2NCByMzE5MSA0NjEzYWMzIC0gSC4yNjQvTVBFRy00IEFWQyBjb2RlYyAtIENvcHlsZWZ0IDIwMDMtMjAyNCAtIGh0dHA6Ly93d3cudmlkZW9sYW4ub3JnL3gyNjQuaHRtbCAtIG9wdGlvbnM6IGNhYmFjPTEgcmVmPTMgZGVibG9jaz0xOjA6MCBhbmFseXNlPTB4MzoweDExMyBtZT1oZXggc3VibWU9NyBwc3k9MSBwc3lfcmQ9MS4wMDowLjAwIG1peGVkX3JlZj0xIG1lX3JhbmdlPTE2IGNocm9tYV9tZT0xIHRyZWxsaXM9MSA4eDhkY3Q9MSBjcW09MCBkZWFkem9uZT0yMSwxMSBmYXN0X3Bza2lwPTEgY2hyb21hX3FwX29mZnNldD0tMiB0aHJlYWRzPTMgbG9va2FoZWFkX3RocmVhZHM9MSBzbGljZWRfdGhyZWFkcz0wIG5yPTAgZGVjaW1hdGU9MSBpbnRlcmxhY2VkPTAgYmx1cmF5X2NvbXBhdD0wIGNvbnN0cmFpbmVkX2ludHJhPTAgYmZyYW1lcz0zIGJfcHlyYW1pZD0yIGJfYWRhcHQ9MSBiX2JpYXM9MCBkaXJlY3Q9MSB3ZWlnaHRiPTEgb3Blbl9nb3A9MCB3ZWlnaHRwPTIga2V5aW50PTI1MCBrZXlpbnRfbWluPTI1IHNjZW5lY3V0PTQwIGludHJhX3JlZnJlc2g9MCByY19sb29rYWhlYWQ9NDAgcmM9Y3JmIG1idHJlZT0xIGNyZj0yMy4wIHFjb21wPTAuNjAgcXBtaW49MCBxcG1heD02OSBxcHN0ZXA9NCBpcF9yYXRpbz0xLjQwIGFxPTE6MS4wMACAAAAEuWWIhAA3//728P4FNlYEUJcRzeidMx+/Fbi6NDe90zPu6M2PBCszbmeLpeC7gC5g07BbXjIREJF5Xv6BqDNLQpRmSFS12TAUYita9FURry8B6ItWiCeBp0LJYOm02PhXYQhQNPx3xg5Ny0vWPhJaSWeT960tOuGaB5wNd3pdg8Uw2P8lSJjIvXRH0QkCzCLI/dUD0xoeqNuhpZuqldsly49pj5T9IB0WVvYmgAX3XpfzlQMXEy9+tcM/htvk5CyI4V6gIxIXyRJs0VUZ69y2LT86BBZ3G/AnqxJAAAADAAKjFq0SNMwnbPVmf5/6XAqEnAADVAqMPoZcUEVocwjg9hvDlG6Q4ugLy6Yc231FMfnpCwXSomAl4IyJFBCZc8XP9iEdAXWHSuv0+0DG8eWEAKqMUKyq/opu72JrwR2AZnrNoOMIaK86xZLG7Mg2cUx3efvo1OcwYqEfrFXuU+/aMa5fdhJrfEwV5blL6vnc53lurBGZluBll+H9NEQCvjurwMV8RmmiqZnUGIpUPKHKbTRiYMZOriIxPCpOFUl91jELHNbDJKaQe2p2KMaiCU+g06CfkGGfmdd/3gI/3tMcW5SavatKEtXH4FP6KJ/VfNoRCQQeEd8tkPv+muUZR7tEr9ODX/kmafyriHyxVcHOEfcprsABPuPsC82PKwjBipnIU9Uw2lwLNunqIaxhPo2ItTj+h2CM1Jfi/kaqLgBjtGiPJgXFk/o2+SRPQFyKd5AYbtf/Lo2L+vekN2kR2QtLB/dpSaAarbyQRUY0q1IjwhBm8L1FQs5LSbdU/YbXL9rhvOcg/b3/sdep1wKBtY+GwI7qmJEFIeBJL4bS2MnLEQ+FDWpzH9DHSqWINleI4E4kOZSXm5xZd2hs7xqgaUCFbTtBrI/PHz+RS9BGI/FOdqGxM41FO5+GzujdZR7sADsBL8FZgBhcorn7WLBuTZm/0s2dILbVAlIyiGP5QSikUIkyfuAsJxHkU//PhP1ZKtAwhwcEvRTDFW63bNpyQc0wJbrvwnT7ql1CCmfK8jlefgKVyRC29SnUi/gUg2e7y4JrN7nG8tqsCVCkGQoBH0+YtmxsYqLl+BID2XsqNly449krY0JaWHn8kagdRDn9gjvwbEafzLnk3AJs7D8XfEwERTdsOJ9KI88OLr2SzUDaRiloQ9X1J35YjRZi9UqYsAQl9hcWJOLm/STPlm7gUhMFOmOa/Gt0obcYD917RjWP+F9j46f5o79TZeuuybxE5qDwUGQNMaebZgAdoDqDaHoMv5mPycWyl42TiuYCb3JRUfryM885Q+jW7vryqxlbJq1R3sKUKlEq/jZtfao4YiTeELs+Nr6PFiqtL8s18ld2CrMuVzcJ4Tu1QfefxkEZuEHoqG3zt5YlfFD69m4gfT6XuzazP9jEmZUzkGG6fl5imQHnjW5ZmcbiHdtpZ2WUL0Rm4h2yJbYjNzqQAN/N9fZcrVKdJVdYPewQOa1g9of34cheO/0e0pMVPmDPGw1ni9dw/dK7Y+uxZlH56YL+hPCgIk4lfIv2Nec50IRjJtXU1XYNfCoDYs/+0f7II2tuPDXisdq8sgWgAAAjdd3zMgAAAwAAAwAAAwDZgQAAARxBmiRsQ3/+p49wn+9HU+YbjGVAB72KvfC+osQ5G+1ymAbbvKDq37N3msU/5i/+KzBGovKQU+MojcYhslckJmbVW+Nd1tcct9legt/QXobZxgAACgO9TvdtUyznpU9pBMlak7zzCa1srVjgEQvU+g+R7r62V6Qw0+hD1QAVAphoMNNGBmK8Q51J3OTyY5ztE1BdsCPksPZ5vGabmAiQAInKNXRZBhT8usDl4KM1ivpyM+a9joBNNecLlL/yOKTrdPPIQT+k8Vy0On7Ye742z3bCPuTvm+0VLa6fsrStTBwifssg/vFognxgnNjrfuRLRiLQ0nXQegKJoubltW0iq3z6pawjUc0Z4qqC64O7/Qic/o2+XMJN/2Yl70VjJAAAAFpBnkJ4hX8L6qUMQ8LI2KqgAunbTCWNm5TnlS5evW/l0F6wcqoC3DNmiGEYbCYjv7bnWx3PqGAAM5CNPH/1DdAccAt/+1Ly0eT5aiAHiQ09MGiPPthbezeADrkAAABMAZ5hdEJ/Dd2hySW67NnEDPx6DNB1UAHl2Vjg/0bzi3N6dqxOtwvcbKAfKNeAB3VWtLYx2eXPGUDkFc1e4OXFijyEx5kf3Y7AuAAYEAAAAEIBnmNqQn8MU8gL4YFyQAj7KKamNNPtIO7xChoC097atTlXYAE1bHPnOi5paxe9XnPHFB0Pq0X/YdJsN6elZagAWUEAAACeQZpoSahBaJlMCG///qeKj3MuydIAh44TXaMSWxG04Nqgl7XgNaMuGL/qZHQfzTPLyVFLrGz/dvxelZ1jOaF13Ljjw3QQAAAL3O+7WpVO8QZAlgVOCZ+NroInl39cnQkvHs73XYGCLx5WUd2l7mVrZNtddJe3CfPgsFFtJMnbvMO1e4le3JlLvObwhnM7uLvlQ2Ib93uLv+vEM1oAHdEAAABDQZ6GRREsK/8KhDgv/YAONwDeyjVCzTnvlXsb59LmqpjAgOAAYdsv80XLSSuNM2Ctts9QRfkXl4lI269Y6boj1gAOmQAAAEMBnqV0Qn8MWLF/n+aQAFYRG+tKVz6NUUTzluPCOJdEk0aavzs1LIdV2ABLadotf/OY0UjM3u9z/MD6dZX5bVPgwLuBAAAAMAGep2pCfwyGonNz6vpNcWw+fjcg1gjqABtARp5pBybgvChhcN82I2BNUQW7LEAFXAAAAHBBmqxJqEFsmUwIb//+p4tun/MNXZ8cFYecBR8MdMbpScFxcAZ+7QzVbD8Qz530QajL2WCAAAE19yV/VKqL928b1x+i3oOJjbhORAp73ygz5SFEB0GZTB4Uk3gsIas4K49vmUICeVRXt0svV7FXxwGZAAAARUGeykUVLCv/CovUNlAKv50AFdZ6DGGRukxVwGbAKSthUpRIqA+gAB5YFR7KeZX4FIwemq3LBDJycTZ/+FfUGL/xoADjgQAAADMBnul0Qn8Mfc1guwdbTuqUzCIAcDPqxcQ0t29gADynMRDTl0QEEj7uq1TEuP5wH78ABlQAAAAoAZ7rakJ/Cy1kgD0ZGIPGPw6AAMt58dqTqSnU9MWqkvvDtrPRUAC7gAAAAJFBmvBJqEFsmUwIb//+p4jDhcroN5qAFr/VtkyEt+ojcQjgC1OD7DuRT8CpgpfA7K7AOeGP6THKXebpc8TVWJTjWrPx00ytwAAAfXtL37UqpriTDDfkmZZJfIj66p6Q7tZPhQqUth80ILtHqbyOT2SBlp6Q633grkPaexzFOLqZ6RckYarzx3HfH72jRxVNXm+xAAAAOEGfDkUVLCv/CO5UoHVQAlRorzdUYumu4f5foVBztAAuYA/yH+pVvqYSPxYJkWYB8+h/eAzwAEjBAAAAMQGfLXRCfwsQulZ1HFlLILa8k/ABrIMVX+96Wo87QAAyMbyK3MY3nD8lXj7Vv/8eCkkAAAAyAZ8vakJ/C0VzvU2IgBF2maJi/Ssy3Znjf4CXyEbiMyAyXsAAJsOUT83gb1AJjgP8toAAAADkQZs0SahBbJlMCG///qeI00/5zXjSSi81r5gATQXZQhHmNpJLEWMamOHHN0lkNBqdZz2H2lVqyPmqe9uhzdxV0uPNSQEsdlYr/PrqUvkkbbV65mhlvK0hmmZuJZO73pxpf82RhMYUuCBAm8YtuB+FbjuQblWa4AAAaezX/WjMCVZxysf67RbGdRahFfSUvU7IvFiSpdsinESu3+JhC6ZaZtSi16lVxf9b6LTPprpV8EM4GaxpbNoVmsr5osvphCn76BPiPeu6uQNLF7+EhHPRKHZPbgsdrRUzTWXN9JDi1ijbgA+YAAAAPkGfUkUVLCv/CXlpEqs+LBIToANW4NwS0vs9Uuda1mCyIPTIAHaic436OomIS74mmfK9++mFTCt/dB7SgAMDAAAAMgGfcXRCfwsqz04kABvdHsUnIbVDa5s18gefKwUgAJSCTXeyPHsan4hEfyRdHO4GAELAAAAAPQGfc2pCfws0SAp9M5QAEnjAEyclsMyiD2CnVhFW5IFuX0QdYXeYBwRMkADvs1Sg1Dyx1VJfs/j888wAb0AAAADZQZt4SahBbJlMCG///qeG+56ehizGTw8AJOrarJU2Tw94Ps3uyFOzJ23WvTIXxIP7muiuUHRC6vn86PZGPILZJZCSQ0DHjRHiJwsXf9bV1ySadaTkGOHllGue7d7Lg+fnBm8cLJaShMhWrde9gUfuj5dx4357BBrxdNXZ2p6S9Bdu4DGxHZuhVtoFXRPwun5u9CkcFkcJw/WP+bl5G3ijEx9tBWujay2cgAAtPe7apmV7Vn6D+BE0t9YXSej9W6AzTLKlDFVGNL49GsQTsCCrFJNhxL8+ETurkQAAAEFBn5ZFFSwr/wh3mm/HrUQAs5AaRvL1mtGbbhmvql03LIVXZ0e9YcgA2E4QZSCJNyOvhc7sWspSyukGuf4K8kAIeAAAAD8Bn7V0Qn8KNPiVyoAJSJEUHtCO5LJoCQF7YjTqNZH/CYDa51/RJhJb92ABPcOp5kUYEUIDndSp/f/53HAAtoEAAABAAZ+3akJ/CYa0JNbrajRIAH1wYx2Xa/2nj7CWoJVvWJnyyDwABR5GmvNcdnKj2Scw+MVKavYcT/a/+4njcABdwQAAAM9Bm7xJqEFsmUwIb//+p4cD4Y1qeQfGRCskdATiSQgBsg7eQ0PCRpFkg8+NPeQCyIHnb1+bBipaU9x5S0krxTvDCP+GijBGk6aIywCgg97khCq1FWSstQ9ZXj/xdkeCdMJXO/SOef/+EPKCf5qw4CS0ZapCcBLb8u2JuiH8N1xj8pbY8AAAJxYZ7xjVUTsRVLY7UNN+y1K0Djbx3nQZVk+AtXbAJd92tQmiBihwVii+xtCPh2KPSG0bifFIQhoFtqR6ELU1NnWCjZALFS9DsrgAAAAzQZ/aRRUsK/8IhqlEHta7TGuYA8Rsb4AA3Tdbj/9tIyHvK5gB6tlgHrHhH91TPSzKgBZRAAAAPwGf+XRCfwoSSUGqrE6ZQOfBet4UBQidGOoALSf6VD4TLpzcOr/EoGs1DNtetUOxSTdAXXPYAAeU8sxkCptFqQAAAEMBn/tqQn8KJWvz8m5e+vcLrWAEzws68Qt/qkb4MvPbQGDVAoFjONxMs/I+KYp+05srCI8AAamXqzM7LyelHtKHpAgZAAAAo0Gb/kmoQWyZTBRMN//+p4dUJ/uarHbUYwBDkAHGzuYxSiDz5rxBn+cWgVY5eUtDgDIlkONu514VY7vG85pXQVCRiepBay9/7a6SEBwABoju/RiRSWnqvQjIz4gmw61FbQ1mYFxXu8wUyAr+rqd92tMX+xeQvdJNgUm6mV9Gvm57UvjFQjD43YhGQx2TNRjmY60hLg+EpETozlG2h2PVirHeP7EAAABbAZ4dakJ/CiwyMEsCPZgwV9AB5ggn8C8n7NXz/WJ02xXjVAUheb8Mn2+OjKeIIRKptkcZvwnOfYHu2RzqgWcGlwo1YABdJ/xBJfWhbsgfENdnorhCvPpQpGACrgAAAOhBmgJJ4QpSZTAhv/6nhk/z6jH2NLaisGa5g1YruHQf9/5NJ4kAOf+f9FHgRudeFgAF0jE4LIugwF2R1Gw83+N1q1wOpjB7SpJzPJmOjKvkOB3GpXtk9Nzf3tOVfDsu4iB32GyuEQvvaXsPS8Hhq39VHWrhbAABXvWvQoMWGKK0qQu7QOnUWOlGjrjH3cO1oZcH7RUWzJtS30QpDltgRm5kGhUdELqrpGMZcKfePiHtbfdtTVSbKBEB9HLvHE2JG2i5JjL0HtiZ+fRmPK14Uj9p0x5pHFhGESyGIe9WR987xdYdjA9QoCtgAAAAVEGeIEU0TCv/B7fkKvnX66PRnyBSnkEZvPppqer320pLf/bNSz6g5XkyXNtJ8umybaa25XSRfcgAG6OfeaaoQPAHfX/OECvK2gBOxP4vog5zoAAVsQAAAE4Bnl90Qn8JFj16byKMACWocmsVI72eNr8fu+ke2A9KcHF4u8OVc820CzyeiGI2m7JRrG0ENL47Fi8gcvUgyAAMpPJrmZ2Ij5dll0AAwIAAAABXAZ5BakJ/CTHdHbcUAI3D+URvp/LQLyWet2u9vq75mLJLjBfm1ku/PlNJfebafAUR3D9VyUZxn+ABFZObRM0M+VVIrqrddTegPBUBCVzkIFflPzHcALKBAAABL0GaRkmoQWiZTAhv//6nhZUrBG8ESAEsnroT/KykU44t8Fvw9ZrXqMcpO5z0FH2ooFpcydrAXDf9M6DWSLimH/3rPTRIwr72srQ5CpuiCy8y0EcZSBUbhsb+fb7TRBf+5cvBABU/rd8EH8TH8TdkHhCRSk1tSY9iiC1WaGqHgBZ+R7JacnELpQO6WPutcX5VhwPq2DVv0IPvCfpSTkA/mlIittsYXSe+7WlogarUxwkhxlLk2C/FLZ74Xd3J+n18AEucS0py7kcTp9DpdWWU8WXGMTaCF/fZmEEwVw2X5ZTLvBAQhWWTQmVsWYM0+4559I/61rZgPOfwwkGb2PimqnmkM2A3hqSDoJLaWcgUl/5gVpZiJOHTf5odvZ9nd3zxLXhmOKvY0NASAAIBqmBSQAAAAElBnmRFESwr/wdiDwILxY93259ENZijrzuzyyrgRv1dgpqlFtd2Uug7zGQAB2x4uYXmqdzZNsxAACE+/kmSvs+PohUOxPY+9BOxAAAASgGeg3RCfwh6ZrR4rk64M06DQtaEacLUB4+1QAmpAXnKBKRi81qaEqGRvaCSZ4auX4YS9BoZbvGWhW9LklQd3TdAARd48nyCEllBAAAAXQGehWpCfwlBAdQcDDft/V5WQzRN6B/7Q/ZjgH+CuGJgbHa20qEH8aHDp9JqYWepZQBc2AGqtXuGsPxnGAuYiqo0AAxEj1QM5qd/coeAeIOQGpux6s8fRZSdOXUNmQAAAdRBmopJqEFsmUwIb//+p4WiZf5zYKLWmauY+CA70VHkvmpF7Kupr96d7MG9eZVpR6k9MTT9lAgAc/12jk9IQwqbXkNrEs2HiEGJju2pON/R1b9DFn1G8+a74spJ1s1+BSnpVMvrampEJksPR1T2ve7anc2LxBN7YwncGmkClSIuVsV7tjiNzdJjifvTntcZ2OIvmCEUzDo9BLkgABcQOhv8cdDmfQmA38ZoIk0qZdd4QwOAo4vq/o3edBwLDBwGwKVtPzdDYgfcMIfwqKTmCIRhQOOyRNsK82hP+WQwubYgsiDYUVQb2bHzH/o4Pv3UE5dGDm4/vskBGz6PH0X6Ykf55t7QLVklPrlNDriGemQINx5Zhy2Irjb6FXBb6PrCqAQg2Pf2/sEe3OG67O6BHxJIXdEI/hTorRx/bg812k1PZiSXO6aX07kowIv3qr/oU950CNqhoJjr9DOGmQ1bHLW23KPkySOeOU6YEZ2CL8Ccpwvy2/ft0ZqGUfeHmlAX7EjNW6/62FjsXhh/3OdByQaSAXd08XWtnnaRWoiO0bznDI/XOnglyQebeT30HrSTW4ZRfjrxhUyow5U9+ZptAQ9/n0gr8N6lLgkgo3hS/kvHyUdiAr8AAACwQZ6oRRUsK/8HxsE9ZhgXgVsfhVvn97L0SZIRdIA9AsPRynqA7yhN05oNVSaUcKqTyGGQ+u2PNeCqNoEiMn9YV/vLHLFKvyyCBV5RpeP6Z1MZ+MYOKfRzDX3k+wuQJYTqgwmKuqJR8Xn5SuW3oYkQWxSIZuwZIPCywYXBZYFwXcn5tXY0JneOcnKF/Ns2Y5R455WlzjDTLUgBbf5Fxohk1cAFJYA6z5ri7oPQeKlABlQAAACAAZ7HdEJ/CTLexV76qQ9BJguDh9E7yPeX9cuXR2gHiPfACaZq58UGH3mLJc2RgGNGW2g9YghmN/vQyw3NdpC4uPPrKVJlpFlfmqM8O+0Pn10cwREIP5ED4nG6wylsrrAQ2VvcV2OL43+F8rP1pRUWAzW1npERkzT0F+K8gPkACpgAAACYAZ7JakJ/CUEDQkpO7nAQYWK8mAoZEY/Rm1YnNjY3ixan1FGBgAm7v0+zTgnAcwLp/QkOOnmZLGAXM8hddrEbJ+31MZQI4Ath0SAna5N/XoAyws+vb5HgNGBR4mWCsA3/luTkOOoQRiBFv4q4niQMdApbHygHkVt0mTh8PWnZdOB7c+DvgS3/tXiIhrA65jH60a/1vQCgE7EAAAE+QZrOSahBbJlMCG///qeFLAn/ER+iE32iDMGfVa5UcNXT+35vGHHnyY0xdAA200oT+75i1gi00JACh+LrG24I2gmrs3HbA4xqSe8AArbQm3fbHloSrSO2v2K3OtA6NNv1QUD0RXSfaZ1ApCSGxqaRyYSc2TWbKImYPCnaC5BsRv0e//Gh3DFzXYbcsLLdW9yUtIq4cN7fzFr0xFmr81QfNIhzdE2XWmV9u6+ua3CNHD7H2ov4XLUirR9k+VLAMwCHX9Q0xkuYoptbkk9usUoT1yfzhrAJESz/IRjYxpQRiXOF3JNDXngSAA7SBckADNFU57WKUPXedSU4dzuHOoyjcw68tohBZOfDBnHROoPLuqw68XmI+vxjI8gvHWXhUhT3i6Tqz6h+9xfybMEVgCuLG7fUhpvlp8+UyJ11oAd0AAAA2EGe7EUVLCv/B8bBWIoyWI+55vQ6AQKhu5X/ABLUsTuulpFcRRz2Sz7tRvxAbhE9ZK2erbY/M9TO3DCPMsi7sHywRdWhioHDuhKxYd+bA/PdSH6MDgq9KFnhnMP0ls/tbIY97wo9OICdC/Xc2izkJbIOsCETgAWBHbN2LoKeseQVawiIl9N4AwqEAE/JURkVp177ao5el763SgiHaPRukzqQjOflxcQkevOr8DEHhRcd8hUlKjszpnUWQEwImzhSK0JizKt6z1tQpDrvX272GoSD/6qu+KA/wAAAAMIBnwt0Qn8JMucp6aAK7ej4WnN2HMUGD0kdNRfbSACRmNzvkspSlG6urnM6l4vTvhEcV7A+wOqi1ooVaBJLnrEo2vpQfMi9dt4eyeGlHp5ucPMd2xmvhyAAjGlM9Jq+LEgrFOT7u81u612TAeGgrHcccM7+EboUsSJ+oggr/v33fbWreec4xpk4PqQa1y34A37IZYLpv3PUzCV7aou1oDufKT8/8uyoBjLPCBtJ0Oh00u0m3DXRmEoa0zN6hePve/AOOQAAAJ4Bnw1qQn8JQQYNnzJt5paNQ/JnkeglorkbdeFYRe6HwdGmjsfryN7gAK5JFYgA4eNVnjCn06Isn0CVqC7qyFb4Q6o8wMWRLcG00iOefaPfvmrkHjt+XY5cOCvDWmKsDRR5/YNke08LUn+ibB7bxaZMz63UeFc7WARIXFXXK575i1SAg55NxfU5ve6xoyNr1ZSg26pTarEWJRh3oQBUwQAAARhBmxJJqEFsmUwIb//+p4QBxv0fQYNrGZ5a9NWu1Ifi1vRnO8XYNgNV/MxHfKw2HtqjJPVJpPzI0/VWD6ztd7qL2i9k6Hd6VB4arubz9ojrMoFDH+k2A5Y93tGug90VCwEYrrexCgmRMaf6P6sqEdvKGQ5WBRbg/FPNSOy4HRwMiY2+VyYYvycIRGkhwHu4F7rjWNYzPtrXi2XBesNOwvf7e7OhHwg+sJ0rF1XVgwskVuuEjOM5+LERoZ57r7xT30D4YobQv8PBkB7yFxpVsVtOTRVx/OH78qRMBnDMcy+xb9BMGjnXi+LomC35fQEbszPbgNVu7nHtqISkPjCOmdNjV0yVUE1G2Aq3l8S3nmySDOEHrVjm+AIPAAAAmUGfMEUVLCv/B8bBzfHO3xHkFr/lVAhn6V/LOwmZDiDniaMOVoOr5qQ2siSzA1RacOvZR41ULkjQAjH9cqYqwc7ObFiCzUHhEzRjxXpX17Nnk9inEbWeV3PPT5HMTwVZAk/pLz08DED9NawSjlM8inIqUAxlAUPY07G+j+t0/vzpWXykUgSAI+gT9hqeI1GaeYc4fhDJmYC4gAAAAKMBn090Qn8JMuIEK5tARr/kPhFdv3aSFs34hogQMm7MbYM8zqz/l9wAlqzv7cKm1D8yOVocliOY9UQwMTnSoCErqIYPF7N+PW5cqKOXYtTiTSn5LUXI/1ypKso6m3AgUiWDU98+7z3xVu3DSnPrWj/yEZ5czw6PlN1gH/tczzXEwrwMKBE1xJrhuLFNOHRdvMvILO4xwZquDs081IN1fuyavAPWAAAAhAGfUWpCfwlBBg3bFGZNk+zCTr92CrOCD355spYrK8AD+cRD5Q/QlKmZXdTjKqGhTZTxozqxAxCOuHzXNj/0hxmj4bJooiADMvmm8Czbql2xbMdMFL/j94ZzZoN8lQAJ9MApK2e/19QVLweZp7bH0CbYW51Hb0PQArwirFOrMVt9N4AbMQAAASRBm1ZJqEFsmUwIb//+p4QBssy7Rze1x334cW1uACm3WhG8DMcUDUM1R4q0GvfATMW8j358M/phUqy5zY69lNcD4mUHfiU9mks8S2AyxV6Bflz+nWT8Y95F0eJnm2F60ui0wR4WAiXLywla4uWjyr57pDKYo6NRzhmaxekESH3Ze2jIGuI4oO1vk8njC2yr1Q0zMTT07D8c3YwJdLVuBUaOPJGXCvPdOclWH9rRcxyzvCQuSig827IwDh9MS2KCUjdHKH+WY8pjA9ShVeZUd7ed6lWEd4jO/ii847uz6sgeBQNgIlI+IXxwlHImjkAvD1yYFz+azJrB8GtQBwANa00Uk8D61iNBdaWlqR+L/T/kqMWROcDaf7GQ9ZH795jFtUISMAEnAAAAvUGfdEUVLCv/B8bBzfO8Po3niUJF/I8YYPSybp6ewcsDDABdBdFflV4YKrcy0zhaFaZpZM5FaDVmTElNEKC2alBDheEpkWkbY6ovYsYk4HY81jqZlyg3MWUfjTAI50O8kI4FZxj/KbqbNCZ3JyVFZh8nyq7h7w/S1UqYBuDOqZlSpYyaY2K2CaknrVGW3dUzJnQLZBR01fKOkTZUqudW0L/UmEOnWTO1gYSLOwlI9sH6USICVQqrPipr/iBHwAAAAKABn5N0Qn8JMuIEKpjljbTBvP/FwvunVTDQy+7bs9/NxM4hM17VlFGm1IqW76S/0iDyAgqWvD/6MG39DC0Q7aZTeDFWnUNE8r4QtEnUcnp79rbgzxDFjqHJ6JcPBwqrVLpB6M9bFZafffBJgpYFbO9nLGwTxysO2Jy39NFLmKOrD0saWGRolMZVxI4V1YQ7AOwPtAMtcQeOUyJxtspbICphAAAAmQGflWpCfwlBBg3EUGPjMOJ7xTmdd8VikAJPxJBKf6X21MfZ0IY2kt6O//L4H4eB9jphz7B+dRAkvEzQVKjq6P93limf0FxvFkRbVDJPvvn5h/W2pTAz/MvP76LfBQt2/cPjHmaXVlrhiILYl+GO5irq9fcQ0Qd3fkBVvFN9mjudbBwCyIH0+yac0kESpRbObMHQA305EYBnwAAAAO9Bm5pJqEFsmUwIb//+p4QAm3TewLsFekroCEavhpvie3RhiQCpFPjr1veud+D49x3h1D2cV32dO+GXIDMa6DcSFUJs1Kps74XXVDpDvwSlOyfezbZN3FM9v4c1JKjw1SGJkF2Ae8apRwynrNpb7SLNB/DrjL+ATDsAjvochpxQ2Z/jAWWTmLPs7OGtFoF2hQ3jzV8DthpNVdLlCjHrpUzwDwTN1C1UfsLm3935rHjvXLRrAbkG4M/+4ku6Z+o3LvJEzlxKvLMD3fo0DxM/pSxSEMWz2G8RBUBiwxDm2JNmWzDADO8ZNUgZOCFXzRxGfQAAAKJBn7hFFSwr/wfGwc3zAoP7QvUmWax7rsAPKVJ91r9LMDWZFMeoffOsQAH88qKhYmX60W/0k6+J3P6XUCAtqOc/LhuugzBT+Of6TcIKUV5n5zHSZlRZDjUA4PAgZ6rOZRqY+W17EXudONeEa37iRUbnyIYxnQYts0yoReXcCWSHFiGkMTegdsMGUEupdXoQFaixuw8aR/hYH3mLoT2nSFV4KCEAAACGAZ/XdEJ/CTLiBBRTZ+O7I0Ev242hrd1o5YjjqAFUwDQpeDwi0oEQYODdQeqbMKSjzzJg6ronirYl+do49Lb/q7qVXUWt15eF6DjwbkTbBijUgoxUtvX8De0kQF5Kr00Ncr8SWQyebIZcmZmfcZ5McQMVXosZSnpYmy3+hAfmJl/K+oNlAScAAACKAZ/ZakJ/CUEGDcRR9tylOc3AGBBnLZ8iDEVhI2j8ajAA/dPza92pfW2F2jm0EbK2gK1cBeVnmYRoWZM1WK30JQJuOC4+TMlUCURbVxZbz1O6I5tV2GFtz28Vw/nreokkTyCuKL7eAjhIiXG2DJwRdhEeag4t3T3FBhh2hPN9Hug3PNRw0MCwIDphAAABI0Gb3kmoQWyZTAhv//6nhACXdN7Rze2/lRV9AQHuFvwSpGt/yYAYyVna4B8oZZUxy7FmleaBMuBsjVAqBOM+G2DGc29lhb9GTmnoXeOx6YM0TISK1b5G/Tfmh5gZeF6XPxt6Ngg4/ZtiXjqWgZh9jse0xDQWG2djdV8PaH1ss8i00XxpwjWUBl3lCqOM0abeo1hikHHPc1EZiQuOVrrKAGMGaW8Rr/1IgF/lmcrM32rUe+d3svafU+IEuCP81CTzUjZB31yIMQHtVCt277La39iGDL34yZhdLN+To19erp+T+raka6xMlutU43UEWTtGdA7HnqdDAw5hKDu05ZAwvDGjy1/aaUJN4pp1IuYCNtadrwJegOU3c66Qf2PJ5LGEHagFJAAAAL1Bn/xFFSwr/wfGwc3zAYfLE0B+lvqF/g9nemYB6d1TXbw9IXIu7X2FPfzJI3hfRFENaptDTDd5zoYWEBXr8AHzVLbqE1kZPpaHw6IpRRHNsC3zH9FqWqPsEvHlUVAHPNCLshP/khdJ7uDRostp5eYA7zNNnFZxbcKF5JkiDf//PyD/UT3p1NlWfdmBGnzKSvoJs4rUif4MjQ5aJF5Ex/aB9l0SY+szzzy0xDfl5sXiuERO+vFqZsDlDpuADZkAAACHAZ4bdEJ/CTLiBBQyTLdi8Thu5coWUiYYCE3uHEY+lWevBZE3wAPd+H/X0sqjn8m0MCL9uM9xohKbFAsJrvtBW7Roffpjh+6atHp7yxrToR+A9P5TLomUIMEj7mRhrYTJyotffkqO6hw2aFxX9pbStGXOmjPiGQ8pmT0yTopgcVzUKSlKgLuBAAAAfQGeHWpCfwlBBg3EMR1hqLB4XWjUoBe+7UovS2SwteNE5WI0oKzeuX2bGO18AJpY6B1UJcMszbkKv6SdQkMtByEta4lP2aUQCkhbmH1rqtJRXyxQdi3D/3uHJre5AjotM21Z5dV7iwKzWs4TUH1/QCSIU1/0BOWPVqoqEVd3AAABAUGaAkmoQWyZTAhv//6nhAA6PCeUyR8Qzxf8B+41weLX1ZnMV2PnTgmhk/OmRKxuu/OY/SuD6S6a7i3NNYiyfJt0DSV7tsgVKar3t3OkTSnsvaPxEZ+MIPHJbU76ajxSb9HBYWQR5/gg3j7zfLrdSJZpG41DU5+EJrAlDRn24QPOFsE02lwlH63F8wRjf5df1AUnsJY43DrMU9tA5vT8afo9QbYo98GOEF/jg5WetWwElwwJfZ69iYbVNbNac0qGJlQDkJOrcGWh3F1ke62GK75ge3bQthqEqaOqtjInmSey/mcOnbgu0Bc+rEVknB5ahOAK8Iq10dPtbRWV/uDMHRDwAAAAqEGeIEUVLCv/B8bBzfL/Iv+F8FWgxK2BdXwLe+xY3LXoxAWqvSnER/sVROumIAHiXZj6ClmUxtWW0nhFn9/O2oHScM8GUW4L8Kp6bmUs+cxcnm1/pTSfV+vXd47+4C7RC4bPRvyKb57ObYGVh+Up6oyVWEYsrDSMR0MnfUd1qSx8a395W+mIfPkli+LvDNbGLzQbYmBmreerXVztzNOjBdY/lEDc5AApIQAAAJkBnl90Qn8JMuIEE/CuW6vidnGgi9oMUoxwHJxGNIXiLBSM7WcMvjLRwAHv4H7SZ5gJxjChL61PANmBOJVDxRLlq7mZ61KoWahOac65blCK1g6pYGiXDd2QhRcbKD8XIK3NmaTeqz973zNbsr1mVyMVfg5pkGhnbobXZ8nwrYkmZXVOO/I2up1JWOvUkJLEDgTxrhyOALOcBbQAAACiAZ5BakJ/CUEGDcPy5F1T4Rstd+Ml/NgvzZi229sZaGXE0AA/bzCHNlnYFWpb9hEQA2HP6/GvT2RtX44pkGn3ZwH+N864quiPwkdRs+v+yNghI7QbuN/4Q01BGo0iFFgJqGHu10R30psgSofsVkMbSToOf8SInFTJwfyeNiDcQ7jo8ypWXu/qMMBQFMjG6RJzW5ZhQdiXr4PBQh2+W5BoAOmBAAABF0GaRkmoQWyZTAhv//6nhAA43CeZ5HlBGsZoAHXE4lf29QViPAJq8ecx17u/7uFEUNTgSneLsZ0MW2srmDUqCl3xDKd+MOxeFr6pOjiuV30K9gzsZRv70S1mneymH0LPFrlE+MCtBQxX2j4SdCzXi+lOpeUdxBdyhQCAeP7pOvqgMwIyASj2krNJxMWLczp8pqt5iaxZjZDrLia+3wt7PVDvRkNbtsWcpoZOASiVisIHRVNmxI6ZXXJcEoMGWulrk7++mSnSPhte2FFzwRtTM7f4AAFnzg58gkQluB3hGuL+SGYkDtniDQKaJA3l9Ff1ysJkeFtsqqHehr2T8FxRQ+cwzUwoCSHa9zY2iRAMmTKlbvP14/YDCgAAAKJBnmRFFSwr/wfGwc3y/6GoCUaFoeVuWXaQ9aHLYady8TGuVsNW0IY+G3fro1/xmcfOqRwSststBdTOH7SijH4+FQAWnPrk3Y96+BLxJ6lMejWX2cPluPAO7+DSyzBw4xauy8R2yoQ6gOp1Cx1DX1GOS08gPKSM3sqmkiUPJUdLQBgiIO0CII6qWsQAYQwjiJdMZnCPpK0YmjMd6OSKeNn8Bn0AAACSAZ6DdEJ/CTLiBBPwrlmfLMl9E98JP+jhDAXL4+p64yGqjAAJv9wKokLe+lVv3CzfFMpYKZzT16ClbUvY+cMMF7TgAJa/4Y1M2MuPHk9KrzTNIsc3T1W3Jdcs4CpNllVlWqgP59Jzio4AC+9dLJ9jqIGJ8ops3AMZ447B8sOggTrqbNU6+msvNE0bu4nFlCq+BF0AAACpAZ6FakJ/CUEGDcPy5EC2GCLxsglKdS5Ac0lYa+j4MTy1AB8y2a2rJHbQ20t4qRWTyAQZbQWUylztwA0roEnVcs1COk9V8oOqZ6iY9Zrg+y7i+1Ca+ixUARYHCV56Fu4atPldEtL4oFISsbujkNyMozhxAjBJ+NzmllbrcSkArkmYGJhg3s9vSKvTOo45yNrUybw/EDepGFDKZVKsonzi6l/tRpSSk0BqQQAAAQdBmopJqEFsmUwIb//+p4QAN3wnmimTcgBvglSAKEYb84BgAUNWXY1HQ/a0LdKD8Ysofl5HDWE2AONub0Gb0viTQGC+5nFqMOtxNeO2jBggEL5Okmk/CpJ2s0Lm5BMrIAwGoH5FVwTIUw9uX8LcH9a7agNJLDyuH1/9y15j4salQQ34c36QDIcyxBHo6taBiw2VPiB7cIeDNU6yM/wBWc8pbKalsHGZ/JCp6ANF5QPpaAMR5N63Ot5Brs03SrT/vZk//n/IpmqGz+dioTrrlQ2GZ/J5YJy/2awx8RBC2E/B9hYgwlmNzXXXYXnfY3Q3pzejtr8ZGF7+IwACmeCUipMY1LLD0IB8wQAAAPBBnqhFFSwr/wfGwc3y/6GnuXBzgF8VIKHoAiQuBbsSWeeOxl6MCiWBSvDOz68C9O96EOGS98dZXuVHdmKCQn6lEH1uAkQh+cz+oBpYJvLpcEhFBnlN0Xkfui8V1CpoxlqHlNhKQtLLMkTQoZ6dvnhg0FigUfQKwX+sGc01D+VA7bIA03tsMgFM2K2Xw121gEEN+o7kHIHAkwLBZKWbx88/Lpx/ET5imLdw2HjjttzWdJqWbdJFUYkgHSUG/dymuL0fJEDL2vl9gcsQs6FQoPzXoCHeNcnySdJmmueDTR2VDE47GSPDDwC9EQPJS4tAtIAAAACnAZ7HdEJ/CTLiBBPwrjXHjz/lkBxfB+2tUYOylNTnY77vnEoGhVjZmTaR+SQAlnWpEIZ/ImRtkQwUG+mJ5SHr+fuLq4Lr10qGkC8Pkf7kl736seEEQK3m5PEWEYtMVTlhGMaANLmme3a+08JUgmcOpOeiuWi82Rmgyz7WCJbQ6McfUWUihtuAZmCIZw5DellHP1FlYJTwfLBHsCIjUBH1zJBQ9RtOAZ8AAACmAZ7JakJ/CUEGDcPy4yacSkCgxF++r/ou6+rNnvrjx9eABYH+FkiV6dKLUZjQd6MIVWA8UaCw01D2Dgegm820fJ5ec6O9sO4kVvRMJfzP6w+kvUY+wEzUEtpor0Kmeq/R5H1Pei5nDMWzaiSBfYC5gcNZ2a3ZIvgdfPSF7T1me2YrqBwdEVbMqOGrbyZ6OQpFHAQu8ddRU8d5ALPCbIV57naJ/FgHzQAAAM1Bms1JqEFsmUwIb//+p4QAFa5l1+zMuVYXUd4AoA0D6zHued1/3Fxd7wbKvItDsJOKJoQC4PstL4JJ42nMO334iV6IjH4L8SekEtwUtaeDqiCAvPyQnCqj3xKhxSeL3hEFhosqKLYWD8w0Ku6OpmQEn1XHMafAA72t8W5DDtKfoy5wMEWDImYUqSAKLqy1Y032i7v/On7+iTwEvJ5fCD1XDjgLBNXPfhaJ3ptOaoZXQsgRNXo5u0HM+fGHiiMG9Loqrlg5IjEuMFtQABgQAAAAsEGe60UVLCv/B8bBzfL/oaR8J/BgpjOn5TFlACNVqoL/VUbAUblctNjtNi/msEfQ4jOKfmkYVO85bP4GLIXYWSteJdyb2I4AUCSDCzFGOH+YaY3Ajqdyormtroh0IlDAHxJSBFDm4QY2gdS49L+ULNOCrn75CgG2n1XNxbHWa9wOtK/5GC3+HQoH//sUaVZkLh8TSmu4MsaKHHZUzd28gwreSN2wapJHOPz30li7WBFwAAAAqwGfDGpCfwlBBg3D8uMeAQz6WA/OyQnUNAUM6bKI9HlQ+mSnUc7u5lF2lA1u1aCKnfSttLbEuFKowsfbuEHE62CWzpLBOm9ITkvtfl1pvgkOYaITZ8OKSogVp85ZQrdEzwF/Kfx9U2CJOTBKzOkdBjOF2/0FCi4vt4hTbJ1bnqschYyHXb+RC4OiRrTUDLB+L5O7fqedKolUeta+qml6BmrW3I6gVhJwn/Az4QAAAO1BmxFJqEFsmUwIb//+p4QAFR5l2jm9uRyG++d9zJXzM9ogAarnfxfaCWzWI3ovMw0ankiN+m+oPzDRsCPgp8VegEAzTf/Ug5/1jk5lw4Mqr7/9VMaX/mhet177ddNSdTvZpbJVFO/OWttqGqiHlcH7xkJeslcadIn6GiIMBDS/I4eO2wSTia3KduZDqa9VU59/LagBAaiO9pvmzU7paNf/6m24FvPO+E/7Wn4DCRtDBaX3t+Czw0y2cBsa7ayOzNU8j62gRNr9xV/+BHxflj8FjWfnuQvDd4/vNhO6kIoi69+4QCNXoUyrpxGmWUEAAADFQZ8vRRUsK/8HxsHN8v+hpG/nkhL79THqmJdufFndeYBMcZS2gVwcVwQ04cf9RCzUcMB2NIwN4x/MjCq4K3RjBCGKqnKJ5hQw4o0BsSEhVta3NAjhCQw4R9QZLyy3xBDcGyDeiWcuTGX3GFoXiyAEmt453KLbJla0LeOLJi0gXmqQ/CT/ULvfYWrll9HVexxdbco5YLXw6TaQl0ylPzxVs2aMsFkZPIUHrOEr7lc0Opw5aoy4OzmW8wNk57Tz60q0fKbgPSEAAACCAZ9OdEJ/CTLiBBPwrRD1fIBe5jypIkXxRSf++bCMBx2QO8QAazGIDlpnQUVuc38ejKSP4EYLGVvU4b1gb7pmYYW4wFMLphMocVPvkS9nFM5o7yeLehCFrpsAU1j1z+5EQRDjkVybeGCiaY464oaJwxZHNr01PRS5j3+/b/pQUwCDgAAAAIcBn1BqQn8JQQYNw/LjFDdDQm+bUJyssLzcT61IAI7Anct5ekultERs3PJWPDdpo+rowRuaIm8aEvuk4Q4o8c98cyCAqelIuMcf26vHzRpz4Hfze0n+iIdt/UAAy4qo1xdaUD4Jmc5EYOvqhd3t/An2NySzo2SQJM1euNJC7oqIhLwtsVtZAqYAAADTQZtVSahBbJlMCG///qeEAAftenEbKdyF4FIDYAHIlnB0Humk4rxS/vzyS1CtkbCgRFURAjV+enkrJqPHaycOUz0gDAzRVgRfg7bklwMQLXOvCdNQUjRq9tEH3I9SsoDc4Gq5iEPtca+f8Pe+Lwx6tkWjWaVG36ADkTwzr9q5R9PX4jOz+vMcb702CYCNjmoYN0LvOlPi4M6TJzc7vw1kkUl3clDMkQLRymE4RuNkUTdy9GJZPlZN5M71lAe0A8kTeAA/1j95cHM/fxBq6s1/na0CywAAALFBn3NFFSwr/wfGwc3y/6GjQ8HEzcw033fODbE1/3TAC595PqW4L8E+GVnjbWcUlIeAw+dInikrAVKsoIZNGSGjKrJF2tRkkduHujXrvo6MhE1sofF5IgfaMZmnyR9DHYVj5tCjVvxUiDlGKp83d4uq7aT7wWf4mXVI0SBluJ5xBCvGb9lZLucGHMkN3FH3o05ngBT+CioVxkYlW5xw1enusB2cErcM8b15VaREzuA4JGAAAACbAZ+SdEJ/CTLiBBPwrKMoMVZd7qykwGpib4hgLmYAG19x3cl5M8bdWTYj1VSs5Ui5DpbYR2fQjIcmOEWHiwMcnsUgf0exwNhrRFkrw7gaEhfuLX/NcF3x26PVzAEMMza5O/9a965tHuKHmvOphQ9nn6EiA/F8y1slVtQknmnEeOqzST+3DIplL7f1ARMksaXez1p++e69LKfQBZQAAACNAZ+UakJ/CUEGDcPy4qtEeM31yFp31ZdlwgBDbu0VmnrIYgBtPO+l23l0wk01ZGYW3a55vnUxLH7nQnP+uKlwnMlD38pKE0z2TxOnbtPnDaeHidCYjtnQdZJ6RiNyvFK5NamkKvftBbDfdh1HnJ5T+02mPeV6CUZRvM/KzylCudb2zeaKWCHOjWbBwI+BAAAA3EGbmEmoQWyZTAhv//6nhAAH94TzJYgNi4SYWpevpLo71tmGdkVl1q1y1B+7leDFb1g+XIARaKV6AxK/JCdzEvsyI2qVEnAdOvDCJ4bDwUzAehuytikeRnycnZGU8IOjWmwfyL7ZzNj5DmdhxvC5cqgfmJ3ByP3CEAmDSXdPRhHKyrqaJ/LLnYTEMZhWcp/lSwovWr0fyF6kxjlRdm2fkVLZDAOQIu6a/ecY6GU0LKdfnEI7cNw7UUBuFyVeRl5cAyzXfRnPa/H5WGTiN9GXax4CFxQsWW7no27MAasAAACrQZ+2RRUsK/8HxsHN8v+ho0OT/xZUGOLkwpjK2e9twCyLf1+AI0kjNgwMEH5ngYygSaKRFfJx6fIOXqDlJzZRRE0Sc73YzugCZwDEh+YaqnZx0HJpTXulywRKixSQ6c4QvrLjDB7fZhvydRU9sLjbiPXjbyIGlIiqLcWsn1etxNS5wzb7rKLNr4+aAXFRzGHGOvk7/DWi5dB2x7wZvJIdliRK9ICc+2iRtgKnAAAAmgGf12pCfwlBBg3D8uKpRHhkdcyIHxXoKaqzTuD7CwA6RD5V7L3NPTt0q0rSVaF/+vKaOOJZplmJsOZl2vfa4fMtbtuUHcOd2eimJJrrcA++yFyAkkUcCMP+ibitPf7kutqw6qUCQFg1Qrk3jOWG2emC2Ikyl8iQleycf4AWvjujFsOu+2M+WgOZII6HyiQ/QIJxxsk0CN6kDKkAAADqQZvcSahBbJlMCG///qeEAAMPY6b0KMwBQtaALlXnDKvYOLHs7bKMLgKxGs58L9rK1+TccKJ/g6vxUhWHY3InfjQPecpwlz/Xf21yg756bE5s6WDzOrM/uW0NQh9aDKkWGZsw2l9xsfLxh91WjPr650NbupNclum3fY4olYvaJbtHQpF86s3gLfNih57qxZ+pqBpHLPiQDgxF66oFG8P/L0xLqc8NpvLWDvQZegL/PCfYpynqmR7MnHhcrtEhjkawO/mtek2Gk33OGINhh+cHBpf7d5KVs3CAXKKbfvy4qyBVCurjZKQHjAGNAAAAmUGf+kUVLCv/B8bBzfL/oaM10jDhO+XNPtiW3dQQZ18qQ+7TW8jompAC1gRVe2Rf5z8agOgJjGZl/R1uDXYOTXcpSUWuHleLCUcECdGmFaKVVhY/IlkmilArPKfbxk9BcOY9Jr/cjaXEXXNJPLVl8G7WyriykxUNl2pKBiTgb0WnpqQP+HI9s1NKGZuZPay22WpBojaxQjYFJQAAAHABnhl0Qn8JMuIEE/Csnf907OlfgHgvQyIi3biT8QAtw1BkAE4473oi/vU71FQDZWlovByCNagOlnb5PbOHs84mDW3Vo5ddlW7rp6INdSfIlehOJPiWmzs2mjfHqXwmCOHlJ+CiL0UgCSRQ9gRbAOmAAAAAlAGeG2pCfwlBBg3D8uKmHxjk0LhWM5BlSHUhRwAWhE0wWebl2B/GEsvBxcC6ExXexgZeFkMxdIXMwSJ4VlsV3B9+HLAgaubnRwkxLn1lTyH2s4TIUVujYgXs53roxVzH4LGTC850gIU+het6AE8O0tGP8zx1NZlCXfJ4aiUPIiD80Zi1f5nLnqKI2lHiUxk+XbeAxoEAAAEBQZoASahBbJlMCG///qeEAAMTwnmSxAbFuxQbuSLUVcFmcKCgBQAmACIuLPOM21lwYoS7SXiT5EYSj0pjZeBB97paixH80aDO2kod1VM+MI9kz42VS93kt0zK+GmWiKZwwe2x/wVXF3z/p1+f7PpCiurnb+jk495PWJyC5oTnZwbTs4apKqaSJPOKtrkM/uZQwAbX2C5cWLelP+sChpb/2U7JpZkISxwiFvrB5ozFG2Ubw3MyeEJK4RTymj6C23dGENMVxILKr63gEICvsbX6evyJfoskhmHThXP78WSuF8SVlGmSrQRy+V7Ukp5mFJHpaTBqx4qfMpvHY9Jrh02gFfEAAAC0QZ4+RRUsK/8HxsHN8v+hozXSMMi5o8ZtA644eRkaFr43xClbQBC9gsWTXj6WzDaSQ35cdTDG1rDHskmPXdkIY8gLvxI5XQXarYRtj3O8qdBspORmySMiO/5HPRVJeSUQ7W70Vla47P3ZdYkjx4uQcBb/1njsCGtwLNSElRGUnV37steqFVMM/nNH+XnXKELII6q3LCmfzIrX7xhCvGzDm3or/YIH4UpMLALhkT5WCNUR3IIuAAAAggGeXXRCfwky4gQT8Kyd/3Sk/kreC4aQpyCg/jIQAjI6bJf4MV7o50lQIJ8FPZtVCgxw2w3gBVdpuUZd2gd6UJU/OLmzZXzWpSuztGY0+Ui/Jd5M1wAwS2QlxpTm0rYRuosYp0wNYktVTR3G+7whYenj5dqOXX13qrlg9do+/bvwDpgAAAB6AZ5fakJ/CUEGDcPy4qYfGMuLze37R6lrADnL82KHXbCC7f3RXFBId50IziHPxrWELJUfjJz+E6LCFndSkPLiLJcz9AJnde/puDcJdOSeGDuBg4Q9Cres4Rz7sEigIgT7QxphbJ6jwhdRj9bNV6sRiFW9KQpu4chsFTEAAADvQZpESahBbJlMCG///qeEAAElzujx3KsfQQGTnZzq6VALiZrkXMxNxUp7XwdM5VG+f/WwIlvTKqCZmbUrni+Tam+YZF58GhJxiKOoJUYQLr0scZfUUuATFaLlZRwZr+cf+j+QTfoJDU6GKPoiVIbJ3jvyf9fC8Gc5y5fctYBYdAOBwSfeGADepG028XkLpgldgViGkLKLt2+kqfCBi8ZRCdUQt9aTE7zpLxMqSoTQfcrdRdgQN4CIO/ohwc23Y0w9NKGjuFAVzY1od8YEBq5U4VO8cQdn8bX/xj6USohNt0f+RdjFFeSgh3t3S9aMPmAAAADAQZ5iRRUsK/8HxsHN8v+hozXSKfBR7IdWboAWmcgAYfQAoS6i0ilNuc7bnI+uI9imUZtOnVvrgA1TpMgvCy62v1Nv/xx8BnXkXs6BfgfLeTF6MAEauOnHScuIbqNIH2QN03ToEky4Ck9mA0KHIgvkSfcEOLI8LXX2496GLKExE0sFnUqceoLsAFUyU6dOOeBN//TZqsir3UIV9D9bvZ1tbZZt9xRckqMcTiIjIeRMdsE1WQMEY6HEZBuJvjXhgIuBAAAAhAGegXRCfwky4gQT8Kyd/1l6ZVNwuzgAtSy5kkljuj82fWuBtN/SnU14ko+AUvN+KZIpYD/5+wxbxjCZe4ai1PHYcU51MUEribYJrErYMyc00PU++MgLI016WtK2Pc2HrjCoBk13R5qC0ca30343yk/DO3F4SK4KAg66mmadP/wV6YA44AAAAKwBnoNqQn8JQQYNw/Liph79ej6ZP/6VcIBe5PA7yTIqqseP8//pcANpelVbL/7498kfN6rfj3QpVD5EaCwzGHGc0s+NVQSndJyuW+LE/gPG2WM6VAkx/dzrVHsZ+5LAkOHYLVv4ZT+9FT65zcKpzKRKUyvDRzw+cRYJd6iBlhdLoh9qlEy80Iqf26mj/cPFgY5JymihTUjjm4iNOTyIzdZIUFMKzkFEyxOHIBFxAAABPEGaiEmoQWyZTAhv//6nhAABJum9o5vKHo5TDWIhtkZqL7IALVX6/cR5GyNr1/iph4bo+jLu3b9Y6tMSly2cCBWiY/+qAKvg1BXcSC2gv18yZ2TkL7wpZ6b47XMwziARWT86YWVa2jIPHv5A4hrb/GOFmiNSQeDJelfK8OiTeGPLyGjXA1J2qNkgwBmFS1Pr8FqVo83z+Wiv5do6+4qfRmdY+NsQYjVt1RX5g+cChhkMvfFykbLeo9KI/SFQ96tZAqZwWK7E+BoelLdh4pOL0+vNs2PRXHQQ6nZwl+e4e4bWyYMaLw5een2BdtC4pvA80vE+XVeCnCOApqz9ts1jN9DAtRVIbxqRgEBByKB/Cfoq3HIXtfSuiqfpUfkSfiNPWtyqsfELJJGIO2hpKjBotqUUjwoVxHH/blWExYEAAACqQZ6mRRUsK/8HxsHN8v+hozXSKfBR7Gya37uhK/8SAAQklmkLXsVu+qYg3SMCk7P5Ggo9QN//7NgoRNRReKOa6iEiL1dtOyhyO+lXdKRnwp5kCzgTbZ96DZye9Dy4BjD3OF2p+6Uzgc/x3ytl9bH1PgQKJ2sKqMfD62Ool2rHyNlSq+gIJVb5tTE45cnpWZ0qLjtV4ZAOb6dwxDzLvBvVxhFlEI4ekJ/gC2kAAACRAZ7FdEJ/CTLiBBPwrJ3/WXo2xrEgPvL88xLgAEe8fAa96rRtGfxPM5CXBqsO4X6RJ6us94wMwzjr2o0fsxASwBdh+tHlONxc2LbuVyIvS7BHNHbuhIk33F4MyT7TgaL8gaqkmfTUB4UqmPhuDq8s4AjdffylVs653XYyNAsfI3hY/HcHxmqZTB2dMbT5ewCXgQAAAJwBnsdqQn8JQQYNw/Liph79eZdavh+iXVprse1T7jEwBw9YcAB8jewvHGAij8sEJtN3z3t222JnEvBG4S4LMVpHjYQcTIzj6vd2tb+ryFCNAmIDUY0ZoaWXYh+5ziZzYxlfPluwpQc9jARg8ktSx48/Bf/9p6Bxckbi7sJ5alZOZ6M8IkJbh7TqMmvd5hnwHi+tZfHSsahX1kJMAbMAAAErQZrMSahBbJlMCG///qeEAABuX724kv+4CyQA4uV4lDWOCJyZiVqR3cRuOO8z4d+KhWAuLa8f9zVeHP89lYshE180EH36MvuT/BKfvbuiBBWMLIBoIlfJI0FMd8JbTipWo82Ic0e+LqkO0pjsZOgpMdid/YQSwWMSIFK0FEzBlmAAsWfgHYWUe6QsWaX4NkVjCNS7L3HDG4E5g9wxuS0YlfuuS9gEj3UxWH35zaQpsuzS7VYgp8WjvOZ9CcQXVGVhxtLIFng070muyn3gRCO2kbENnnI914IyYMziRbgJbfR3EOUwKGErfEU7TGPb/1Kdxix9TVqy63lV/jvA5Ib6XaAKB6L9LZZE90PsCCBaIDMkJQducTCa9MSb41F0lihx+/Cqol7No51yWXcAAADBQZ7qRRUsK/8HxsHN8v+hozXSKfBR7C8yKD3ulG4uo5/m7OgRMxuoEX2lyQryr/N+6kmnsdSPHQAQbuwMEWFaygftKmz20yApCrA4Yrq1+unnC4o03Sp9DiH7l1MeV+fbcFx1OTEPVjAKyk/CFkq/cfjJ/pDKral9nW3zYif3hboidL+QNEv/k+pTBygzcHZMgsAvf53pewrNgKvIO8XIPYaHk+gy0K4+EavBxg5xdAvTMf/PdG2FnPWeYCfsooBdwQAAAJ8Bnwl0Qn8JMuIEE/Csnf9ZeZiWEoMZZxLybvnwRtYJqdeACcehg4OOiX7jGBAdMeHqomgFmOEJp8RcWfa1IJehNLMkCs1AmKMUew6T93ftMHBMyu1z1n31FdyJp9f7C4W8+mVPhriRr4sal22HPJR6ra0Tlz6RMAy55mpq+aSqfuRR3FgpU1JDhpQip8Svwj4uIJYCRMTOdTOBkQjYMCAAAAC9AZ8LakJ/CUEGDcPy4qYe/XlycGsrctVbnOUz1bOj0UCDTBAB4TbdBPZAJ1B9f2OP2jQIOj+OHhCdKIcOp4hmLb2rruzhFyu2oyIbRDIEEfk1NvPc4MxsZreO67I4qTD2bJ/kkrr5LnrhhrEh8v23h0RfP0A1fJuBYcRbjSHljaDIvMG/RGnj1U2EjKOiuG8WTHRRIXyPG7t1y7VdCLwRqD08xdamMkkKqQ4pExP6wZJ5+1QpkIA7hBPV9APyAAABeUGbEEmoQWyZTAhv//6nhAAAbvhPMliFE8TMxaAIznxl/qQcb2Qpv6Zr4++jdK1Uhqg9xyWYX8pMqZoXBPb6EDXHQ0FjK6JOri1ukqn7drgOzcWXHG8zAwadpcN+zMDUQA0pF+GRBdio3wP1E4KrnjZmzurW/THyuJVQlV2CY7AMIzi55cN/iDzQFJWcTzZYjp/QBT41cTCRv45LYQoPk+UaLfyM3P/m3XFczJ4AIG6efiWbA5lNd5PBw8OmqPukThfdPK89ivkQvqmLPpeK54/G/oR7gLRH2iQqgvkC1dBhG4HEBMh+Kan3accyuSxhoal5MMwJ5yJvOnCkkY6T0VOTsC5bmi84xnXlxDXToMAf7xEy7ZK8E3rhX5O2tyzCR04OGLhrZ15b4o0CuWMfkkySKRZHRD3WjjrH9fuTt8f+gUo98hveQcF6dquLYkgd8GuL3xeSq/RsNLhygYYUEW6lER9KKLdK6kxUTDvlNAM7QohU8wIVoO1JAAAAzEGfLkUVLCv/B8bBzfL/oaM10inwUewvMiiTrMPj29V4RH/2RQALVbWX2Iim7Ago9bInEm0r1E67cKktMfwyeKzsaaYjnA+lxbfkizj9us9MtKk8MeZp8+N8VgxZxCdlD8RhatTDX9N4KEINMH2wCHc08huIz6tu8ZrHtdHGFYEcJlhWGaknSzQbCK+RXK7hDZAi5et5+cg/16qgd1bdCQpFUEh1/J9SM9MdA/4ScIrJQHgV/PeYCT7iVUPq9EN5Rrp25cbOTltzy2IDCwAAAOMBn010Qn8JMuIEE/Csnf9ZeZiWBXhxPkLtTKWPqK9IABbPKCTV8y6oi5GTOBRiJzENSy2kLHTdNDjg8s0RnTIISmVlWVAVi3nAcon2BSeZrltvLOuWWlbPvxi3dOeQhxexoZdaJDmtSVtgOo5iE2SrYkJnGj91NEqwPpUNvSlIyWqTJqnPVlqDWy8mvEzzWouR2uFInNT3zF0CftK3RwR9miBGBEzqq/fTX8AOqagAW73EMSgnNiEaukDoJ5DRdkj2OVB1H4XK3kTRNcdgDzpCDaxAgLqQFzVdHCKC9Z3jJ6wB9wAAAN0Bn09qQn8JQQYNw/Liph79eXJwlyuiUWbiYAIv7EUNdI6mtRVlStSqn5oDmglGKLEY1Pg86Y+kylwKPawYtz3F0ZoK2NZCuQ8Po8qFkB3F3+2Tc/J+OAh0WJ1q29VIvvounC4QLyh+uzJZqoIoFSan/s6gyfsRdEaqfHJzlK0OkeUZiOrbii7AMSfphp/lYSfxaTBAcGS64aY2dDVewCWwEXbeRkqIPfAN1FdQY5/7HKNVx7RJnRBL2w8o/WW5IeHTiCduHhtamQJXsUPaOJTrg8enEnuZR4bIMICkgAAAATpBm1RJqEFsmUwIb//+p4QAAC6+8Jbwrms5U3/2Rd4LH3eEwWQm4tphrmk6gCMbQg7QttuppVrEwFwglgrdjZjllsR5uRvc3FVY3yP3UY0rfDK+EWzU7LLAqukP8sIUn2uLup/VO4rUGrf0gSLf/sjL6xTZrrZRT2FS0hHtMA2edZBOSBq9CtnKFm1Ub/BMI486F21NceC8iOch7D1fllsrcnrkIsjYUYh6g1X9VN0mrQsEtOxEtg//04jnK/RV8Z72xsdNb6MU7CjT4nzVelOP+q58/TdX53icJn+d2rSIR0VvIqv2nBYuQHM13hx7VbIXokcSJ96FM1NFLYt/vOCOZlFDWB7WLfDYT9pf+u00J/9uvPeIkVsxFljtKdFXRaUmea+9Hp2gGfbgoIySuABYrEY6QFI8axr+kAAAAM1Bn3JFFSwr/wfGwc3y/6GjNdIp8FHsLzH03n80+7IRlQBC+rsN2yACy73tBx4dAuFaxcU8Vaw0Xg6psEDwZT+900SMU4/7UDtHA5HvbKIE+diFhsVYqJGoSkYvYvzVv8qk+0X1tyDr+gnyYU6/n6QpOcyQD0k0nhAic3Cf7+1TZJO5hbrRUXe8dT1C/yL2a2IdEyhDHOXI7ZAd/JxuItLEpScouNNE+CA8ifsjpJP2gY/HYToEIvRRm3cc2zApeBbN8TindhisaY6UEBixAAAA3wGfkXRCfwky4gQT8Kyd/1l5mGIeoPH52mJTzbyS/FAHPLIAoEuf0CKr9RLhvVoBKf2aIHvIN+8v1YqfEQ3Y4tKhyMAqR7zulw/0GrwZNybzU8FqaVfTwaaZ+xIIJMJMYl3NcFEVLZ5ZFxwvEOicEU4y3wsnbMC97fCzlKwlnnTcjoC/iNyLEgBS9la+28GYIjlE/9leV5W+Zs1WoaUL6icn23wneZaf05TnZ2vXz8PcWej4a82FydZUDIYKZtASPlWZHjy2eMWotrYQuTMgRFW1DbtG0pQcw3fyVIHJBBwAAADUAZ+TakJ/CUEGDcPy4qYe/XlyQ4rbifcDEpwXT91mSS8gFhu3/qAFS28T0J7wobyYCi0sGiyDKExtOv/JsRdfSdQOGRMsxV8l2VMg6YiYtVFqve2Q9h7wK7I63V0fLe+Xq1H7RG0WNbC2vzuWpPn1KauHZbgbLAsGiW4tU4wGNVqVrQAa3AtTZXmD9IMlZPMiNmc24FQlQlIR5UVXEgDSrGz3mqSD5c/S1m4T2IVjmtvHTKRD4zxfznXovPBUaBIbfYVwRZxPshKbebDSpz7qa9iAwIAAAAFSQZuYSahBbJlMCG///qeEAAArXMu0c3lDz84sGWZIAIytR7opTyB0y/DI8D7WmVq4/i8oJm/bTRMr4rIKmx/j2VBSWo7lXxZHX5msnbYm8wmP7WrgJ9KnUyEU+lDjTTm7+FnlNL8IrzwUyzPg4DZt7Of4uHpRlEXKeV68Vl9Qwwi1vpskgu85ZUFepZ93VINODaljtekkFhnF2AK7Qs4QtYB2gqi9+qN4U8bNBiFs1sZIE7logIFHbzBjDQv2M+zb2l+paH/NGrD+0QCgBdmmIf8Y3HNP7PpjZTquLTjb6Ha5bmH4iHfZnqpSGWLWlpouFlhC0/nFsqR6w8+x2VsozDpU+1MBk5GkPKsoXf9Jr/44Sn7U55+5erAwo8D834nj9BMivKuIlMerHGZJ8PE907Sivgb4INhU6qVlz/Z8Ce3kgDVNqZBssGiAzuiQaY7CqpkAAACnQZ+2RRUsK/8HxsHN8v+hozXSKfBR7C8x9FwTQDemFLDZkcCtyfxT5Z0iEzj5QOAATjZclodp8RNnM0jyzVHLVczb8ldfXMUqltUmiu4y5j7KHP29m++nAtQHb9j+0C0oYANtK9mHyw39vcMzcnM2Z94cJS+Tmwmw3VH/RfKBCnN2cU2oi8VUUVh075zvbX8cHX31VKh8piOtqGoW0Zyf93PGtUJA3oAAAAC2AZ/VdEJ/CTLiBBPwrJ3/WXmYYRZ/kdk7hNagBuFfPlWeRXzGrGOKT5ze5RpTcTATwA49aVH1gw9qzzU4fs4EUpDhzzc/W1q+fCnJ4SJnFO/zvlMpsxmVWaOSVr9ez3RNJ3xQ+DD9sDVsFPV/VO3vZMLw0Wpyg9e0zNw9CdL93HFVqKNtvcyjP33rA4XOpmqKieGqnOd2gbB4wisKw4hqmIQAZatrrOjI+5Zrn5t/Rx66f2AA6YEAAAC+AZ/XakJ/CUEGDcPy4qYe/XlyQxyWrq1hABLL+FTIMwbOGTBBx/EPbgXlnIrSkDDbL/Zg/aCpaY3hhkFAsa/cz/Pp3rCnCvoTqQaWWLG480N54I/G9rTZtLUU8kXsz9K9FaH14PnZvBShgGUFtzK1qBV8QBZGeAXn4W/GeCPP3KXcj4eNQBjKlGtbNBv3kuGaJIJy+5KnElBh7oqB68nzitbQTneUI4Jf6gF2LlQfHbFAMENZxAQbWlfs2oAdMQAAAUhBm9xJqEFsmUwIb//+p4QAACo+8KCbcX4ANkZF4Ux1ZhTBiTxIGNbOWOkU5IYc9sAL31H+KzrZ/bGWwC4KAM3hLUE4UAx9QZYcNs9AL3r8PNTDFjgVB6AA6wK8I1ZCv2A8/NGFtv1vxM6i1zv+071x5yPTDf6SQkCLbyBl7I0S/v5HwisQvrK5MBl78KtT9z7l/wcsHP1E2S3waSVQ0iXZVdElSTjQigaBAMxzBfzoQAQc4OJdn1fDCQXeKp/ZMIYDsYYCc+L7ukF2w1O/HncnZ3OM/CWTN29AP6EKkg3F5U1aYlgOg7JOx6Aydkvj/twcZzq+tJGWwX6GAlJEhxdAov29YFJ6pvM9p+Srljc3TwqOvaGmW04znHc5KqIxHqN0+6Pj8KNzzTmEWtNMvXILNJoMjwBmBbgacm48vPqASoDTI+40A5fMAAAAxEGf+kUVLCv/B8bBzfL/oaM10inwUewvMfQy7xWnKYgAtMyfUtIOJhob89qkj5WZ3j36X//8+bizf5KNklXQ1E8lGyXTpfou93oWPBPIIe9OzRuPS21V01FIR5LklRO1Y/AK/LDws0XyBRVzhKNu9S4dKhCskMCC/I9VEyC178aAw2WIiisEb+wHroh0olmOvTCrbsQJ6ooEa8Qmo30REPgnkbUuUBJs8Rdmpy8Foxxlwg9OI04NHLVFHB4Vh/+uPz2gAfMAAACzAZ4ZdEJ/CTLiBBPwrJ3/WXmYYLya5Kz2Iizp4g+BiKuUKkFwce9j6OSQAk+mu7g4FOxFbVXMxbF7qinPJb+z3sHgs/zeceMZe5K/RzB8BMcf0+NCaLeFUPiOpG0RjsOi47mBPPtN3d63sRSdEP2GIgBtacJKuzs01pMe3o5jc3fx1zNqpky6b7yUh5z95MX8T1JMH6cO/+DRCRYdaasm/5uZ5Z0f005rYEJBeA9p60jzArYAAAC7AZ4bakJ/CUEGDcPy4qYe/XlyOtlzQmABtd8skYDHk3y0et9Ot7UnZzLGf0xdZDZSWA7k36doY7m3g15g8ieqa4rSglpPyqKrLaavX2hY1x6sWihF58WzI9tdJ9Az7WHIi/tJvMzNIYiuowVT623qcHjeMasz8i8Kvbut53W6Sdm5mcukJPX5GGYEOv3TorBSBmgVN2K30GC2dVGzbYtWm0iZEV4zMDp9hvtcvtzBOlnj79c3e1NKgGAbMQAAAT1BmgBJqEFsmUwIb//+p4QAABFvkbY5p8FmdSKQ/8v28WH+o5TffrS8RS2TQ+AWRhsLTvdd2ioU1GfXpiT7HeX/nTqzpWDIk9+3CvREtmKvi0InEkOzhMvqT5a1URvB0sDmWjVJb56S/CeSXSDeXMgO+qc2fYAc/9sxZdwTEQd3VoB1hQb6GmdQXfmUfCezPSAhAHGrNkcUZhb/udS1xQEQGsLEqU6l0DZ+XoqvPo1ZiUPNsZhSaqmFtKzaApn5XPA+cRZ3DtwoCtxs+jmP15oRzNzYnobevnnm9FzN9xhNDJfzqhtDIQrwvHTapyxOHKtxUXB48KOrXROlUA0tjh3X9x8C1WYfD+RpEyJqMk530kG7YXiDFF0xgVttGyOZN08bXaGERwBlGrOiONXbQGuPCx4KFkE5NNfFBWpzKwAAAOdBnj5FFSwr/wfGwc3y/6GjNdIp8FHsLzHwcjy6pMDhw4AbTQhHbSJm5LyhDkCwOxmsBPRmyWE+kyDEaYNXhLpzsm2dBgWFZ0dVuC/h0cDz3NdNtfTtQxjDRhAGtTS2xkdyhOlEP+HsSpmOMMcZG42Bjxi2T6y7fjPF38PCh/z5lHdJEn6uhQzmBKfyEP+T0Z1g8+ORZzsfuVGTDslNZIdU4mho+mzW920jIftkWuBJSxaHX2rsmW5MzmnerLMlYVmOeTZg0WAq50mvIYmxoCs86P9AY8EhIMQxwJYmNOI/IK7iyMwAEfAAAADPAZ5ddEJ/CTLiBBPwrJ3/WXmYWNE1qnACNVMspr+ASYKIujZfcVDYCXUQA2tORstaEFaeLuX2Y4XMTPV44IEXmCi/HN519HhUlRhn15xnuiRAYPUcwhjxwcXqHNQQJov1rHZWOYfpG/ChXCMMxnHuY+gWk4GYb2LrhAlgrUfmfnsoRgpqDujpKodT6MP/JoxZUbwRtqqx71PitP2Ng9EAy6LlkKMnJXZfCfnWYzsj7kQWONGAUmImVR9gsf0SqZz6JtEfpD9H9A4O1eSHUBvQAAAA0wGeX2pCfwlBBg3D8uKmHv15cjtKTPmtABqHozuaL2jtbIAzOXIXPZdlv7yWeYYWPplLILRPjTllQB1kYJvcbQieYpT6g8YNLQPNu6FbS0Div+aqhsHKP9HvFIWZrEwAVThfsBpElir2zEgyWWD+eSWVHEu2GUvVERG1iySftnSp4Xglg/EqXqfxwP8AlQvX8liwxk2vwPWEvC0nYzTSWiw2tI6ncHbBIEanyT66eafwDCKcjpyzGEdI4Zy9ULC5O7ZuKaBTAO+48SNSabgqcD8+AW0AAAE/QZpESahBbJlMCG///qeEAAAP7wnmSxAbGiWGZs3rtjMIAWctgzCsA0AAm+CGa62JBA4h3M3sYX/S9J/wNYbt70XSm0R4NJqv5dPffs3iZtNsYFODIoJklHDfjZU2c/Ojd+HaafhhGdkXgxX0XptMtm/ZeW3Azr0LU32CqBg2tog4RJVPAWBsf6k5NVLy2p5oQPqAECZs9sjmwWPyRaA1pUlK9LvW4+3rMfXse1cVn3fDh1i5B+gj3GZUA6vXxrraV2WF6bAuGVKG0Z1nNoUT5vRd5J2FWeImbkzpTg66diX3FL3w/H0EP7jQkyeyQi/fI7OA0QlYXiePjkR0bYM4WMKTmzZ/J/dQbP+9syo8SAn3PVpxnDFGLVZTByCUKe5IkAwFecDKXx1TKKi8nq8+xjMtsndowwtVAkM5WnLk4AAAAMxBnmJFFSwr/wfGwc3y/6GjNdIp8FHsLzHwHq7FXXDljiGQ/5Q/gwTP/sXoAa9I8DSNDKvhhUbEsCDK+cDQqNfQ0C0U3ZrlDhvKPCN2eHNwt8bw/R0/+tpJOFM4DjjMFIHJJXH6NG018Gd3hK/fl4zcNtXrNKr+ol7cq4rRerRurI+6hZN2qzLf7TBsh98XqZcJtVjHn0K8l6n42z/C9SpGrh5ILn2bu/0jd6ooOM0atq5YADf1tmPkeDb3mOX7Q8B2zE8jGScqszhAi4EAAADeAZ6BdEJ/CTLiBBPwrJ3/WXmYWAeGA35/jgjnODrH4s4MjwAGzNHXsG/E4jfIbqXTlIfZ1cfObsi1M+yXv/8HQ7qsDmFmIqEYHn4pXjeSWKfYoEvYyR5vuGGDSRjCm3kuunv15lLmOixLGkS5RWvfNM7kCc+654rwRrTWUNPHEExaCn13xVG2S8xtCYDDaCIYyll/zeqyniJZb92JUO/I4hY1gxeK5SL9+GbUsRgDZesWdirln68fwA4RQ9GApUec9J8pgvCW1Dv6QQrDwwfr5khSIFYJtdV6+rGVQAlYAAAAuwGeg2pCfwlBBg3D8uKmHv15cjm37/3SUyiCm2NRAjaYzz0aABXMeA456lmpsYCCbT+xUNKgrvMSqO2+NZd5E5NqcCrp9fWNv5SfHB22FbL5J9N8PWBg+iRcghS7vRCjes7FUyJxYlYlU/C8ClDpT6snfIASOrEOgYqMlbvFUGGZWBLPYdN8z9I8wZVIUqpWDG64d2JQwOyFwIoPtU2Z2nAMac/JH8PHzs06n7oSMEKb4hhXDeP2sHdwD5kAAAEGQZqISahBbJlMCG///qeEAAAGT4T3N4AC1PpY3Ol+ZFgEboySdw7lE4OHIvJFWoGMXyKn17b2idSLNsDvBfb5pLi68+C9StbH721GKJeNhbuipOZmoWsAVeEhA32buBsG9BM4OkCOVL1iUhiqNu2yCjV8Z16os7LXY0M7bpOB/nhktTp1qNC1ky79uWXnS5yoKF39vui6I5aYIeej2to49K3SDnXTtAqqbK9+0Pwq9qg1Q8eu+TA16N4iDCv0ox/ITbPt1v7SgsetVKpy2E50k4KsPDZ/uRoLW0qy/qVD0CEA1gIPOzW4DvbgI7EMJs+1NmT5ArktY4rES4x+UrSU2hwqiGJd0QAAALNBnqZFFSwr/wfGwc3y/6GjNdIp8FHsLzHuhMw4e0oqONAidA79GPAJpn4ujREk8/AIrYAWtmHZTJMyEJUDCWS7uqQISOs88hoc04Aem+g/j73l6pborRzZ3x86ANIMNUr2i7Nw/gzKO3y3qe8Q8k6iln+gxIfj+ABIUb6Yt5YuJbO3nuX7y0EUeYSujka1Zj+joFGLvLL8rue5m7bGsOtk5ruykgj+zlPGSqQWn4+uW9gHTQAAAKkBnsV0Qn8JMuIEE/Csnf9ZeZhUiLNlWZj8UAJmKPwv57o9cYwIFsOxd5se6Lbm6ZHRE2eyqLMpaKgb7aSDTiAqIr0hBOd/JvpXq+fWdop9GE2oTOi3lThWLwsN0aL9gbWfPe6ZA6dD4ulUC4B8L6XHdLURGe/9k7+YEXPOUGK3NtKAprwLM8zeFKLkhJdGHy+/vxOxyYqBhF/QhByNl00/1DUvB3a4EwFVAAAA6gGex2pCfwlBBg3D8uKmHv15cjb4kCbgXs/YAFoqZSF638WQ8cmcLI6ug1LZg78oRIABMH4zVYI4qMt4h/3Jn491QHcnvdhysV4xeM4ehQgtuD7HcHvfkdsGqSUUJ1dWTGIwlIMTufhjiYVP8+ITMO1jzi/fk7jK54ym2MR4Zkk/edJkjrvIOVW7eE58l9S9Uk6CWus/7A/5tQuHjXUjTrcPK3hejRJO6DEjHGw7TVV29JuxzaLE36qlBlUE+HXAcgL5zeVfd/IThdNP0mc/XbC26+nsk/aU8AfbVheRKmCC3123KV32hiAKmAAAAUxBmsxJqEFsmUwIb//+p4QAAAa+PDoAHFR1k+lAjzVN6FNl1zADP96Qekmg6Akrhzh54feNZvAmEp0VfWlpmLCMm7rWAvmwgVcXgSYe1ehxTJNx0Uo3G5cVkjiPrESlTacz1PE69O2av+BMl7UfDysRWWL3A+KUkpRkppb3I0rHHHNgAjoNdVJ8dEBnow9CtHn+rpo8i8dAP69e//4eSq1rMfvHSWonaLVPh1FCKfN00F2wie6ZIX8cQdpI14I+kr40KDfjBcCmzUU9+QtGt9fHZiywG+YyKkHkClIGpoJAyWSLZxCL7fqXsRG1uCRgPvx23d+XcMEgxptpcR4E9Zu88/+9kS2bgbZsSbjT71qQZ6MTuqcwxolxA0n/+VU0JztR+DD0DfrQfKPIukIo1WBEcxcyz+Y+vyRAvB4A5lC5/NGSvRD9EU/gdro9IAAAAMtBnupFFSwr/wfGwc3y/6GjNdIp8FHsLzHulNe6GgBF/Un8l8XQvqJs/939j5gNNsFF5MphkjW5sfWVX6sZ8+Zg9Q4gu77Ji1a/+DtLyzVuBMNkpb8JTLlo6nZKPbo/CSt4OwHopnoukaw4jjXt9yytwNID/xGuAy2/XkMg8vC26TQ8ELfkCiavZ9/y5OTcKljcNvFtzruoYuKsLdFIgBCnwNAFzHM6rqkq1TLcGNKxu8rToarhyqw78SqV3CKXmr2RLDR0eUGh0DARcQAAAIIBnwl0Qn8JMuIEE/Csnf9ZeZhUq3bZJgAjIhM/EZO6/QrdKkKhXriJhSA/HwYge6pLg9zgd2z6Fjv1IIsP6nnRbsXmRbqP4zUCeoOxq4ZNWY1yS/PxCXI6HyRIA/KIfwbKPC7H2SvJDGR4+MHyeifPr2Byoif8Igf4oZOdSi8SIBEwAAAAwQGfC2pCfwlBBg3D8uKmHv15cjcY06YALDkx0DaIj2kxB/HUMMGm+b7bslPS+n/dKanCFDradengOUIG7XBPbkRGkciOLl/e9rtWjAnMIzTNF79uOAzUao/K9ZaAl9dP3SXcWDKPYLQjk/FObu4i2H3HkDgJsb7xjCxsCxScTsN/uDkyXtKDfyzF2R3wwUu9m3wdEy3tKxO6mJ8jr/dZwtzcFtXkvtMeDuJE0nI3/LRN+EitMPrd2xipi07ZwdvABnwAAAEQQZsQSahBbJlMCG///qeEAAAGx9lTFE/VTO4aDiCV+xpB1qXB7sVu2YgCkX3zPw3Gv5tWHBLkYQZXWe3CPnXuh3okD0HOKsY3AhygRmZOFugm7z3Djq43nY55HaYKW+/4MVILL4tI+DBG/15VgFs/+B+Vsmw44WSLM4mq9bPv2WFwVlrTPKBSwnCCHg7Cwkel74rBX7Rq2ryWf2KVp9JnqNbTq0p1mE5Ya+TfGODlX+Sa6DlMHa7eEOxlShsLMk2/uM4uLHzutfgQR2z7yZCf58IRCVB04FlC6oZlOIQ1dD/7T7UwgsDvOnTXvUaOJx4X2ew1Pig4Mcl2MOkzFw/DtCLYOfWTueJAnOsWhq1/Y3EAAADSQZ8uRRUsK/8HxsHN8v+hozXSKfBR7C8x7pWBv04bIoA8RmyGsNH+LCxWJ/9houiuRFdSAY/IB9rwAO04Uq2y4hvm4W1XpbWDN7/wBnitYJ5WQYb7RnSKToopioE46PtKgPk24F7+8g2QuN8VvquThqEIHU7fgNqPJb5ig0Hna4w+NxiecJq+D8XTGwe+AfmAkcg6+QiUMBSeO1A7xElPRa3YksYYyXUJSUUVA/4M3TuZx5eaizZ5mgAiRwisJYtGCFmEia3K5rzheOd1IDMmoAFtAAAAnQGfTXRCfwky4gQT8Kyd/1l5mFS4kWngm0jmyY0EiLv5igAWtLffQzKQZJiokbjKDtXiHMwKnIAu6jrRdzKw7IiFAFM0TxGNwkMNB9iYw+mcA7SYBMmwJBUhiharOHrl91n2C03uyZ9wA9jaZOHrqoJfZGjNbQG3Mymkn44Pz/RFWZhl8FhjnurfXuvdR4JFW7EV+SfHi/U9CkLIAW0AAACcAZ9PakJ/CUEGDcPy4qYe/XlyNviZuvukNIvConefvIgBG9zrMIGFZUnza3OsMR7Hot9eS8Jm4VPl3BiXkRLfvyUrCQsPS9dHB93MH5w5K8fDsDsS/dlk0h8FX0gn3HeuA9yrgRMuqqMBrku5KQJjytW5UY28L0qXoKncHc26Cukffr5ehTzd4HqkkaWk27CWIFzHKe1Xz7GdAKCAAAABQEGbVEmoQWyZTAhv//6nhAAAAwJcnPWvHf53AHL9rm8pS+CVnrwSzcZiTn3Joxl1+CrHApxx6EuIa/fZM/L3jEmg9dRXg/fiUiBUXUNTtGWeisz9kyhsPltB1c8lj5t8M4JFm27UBHYx1WGePpj+sa/o8vUy+gealJ1OEZHip5oVk/p9t2daVHCk9y+/pyL5RkS9cRhLUV+Gpy5DHodHzPhA+f9Hb2fqO1kpzhIe5zAq6gYpUvNBmlSNzPcXhOA9V1SE4JjkkynEadAQ63oyU/Ecs4+gKSenZFapxAAQq2RM4KJiDcrYBF8qPwEf8lcaXbtD2b5EmTNSwUIBO6Ws8N0yBqc3QWJ7dPQHt+wINVw/ju2CaZTADMTLPbRaUNPO+sl1wOH/fRXA5GaUwAbjox5Yf/Kg6EDcpiCjbkDZO+DMAAAAvEGfckUVLCv/B8bBzfL/oaM10inwUewvMe6D60UqqCwpfNxnRF4WiR1WVAkDycTs/eZDQQAtvO4oe1QEto13qywjzVwGGKj1bZ2/lI1WMoJ6+ga0wtDazds3mw3waNV5U/4UhdzoalsRT19XJ/y2BjYHklzEvyvEk9A9lr3IKW3wGNWSBdlHDjJ/RuN5h/WoDD2ErVlu1C2mELpBIotOhLu8P/MpIqIhwyKb6KBm/1qIOpVW9PxgGAR5IDUhAAAAkgGfkXRCfwky4gQT8Kyd/1l5mFSYtss9yNqbjCRWJ+PgLIjakskYA590gBMoLfA2pj+m2Fhlxyl/wHG68OkENnLZhe7ca8KHLnohe4EGOPnwhlwxpo8czkoRMtH+2gRFOHAQ2Ku35P1S5+rAHEOBtw69E16lhLTBDNuzo6Ge3eIDzr+iUl3k2zW/+oBNoYekACTgAAAAlAGfk2pCfwlBBg3D8uKmHv15cjb4ms5mSBMjlm/bTquSQTjvUH6YIAPw9tvZiYTBcStl0McOtn82t7ETA29hceYGsp3m6NtnzchZ38AEw3kjEQWvlxgg3CaUcXc8AcieCzQU5Np/wn7j/T68ELhFf3kZpC5RhDMYbRfhUgJ5FuKcrV14Ro5NK6q2MJFj/zS478QAoYAAAADBQZuYSahBbJlMCG///qeEAAADAluEmeW/sgCp6/+Fb1pf+nu3yZN3HYxs2xIWb2H2xEwyP6+KlbRh7v+Mg6wKU5Ulktn2PUKIaxQ7ERIxOaCHsJRXXsgkMj/ZHwrWs+r+aRWTlSeW43quai3f6xswHvZa8Ix+wN5U16guXnXZ9KzuuHf9LJnoKZmCYUdVtZQPsVubcyBfS3g9UVyQbzlFuN9aygilUmPQ2AmT5ia3LS/ovFb2u7oA7mw/erRn5VTqgQAAAHBBn7ZFFSwr/wfGwc3y/6GjNdIp8FHsLzHug+tFKqg2m3Q3n0TsgMhae531vHyvypqly3WPNhFrA6Ys6iYsNQL/ZQoKGFZOREqAEc5c0gualbS4lh+JnYdX81OeQ2Rcj+o1F2mv8BtfSkn5eecWQAQ8AAAAngGf1XRCfwky4gQT8Kyd/1l5mFSYtss7uYtnAD+EAJlFSZ+I6M7gwAzohQF9wuUcOM+sEdVi/POdZadZugNQZAO+sU9EnkGfaeB9s9eei1XXfP7X637u6egEiacif5pvIoh15sILbodBeJoprEUJFhSBcHXurCDd7HmsJLk+o1qkELnRnTJmJkonTgeRVekSDeSvIoIiMa8nIxsWV4IXAAAApAGf12pCfwlBBg3D8uKmHv15cjb4ms5lQnDqjP9L6YZAEDV0qrZpNTlJIGa81iYFaLijZJ4ATV5EFdmkpZ6+5Kk8O33pNx2EjEt6XuyasMc1gdVkpaCJJRoMD8Fnl8PsDScxnc2npzotw9Cg+nJrRDMkPv/7o3eWV0Ebgy0MEkXzc3JVKBx+vHNxd9zu8vaPW5xR8I3BlUEZTMt9ZT6SJIMwUB3RAAAA60Gb3EmoQWyZTAhv//6nhAAAAwJasvynfskAR8E6JbU7ZLJI++DpOIYl3CScY9PXD6A4HL/Bx1TLIQ6MCADXd7KQnaffeqOHZHKd+yjd2WtaJ2+cmeNr9AN7fJQ0pJt6+fm0U+475cJbcPpEX9raYHUN7At3jpFIqaAGHEnnenuhBZrJCdRHytaraeBcAQlFX5sCNA4Kb0pdUt7EPSe2BKAMdCtviZgC2J5jDxbI/2vNyV8/aDlOARLVsjxmvaw9GV4HYR6ncRmA8hySSUXRNPSzG+Z4YuAD5RKtIEvpTv8H3IQhZrWyvapHKmAAAACoQZ/6RRUsK/8HxsHN8v+hozXSKfBR7C8x7oPrRSqoLCl8rC2H+9dKlbNw6LPwKAdRv/Vd1fP/XpGeoaagF1kxrLiKkic9wbN7OWoeGKVIRHOVkU5mmyfPhayJ4sAWGcSHjXSLvCw7raQEzuD3EZiRXG4JLGVMMTeX0f7XBeaVeifZFA5YDjL3xLWRnD8sSRglMabQFbNN24tj/TWkc5aMZcEdcZIhaAI3AAAAjgGeGXRCfwky4gQT8Kyd/1l5mFSYtss7vH/n+8G4KGM2Jn7aIASxkKrwHL9qvh8nBkucUFuB1f2LDTq0tOdvxDNKqkvJWCpXU6cYQfjC2oHB2RaaWzCSun6HGJfcIyCOSFGEJkKZRPbtv03WlpKw9f1X+29MEc5nbn/qIfn4vkK8lbFpMrRv4gJo8n4AFJAAAACFAZ4bakJ/CUEGDcPy4qYe/XlyNviazmVJOh5gsC9KAGZEAD+dqCTQ6QYKeTvntoMW7FL2m5CaBVTlIw51nxjva9VznQ+7KBIK1O8D7KEK4ZaxYVulTUMgz7B7DFLnqvfgvvpJyOVeX+MfAoSBqlXOOEU/ooRY7ZpHBTen9SuCNMCzekAOmQAAAPxBmgBJqEFsmUwIb//+p4QAAAMCWkWZYsEqCA/cO0O6BIp3J0RxgexHGkaETQVT08f9LfEbSgyYHG9YxeYx2wF78LbA/TdEcLDqOkFc86ws8Xf7myC0fSt8JWPwvbdcT6AuIpRXxJEOgLeJ/DXcf9v4HeWBUNuk3BLiCroubj2pu44zzL/0szijQuq4rYSp0Sivjl7l8ZPR1Uk1xJN94z+nToJm0L1Y0ULMzhennW94yDssPc2wkMrcZZ/+Iyf/ib5mgIqe+pBs2yz6cRlZBZDKoVSOJ52MEbQTSmU33/JegnediTEO4XG1/ZAwdi6iN3AF467xU8tNFEOjIQMAAADYQZ4+RRUsK/8HxsHN8v+hozXSKfBR7C8x7oPrRSqoKLOMNyUqTkdHiRY/uCv0CWu+0TEpNDftxdcA7TB4v9csi39bc+Cnoe5NqZDPHe8hnSqJQ/hpsPl/L9+OotTTnKuvEcWyf7TQIfapWST1mgNvcmQfdzTUetBZuYWCaYLTDC2Z5csD9qTACjUoodmqJJN/vy5ks0lkWjZvYp2q3Q7ENjNVL4Dn/M+fFzlkUECicBXvUqDu5Uqc2SgoF5V0m71xpiz82pgboYYQ27XmOi7nnA+dK8m7IALKAAAAnQGeXXRCfwky4gQT8Kyd/1l5mFSYtss9hVwZooINASB5SkHs7GYtVAAJYgjVuBYOH75ntDDTd2WqSuKoZ2jXXyO0DC6cITW6SRfKaWukO8BUA2gNOzd7bc0YrqdKINqlSJtQoojyeSPdyxvX0e2PQBdjMQRQmAJYbtuMIPrY+qzRqRtIdbz0CliGBxOicwbMYBTDNENDsuDMqPAAUkAAAACpAZ5fakJ/CUEGDcPy4qYe/XlyNviazmapUVxGsPx1cW4tNIo0/LoXrZQATTOcYe6ClawlxapslNBxx0J7RdHqRWSUsAdivzlc8wFUFuEN+cQKb4Mj1BAg7QnmdbbxPGAXFKkvyGxBnrULee5BRtUO3xhzEqG1U+lKh8xa74H4SoqCQi4NqygBF4D4eKZRYkLwjEdxgHFkxGQXb1jss1RnRj/fBY7JdhAMaQAAAO5BmkRJqEFsmUwIb//+p4QAAAMCXdN7WOi7zwzslztRoPF4ALH2YdfwMtSXQ5QmK/Cm770eUltO/c/vyXCC4tenEQ6ow5+eByDAsWN9BZfLqWPmRNeZXTYLyN+p3gpeG1m219VB2DaDKHurdI9UjehGk2Bx/wHsvzr9Iy3NBZsygkkuAQcxDKDQXsq1nqWvuAx11DRoEC+/zSUFrVakCFhkxU6HqDVULbze+OoqF7jxWcs8R7uy1i3a8TmXJGUyaoN2htgSYS7simgX4R+b9yMmsBctdOWgAXdEZNDpaaIptcj12NP7tOrbINFlIh3oAAAArEGeYkUVLCv/B8bBzfL/oaM10inwUewvMe6D60UqqCjO57iIpz3p9M9wfP6xnACatd97ZtmUy+TJg7jddgB+GSBLyo9XIT85miQ8dcgFp2dunIdNP5+yJsfR5b9H89nyyVfF4lUdERVb7LIV1t96EFEg6yzHIWR+A0lAkL1oEXXbCCDf+9I5//DPy8ppcvQGsv6NlyY04i2Cl4iIgUjv81IelxvUixN9augAi4EAAACRAZ6BdEJ/CTLiBBPwrJ3/WXmYVJi2yzrSzNqXv1OlrHY36Zkgef5LvPQAfZE3DPm/58/tRKk4JD7pibznzhIHYto39hcnBEScofdlYBhOc82FECSpXW68CGZQnejUkbrVNNMkcgcEUQNLcHI5X+OoPsxILaMIP48DFUJ7fM3FO1GSWZVrvc6payfkVcxIwADpgAAAAJcBnoNqQn8JQQYNw/Liph79eXI2+JrOYNI0ZxcLnMP037cEPWRGNdNWQMxQgIdXhA8M8/AA/dHDtX1fJmJCuW+LCJUFd5HhIgiyxiCej7in3fHZm0YZYymlyS9sgV3afgPgyhBE7wwBwe8CiBUJQrxw8KuoNLxYtrJ+f+r7VnuIseY1w4xFmsjs2gk1ONCEypZsB5PiABbRAAAAykGaiEmoQWyZTAhv//6nhAAAAwDh7E/69ENXKDaABwzSkbrtOKdwrwpai/29ODG0a32Mkotf+rr/IF+WHEoa7wTmo9WpgMoJBWVoVtAvgLtMHjt3cUbxlIZ2w907t9qqNZkGdxk9Gs0RZpohEtvcGX9M/hn2//cYvwzBI/PaOEVJRFCwEDc6GDkcx04y3Uz6Y4+k/XyEhLZdto5JeNUSzu7BACw3JsBz7rMSa6EdueRnfXEoBUL7kja8seweZfU3Ul7wT3CqpyBeypkAAACOQZ6mRRUsK/8HxsHN8v+hozXSKfBR7C8x7oPrRSqoAyncpJrFHZIg2AELDeK8AEit2b/zqak5k0SppdNRIO4G3eThjWaxisL+xhNh6F8d59ZCMIGxqTIO7/Me/QwbwkaqrQbSz0TKU1EZ2bm/FK1IcCDMIvONvp/8HuvLuctrvWAwq+cGKLLKKxp66wA6YQAAAL4BnsV0Qn8JMuIEE/Csnf9ZeZhUmLbLMaSequH4TpxEUGRRknw8AH4tKp8xVf+Tapl31kkVrYCm4M5yDdeK1V2CchFOdZrQW5x/1dNLPUcQep5lmY4YEVTg0qdOPTe/Oep51lwyo6VZabQ8s0QHVgmDuMd7OoShGVOhqDjOQoI8IgyNhLWfiuwta67c8MeLv10BKGDFOufpW/8lyKk0KSjeRLbMYJKKDN2wBkXjBEFemZ9fMoCEDAAgbkV9QCHhAAAAjAGex2pCfwlBBg3D8uKmHv15cjb4ms5g0YItgkBAixs1QLw6pde0kk9DPquaZ4Gfn3+KzZOOC76CAA4OboThPhiyHjkzhZHV0GuLwPQyx1gU32Qxe3YNfRvyEsbEcDiHYWfp9HfOJkmRP+Cwm2SXmUBLfIMpy9tlL0zfKn1edSEjp7zj3GXKJQgkgA3oAAABEEGazEmoQWyZTAhv//6nhAAAAwDiLu8AMJgAFd8oFf+NgNqSHlgmEv/RKvMUlzMac3prFO6SCIjtOz0I0JaNlIQUDGSAsWg32dcSmLf46j+8wdtn2zityQ/ZGWJW3Fd2EmT37pua0/762jNP19FjPt7siWjwuPI6sdWDnj9Y013cQnVEAxWG4AMfHIU0it0pm2catEmbm+QcOGQFPONgDK3MqBn+9yo5d7VLp4rHOYdkETOlOBun9jkR+VwF0b60d98i7mHbqx0swwDPEKmyHIdvdPOWU3C0AlgDZWsfZNzRMs9UE8Ur9CWrZtrAe2TWQdWVW21yh7pyg/JxwF1Q5b3QrzR/lYZdNcwuY+U0XxPgAAAAokGe6kUVLCv/B8bBzfL/oaM10inwUewvMe6D60UqqAMp3KTCRADb8AaCoTouUDfHkE98hQxtsuTJaM+mei1r2b6xJ6WXJeipaBNAuAww6+6DznuMYEaZlwgbVPOZqC061gKOuUSzSFkZaecoWX4m3uLgZTrM/5bULgZSeapxaiOUd8hjztBb6wX/ZkRuI2SCaqGSZYwJ3fh3UWM/t3/JP7ABVwAAAIsBnwl0Qn8JMuIEE/Csnf9ZeZhUmLbLMbBfshXYwATsckwFlYYTeRQl3ID7zGJGYM7UmbDwRMHOR3SBmpW2ykqFfVOcL4Y9e/bZtWGkj4LNyW8CKvwgT8IhZV+izxenGnFwFiP+6t8uM4jy6AwhD6UMhBp6vv5UbR3ysdgsoCwWxiW56iO9zPBysALSAAAAdwGfC2pCfwlBBg3D8uKmHv15cjb4ms5g2ADETwV7cWC/q2cUTmy8qMSPQpJGz5S85VKBWA6CcCzzt17Hi9b0SP9v/owgAUBn3Dxey3dYBtif4J72P8A1YF3jzUGPO3XBjzXEYgph0IXRHoX8AaM4tr7u1mPUmAEnAAABLkGbEEmoQWyZTAhv//6nhAAAAwDiBX0SNAAXUE7VnR5xLdrHnTFfVnhHXcuNXBGpIfH9X2KsHZqFWXxNxR66+rh+gLshPOGVtgYKquuHGahGof62jYt2nqRmkKQTfmklcrsJLoggrojSyC+AfRFjBbmqXtPCOlw0tJCBnZuEus6X7kwfgLF8naZsEdD8M2AK9eFONxXUt0RwQzq3HIv6/u/lMvyRO/snYShO2xURHFdVMAUwknhIWu/5BPIUFBk94bQKdsBKMasFOPqLGkTSBskjm9NJsjx+RgXoWTk8h7wez+Im/FeO0zTo3exqXTQXpBVsvR0bSynQ/4cvIBQajkMS2pHZgCw73tYdkZe2dl7T3GBf2TG90efDUOnBWnHSualmW6LNhHy7902w3WThAAAAokGfLkUVLCv/B8bBzfL/oaM10inwUewvMe6D60UqqAMpMgUAVKZBoDGNNGI7gAsNxbxdCQ6b+aYo9C3hkD5eHZdKzB2iYTXGIwylJ15D/Cdc9s5PVX2P2Y3Mn9mLmFrdoowd+uku4tMQpJsF4W1P5l6dIMSGby5NckJ4eOVsGXEeNvmI3IcdDTp4r9OANW5DNtJCTXxKCgG5luR/Zl5nhiAEXQAAAIQBn010Qn8JMuIEE/Csnf9ZeZhUmLbLMaSeoU88/RE+r5Qnf0mFFJ3dXRbetJ1YMGrgwAIg8q1571raxfsrU5Ml27703g2xd/dqa9VqtWgQ2NQcvTwjaj1H9IlkEzt7jaoxp4qu9kwC//xSEkZW9k6Vg652WMo7drqz4yLP1xeUsCYAB6UAAACTAZ9PakJ/CUEGDcPy4qYe/XlyNviazmDRvdCVnw85EoKyueqz1pEAE0zcUZTdqeIjUA/i/j0X9x8CWF3mUYywVnUhYSBOpj9aMv6DEtAXb6DYVtSTcOLEfzLjZyPXf6z3o2eOZQp/M74x0siJ9/qwM2HX5b9aRbEM+9OL70yLG1kU06l/lz1Ia6h8Lmlf/NUFAGrAAAABNEGbVEmoQWyZTAhv//6nhAAAAwDippTnx9DvBhRwfgAA3jEtW9d+CEq9iB7j2twqF7wxjTi/LHu020rMo33LMrGRe+DidvsgTC6T19KoTZ02J0++jRuhEWRqngQX678M1Cqn/DVsQ+Iv/lHEXeKr8j245k0EsvBs6HQnGePASnz/Bjvoye/CCqAfzkFNbp07qgVFs5rGW8G1q8vqlp+RyR1R9W+4ycj0HjeTsNLynnA1JMull5WfqP0utq+VbQkyQ6gfg37UYTCudzskEU7dtDhbb5gwgH49YrdlD1ToL1jLKr2oBKlI79YMBoZLLNk5SMH+h19MURJOi8BTaQh06sbNx4n8Q/ikWy20R+0TzgFKzJn3jbT5syztnMUMAMiSVHNfaAZ+yDtw4KMgixs2o57D0BMaAAAApkGfckUVLCv/B8bBzfL/oaM10inwUewvMe6D60UqqAM2DBHXO7axw/CyseMVw6CoUy9lrVzsOoIYW1+GcAAmdoS2aUwtDBYFg2NEpSR6BCZcozME4xBl4auxfdOLbAGzHCatNeQVdwch4hlMwU8YPsofFhCviT0CmjN5gGr0oZBMo2jtLCACuELkV4JZMWbwvZbK3d68O68qG85QJogofYD9v1iAJ2EAAAB6AZ+RdEJ/CTLiBBPwrJ3/WXmYVJi2yzGl9Do2hY0ZAJV6b9ImzDeswyzEVYhPvppeAi9QAQp5FN3VrjhWZ9koOi66iBlwaX/OisrsQxTRlLLB1Ij3TbvNulpas28zgJwT+2oFzh0CjGYT7/IvANEZ0vn1/rA9aSoACtgAAAB3AZ+TakJ/CUEGDcPy4qYe/XlyNviazmDSxKfop18nJP24G9jgghG/g6yu3APzMtiVd0ACgM+4eLAxbX5M50VOm50/ejD2+nNGwfmVt54W2GCxvTUTLTD15qjJz5m/gdCpaohL9jOeGNUXNG0mOjRXL9inRwBgBqQAAAElQZuYSahBbJlMCG///qeEAAADAON/R9GWLvQWZLMqZ7jvgL13GrnLVngVGXHo5fwtdHtVbAAeHlNxhvxFRLstNBJ9+6+NhZkCuOIMFrC9eYIcXvJtjJpDpBFBBPthbMU3Eo00bmsZAaMAwii5JYexiWrwBUmdMXfsOve4kCwqe0LOfuOZ5z52XaW9qnUU5yqjqOV7Lc7SDaAPU6Xa6QZxODTQYkZkLPu4zISIL1jeYa+n+oAjbM0BQN5+WraS6ADQiXazRfOEW/KfvsmyjX0NaeItvqce9RoLw6TqURU5TZkqJrWQD++4DQ6wTss+LQhoCwGf8zf4xHtB6vjRRJL+TlpEVejBOqB+SNB7dCFbeP+1eZ1GAB5+GmFhhTRdFRxV8j8SWSMAAAC0QZ+2RRUsK/8HxsHN8v+hozXSKfBR7C8x7oPrRSqoAywpEwgFXO++bDssRUlyPXICD7/bOth5Ibfc5yv9O3BdOsTSWWxAA2mQPu0Xp6+SlPKUAe4wDdM55izWmwmBy2uMhwpsroEm2B2RzzVWiJn4RH/cDVQBmQPW/xwGLVzGrYNTkmfONzZwUUY750XczllGWcxspoLIYttBvHMiKs/N68QAzPIeyRr50jAxLgliUj8pqgF3AAAAawGf1XRCfwky4gQT8Kyd/1l5mFSYtssxosWUmpDyWfn9vjKj94BlU2S3ohmACO9p01rAB/BrIE/xbst1tUebUhEK1fOpqRODTKr5d9MzaOo45EvCmE3Tswg9mYHX6arso01hkXfzkrxLYIuBAAAAkAGf12pCfwlBBg3D8uKmHv15cjb4ms5g0u5lxaTLK7ut+k2RT4gOERErNu1R3qkmDAAnbxnwAM+ZADNDPTSfR4WIkfmFhJSFLwStNTfRir7aJmCr7wheDyI0lrBmHHedmDAMs/zVMRyuidJjeA3kcxRN4dV+91m5glQ8dXKRgDs0CLaGO2efuCv7a8v0cgDUgQAAAQlBm9xJqEFsmUwIb//+p4QAAAMA43CeaEwbWnGgBBRsnVEcYGsPABFxZsDiKEIxlqLGrCha+9Nij5IDo31CZpyqsJ66aC1nDPpYu1rD2Vf+1/OhZY4XOUyjx/RH8GjPE3eeCb4XwhPkNwxX2PM3OAUjLLJbF3sdb2fC/jPaIDyOPaD406I36SPQaPvgsuDAwWywwGdF4J9RLEiTrbmV1b51arcpdhp6eTonvZbkWbi2unTD2GJJ/c34bzn/U7ha8cmC08QFRCqygkEnPnBLEr9QQZSQOoNSxfQWgr1LVT/NbnOONOBb6Q7QpVjs+F8ci52fh2jNWVAoZ6ut7Pa+EiNPhX4D2u+a+Bp8AAAAyUGf+kUVLCv/B8bBzfL/oaM10inwUewvMe6D60UqqALKdjjwbRMbCe2FhjixIX07LMN90AAuGamn5EW1wac1xVdWntpG3RQjMcZpfcb52oeTEDJZ/1IGoZeNJSqSvM0vVofemQoRB1A4Nn1D67nVjXwgd+Bin2iAe6xhsaj7P4KT6QYJLii3en6pZYv44JtJckEMS6//piYIssMNyDuQpPBOuYuySwEK2Rw3CL/4UVKTuZMaGxK+CgqPlPRLTogmZMCKHPR7iQAOmQAAAHEBnhl0Qn8JMuIEE/Csnf9ZeZhUmLbLMXJBekDSeQQWzm+HUMDdboHdCK8ByVxFK5yw+zdegRWAHy/8wHCZTJYAfBohiomhwp4W96rvk7tpg7MIzx4KPwb6uxuZE5RrETtMAVPBNfsuePulDViqQQAI2AAAAGwBnhtqQn8JQQYNw/Liph79eXI2+JrOYLkem2qAm6atfEHhv8MHS83ADMg0yXyGM0NlwBeU8aVJ+az/5rCIjhmGJBMRRr/TRLlsXJqLUxTAxFFeBeyU/RfQYpxADaL2Lkr7CS7fzA5N+BDQBJ0AAADfQZoASahBbJlMCG///qeEAAADAFad9Q7OeF4B2Fid+AAW3w9vBEY6kgd9eOIAA6hIb0GmMQpMjPLpfrVtVjBiURCFhBMOpdd4ID3qSdAUhhJfgEB4+bMgWa0pnfLGUyv5nqdqTcjGABVvV/ye/fYS5nznw4UpNIJY9UM98MgjTRuSP51gxf4NS0/zDs6LVFbtQPJoQrbigYlYt3i4K32hQTd2+pFQwSZZUbWgsePNZjy8CsTTGVxZoHRvwVh1JUks1Xx5VBeeN4FIZolU1QKi2o00ij+Gk31RPjC9Oh2SMQAAAJ9Bnj5FFSwr/wfGwc3y/6GjNdIp8FHsLzHug+tFKqgCynY2KdKsS9hK2ljnmc6ZaD1ADN5kNUV4mkFDKyJmM/AviBjoyvH+PWJCQwwe4Y3KARbuz3BAOd2JNiVDUfD52cmFhnNGro2i+Be70DbbfWp7DOEFvMnmqWXzlrYznohkljjMJjwOkg7hq81KLUDO+yxjXj4o3NPlkkmF37YADRgAAACIAZ5ddEJ/CTLiBBPwrJ3/WXmYVJi2yzFyQOCi0eW0O8L3x8AGE7QcBYJ+9zChDaoXCP9HgBATUXY33TgrTQsNbbJku6XG88DZAO6hw3jryBO0ZFdAbcH8eeUYJcTcNzdqAiGhgNfGbTGvFuDh9hMAYCgW7T6UKbRgJkTEbF5GyuS9cN/LclAB/gAAAIoBnl9qQn8JQQYNw/Liph79eXI2+JrOYLker8gKygA9oLEH/wtjhiQBS0m8SLLit5IxFk3H7HSVGd53SLYQt52dAd3je5UuwHsP2Wz5E1dxPR0L6YulZ3BxnrUAAT924P7krqPHrWX4LFmkKO9YV38R54m9ACVbws9fQS4ysCbqvf28eJjWffXAImEAAADnQZpESahBbJlMCG///qeEAAADAFZvCeef2NxIAbZA8AkDZ9BrlndedqgiqCB3JuOZcG9sS5ZdzgF9IV5FtDIukFj7Vu+hai4AdlC7NVIF5VmbFoAwGhEsZW4tlR4mrgFRgE4PG7s4PFUoenrw0/brKG/YMSpfPZSj4m5o+QsbBCFhxljm1Xs6wMm9LVLS6Odcs3p0njQfhO04yx5VHerzd00fFvAZ6ddXsPvBxQ4r3Ye2RFuEkuYfcEIT0KyeK0aU0D6vyPd+6cuEydg2aMpsTZCx9IHz8FUL1zYl/EenOJ9Blm3e8mNAAAAAlUGeYkUVLCv/B8bBzfL/oaM10inwUewvMe6D60UqqALKdjh8PwxUobJ/R43C3l1eKl0ABFKpUnz6tUPapkMj5+f+C3BlMucfdnPcR5+ID3jx6Q1hf7yItxnPJRqM6Ju8K6WiZgvtSOxeCpl5O8bOeJktBEntBHz+0/UnEddiJkzP0q5eMxoPYZCgapfeH67e1OUAwAfNAAAAdQGegXRCfwky4gQT8Kyd/1l5mFSYtssxckDfEZJPaUn8GEyHamlmZwAP55Vxsjolh/GLKjo0h+PBT67QQDEhD85JMCExuzajUfvBOqLWZK/bsPWbOXRciugy9th1MvCIettmEesoxRx6894xnRXeyPqnxpACPgAAAHgBnoNqQn8JQQYNw/Liph79eXI2+JrOYLke3wAuUWfcqVP9NQqroWjHvFWQAgJhRcC90aRNiJIP2uJxJTGoN02Vi35xVh2KVEeeCqkuEL7TmSuj0bkOoGmhxMq9UzZoDuVBrxeTxVPZ6bcelPAKYoHxvy/n3XlQAbMAAAFKQZqISahBbJlMCG///qeEAAADAFZD0W2qwAGjl1cu84c9V99sLx8A5+vIK/cQroo+YZlXx7aXMO3uXH3bvdF3YlYFcZPZvL3+OjxyS1y/vqe9/7IooIixAzgxLCq+smorVTkYrETGDQmjPFXaes00jRFZGzVfBL/5zsXB1oFtYEssJxzTH5a6kCnqtyXPA7y2b/eeyPsugosFuKUolFWtjhRWG3zhwvvlGA6Y7eBP4IYhealix0YPwF9Lq4uhfNv7mRzT+QEyMLy2kLKxliUdLYZzm89cD/mX+3IKfCwd3IB6gBBhYQRKQan9F1hKOHUgxK/fzy8p4RQbwzJGil7UUOVh9MOHAcmdG4QXiV/+FMiVNkKYfgDYLaysUS1mjCWPQgsFhIz3825NgEumNGP1ne4SU8Uhdkwo4gEkg4Dil4IuDWAT5TZmcVbNAAAAxUGepkUVLCv/B8bBzfL/oaM10inwUewvMe6D60UqqALKdje0e3OFnQJSQgLgrgdwC8hn1ELyiwAloGBt1CnC4vM7oWEaatQryBn/JWspvVaTDv0fue/OV4WkBLu7b1SvJeCn45zH5nCvUclBvi6IHAsmgVHegKtxgIjRwf88fbAqs1L0k/NsCRq/EXjr39Y8mKUAkhOAXeW+SKPOKz3kX7yYvFjUX8yiIJQipbu172q11V7ijx4BZUP3Frf9wvUYpuhIAGfBAAAAeAGexXRCfwky4gQT8Kyd/1l5mFSYtssxckF7RaOxpW+j1Bkmqp7QAsdWbZObOuS/Mi+k8EWyyqu83FCKJNcZNIPd2MYhuPAUWwpe7mAjjSzskifpQHoHjQoHdeB+6g7VSuHH9yP8l05E2p0BfuDDQTr3EMnDYAD2gQAAAKMBnsdqQn8JQQYNw/Liph79eXI2+JrOYLke378NeCZwxhB92Ulctrk3gVw95SAE1dDWx11Y+rwRAdBIS/amE9R66hm9+6Lj158QrlgtczPMYzSCSj97QY2DNkIPigmgolJhWsoGWDxoWKhG3HieZM/yk0x2sJOc7FxM0yD2tSlPHYRmWXDCY5/a7BiqsFKAfYTJVQCAVG7vtQvrB/m+8CUbcCXgAAABNUGazEmoQWyZTAhv//6nhAAAAwBWVw2FLpWoYcevDQX9ABXdeCNWcOCqJ0KxbwtxD5piP6kswqKkJu6AqHCabGEv3N94KEY5joFbabaELl0EHxlrnt9OLjJ/GN5cH9m0JZXTOkFI10wGD/j1EPEnAetjLWUCRUdektNFiKtZPXhiucP2CJJ3rBtMsXg2BWJVtaDptDg4aEKAoRF9/WgGEFiaDJ5Hyw9Sklboj+fOtOkOXkLXtB4Ls1uR4gweIEc/usH1rb6iP66EZ/fo7kOiSJumx0VmGH4RL0F4oVqbqaYCTgKD6SWaXRUR17XkzgQ/MqU7eMB4zIHv65YdEKeGWH1TvMsTPXWSKlsh2UQmXo7WjZ1XKieZh1almul9GRmebmPtUPF4A4AHRR150ogJZ6a3sn1ReAAAAK9BnupFFSwr/wfGwc3y/6GjNdIp8FHsLzHug+tFKqgCynY3vqFMLmnBF92mcAkicEhVgtwhoAN0qaFJHOfY6SyOFRjefVMPaX6U7INluld4VxjpLyzVioCI9zz1rFc1/YZkaBP+lmBN8mhgukgBNUgbUvSaktzVDRdQL2UfvwwutNBJMCT1viA0pgB6GsP1VanIonn557YSjvTjIHAFZsYYVFflEjWwJ/TD4xa/YCphAAAAkwGfCXRCfwky4gQT8Kyd/1l5mFSYtssxckF5OduSoSIBHMAQccpV1X8UDGPMJCYg1Z2KAosZ86m/cP0G4VoKRzqd2OkBHdf5bM8P/EQPkRRwAb/WBY/djrfnJm811e5F82UOoDSCGutQGcQ2HFPOa951PZEyC14wYQib7DIRr9y/TnI9tE/eO3cXErQWzebvwgAR8AAAAJABnwtqQn8JQQYNw/Liph79eXI2+JrOYLke34WlgQJzf29DrcCru9cwAJe+NmlkbgAoB8QDCFwll4vDyKpV4PARP3DeD6jFUUFWRHR4vlvmK+zQ8+7UK04JeCN6blIP9OyCq66kjgsth/Nacrl/+YIv0SqJVSWRD1ghU8bsHTM+/udA5J3SJcQU+qWRyqCMAS8AAAFUQZsQSahBbJlMCG///qeEAAADAFj5l2nEeUNSYQLxumWDkpLuC8LTfepkC1bEHX0ozLZQjjcs0/+Tl7NM+mmN3TJX2y6XHkextUCvWrKkNayhW72E47cD6w4M/GsH4QAbhzFgJ6k0ywo90jYD2QIaWoyhZH8ydBiTH0J+5Qr5QUNJFilwltC23xCDD4QLQ10VXniMZcBI5LpuQl4Dtt1aOAANaGnREPKKwsXtFY6cFJTcdL6U+H2MvGu9XTWp99sw1HZh1WXPup1k0vyIyh01nfh20SbUzovy9zVlEcMU9UdyLm+lHJM4bjQsxERb0n+XUgBJi7hVKoJwX9XZJh7wcGr9bF5oyYJHTBZ0H55fdM7jYhcGsRDtML0qeO97fCvxdTjo+iG6/RAbuduqMtBauxK8q7W9vLYIXyQXzouC7cOaIV/2FdZSYVoTgpz2EDDUi58d0QAAALZBny5FFSwr/wfGwc3y/6GjNdIp8FHsLzHug+tFKqgCynY47Kf2YE/tSEQQaSbYMSoSLgvAAEtYdU0/foQ776Jc3eEh3/62EjvRqgFEqkrnABT2Y1o7i9CDmMTV1JCqI5GDEmeQykb6tYfB3BrVkrBdR966OiAgSmlrH9rPASf7eQ8gM7MciQe+eBwaAndPV5GJxLNNTXhHxXkDhV2HzbdULqDoxSrSuZA81Xta29vmxqc6c4AMCQAAAIoBn010Qn8JMuIEE/Csnf9ZeZhUmLbLMXJBdvq/u/VVyIe6tC0xRH8XShQAIgHkAPUSjGSeFQ59qkWaljH5pzz8VgjDjylYCht781K+gvlv3A8Uu3YyCR26Vi+dLOYV/QCZY5yXUtSc1L7sNwC9zi70HVN5d+InG4R93yQQgVtp563xd+wVJGgAxYEAAAB5AZ9PakJ/CUEGDcPy4qYe/XlyNviazmC5HrG3jgMNXzu14o8aZOACcZm/QQtZNaLG2F/zMlLfCJmCckgPqsSyFIInNS6NtemTcY3ZiKJ4Gl3mFE4ik5HsjJWppuZe++Rkvn0NFptH4g/EANQIHIt9zRVTovdn+6Ab0AAAARJBm1RJqEFsmUwIb//+p4QAAAMAINSWKoeUgDG4ImLL0JJ2W4Wzm5dh2kEEzcJqaCatTNhwAuBx/6f5k2jxZMKt5KKlfpXzr7yWVfzoxDllvJw+ZQ/OAsDw4Hgp9hhhnlWsdE8q1GnbfzMdtM9BJ+9o9GZ0cjFPscBt/jU2OP7alohxXUSLz8YFbkMEcS9wM/5/cNdFcW8GALjJDSUHpwIRHH+hdcOcwiW36w2ecSqjD8KhJXtKbdq2XJt5YjcWRTRICH4epIS+vXRQszlvUN00mB9S422riv80HGdaK4CoKOPtpOOmEwVDaMk+nWo18Wz1EEhq7fy2dmjrIdUrzyXTpLvX7q44H8PRJBqq744hrWPAAAAAqkGfckUVLCv/B8bBzfL/oaM10inwUewvMe6D60UqqALKdi9SzNnVvpQT+BB/d/WlGdq/v2vAAcKU4dgBdSJwPuQZFVopqi+KbLpZJZageGmBUxO9HJ/VT4IeqQFSqAsR/FLtmFo71z9WAShvKA9qSc9WO6i0Isj9uwfDu+5VLMIMTorGL18h/HURhJDmn/p4l1uHexd213LCWVCmoPkoqfGK3q9s9WG55AHdAAAAfwGfkXRCfwky4gQT8Kyd/1l5mFSYtssxcjGBxTOsC2FI/HKuH+UIS7++2Mx0xqb/AQAjZH4tY/98bWFWQrowZID1XjXFEkzAPCUCvlSab8SwLMINjWYJoBTnxvTB21lU07DgTtvRhv+rNphFtO4Ld0opZVbDubv0D2Y8rV/AfcAAAAB+AZ+TakJ/CUEGDcPy4qYe/XlyNviazmC5Hl19VXnRVdrmrasqoEtH6oT59cQD2X6YAErGt5+4ihs/lrfj9PX/EncE1EvnbR6f6U2TWLXcFkoRT3Pi2sAaMnv5nCEyQUHYVesoUFEDjiF6ApqClT42pdG4C6lP/9QZi9fgUwHhAAAA4UGbmEmoQWyZTAhv//6nhAAAAwBUfeFAt8bUTe4BanYwv/W8bJ6hp0q41BJSDuYa4NZ5J23yH48B31WHZBh/rCmrle18jW2ImDXVZmnb6yXWhvVij1Z7CwkCazxUpf4fyx4ApSceucU7QcpdTkerejd+w8IutBnl3RqJq5+b/PfAPaJGGG43usTt1Xy4CR6nOFDJVS/UU2W6oRPrtOCyQeEdqMFuZX4as+JQ+1dgI9jGHLZZMUCYJ2+/W7IZW9wfSLAnuqkZND/xy6JcV1f5KmoY8flt+ya8JSCMhox1CE0bFwAAAJZBn7ZFFSwr/wfGwc3y/6GjNdIp8FHsLzHug+tFKqgCynYvvR1w5MdtoyZLoVE1Mh00bqAA1f/wojZTrYLxJpq0LhCnd/+okEe+sBNXn7K3rZdRat01S2VicRa3f232RPuFEFasZIup/MFZU6SkjQz7MsZOevBRICvwuH1THXb8nLxjTISAWhFBG2tLiKe7H0VQSJYA2YAAAAB4AZ/VdEJ/CTLiBBPwrJ3/WXmYVJi2yzFyQFHeWIGBCIpy1yrpOJ/0wAIwEtlkp7I43vem16RQnkwfh+dLP3w8nW5cffs46oL2QV9OoKR0smFo7fIj8a33Pm+J6Z4Wkr3vgs0+QZamAq1GwFXiACpgZL/ry0rQoAKbAAAAcwGf12pCfwlBBg3D8uKmHv15cjb4ms5guRhHzacKhBJNXqaaVVO2mAAgsp+ovyo6yPnFVTCc4pg+HobENDAiEJ9ksmI7S8Nn4C5VCXISlj2HNc6AYZ+UoZ+LnAsAUuTlpSfv9CnFc4M88z4FmjMDKdXgA5cAAADUQZvcSahBbJlMCG///qeEAAADACDUXochoA9SjlMkfkMXP39lh+AhHXOY49c29LEMHBtlbqAj2PfWjwSpfmf/rRUG07uMAU2pRoZoVDL26Fi5FatmwoCuf/lKVh1NjFY7stjJ4/6A3HzPrC3FsLmCN4XlGtjFOeNMtwfP4xEMFnkvHfdC7DUEZ6IBLGwngluxYxVfLyiYOFlp3t+e3jzIcbH07MWu+OpcAt9iyWXzW8mX04RCYwXuM/VRGM6o+GzQctnvO83mCNSmXLU+dDAch/5Bcq4AAACBQZ/6RRUsK/8HxsHN8v+hozXSKfBR7C8x7oPrRSqoAsp1n1WOWxgKsMOEiDktMo1T/kq3K/3wq+AAlVSWIxTatHRIgneBT0lfptgcd+9DawECJk85q+kx6L4ArMN/O6XW/ly9iwVYRbqa/LZmk4x0I+ERWETGOE93OLPtaH+N+AR9AAAAYwGeGXRCfwky4gQT8Kyd/1l5mFSYtssxcjGBxTOfRY7ztEAHfPZW+hEa/kZxop1SFghljR/21dzJLVLQfT8M0d8o5cga4nMfSGNcZqNhoK7tIbcFBmSGuKPK/C7F+EDJrfgMqAAAAFoBnhtqQn8JQQYNw/Liph79eXI2+JrOYLkYR83ALmx4mZ+vs98R7sTUeX4BiJJOinoV4PNyj8AOtkWujgAXrgGOUg8DifrKPjamM2mNHUdYaK7HUkjvWuuABD0AAAEBQZoASahBbJlMCG///qeEAAADACCkWglYgBpUKQ2oSVptZFXSyycAlvXad2r+3ybzeMd0D9i0aKnzOz4M6BMIyLVlE5FR30PZZIg/evN50drTw7pwnYc3yWD6SQpjS/X8PZkvvXxGUO8B/hDNu3jDxs/OpgGiLoLKzIa0myD6BTcD99KF0+X9HX8tIyBQmyeyU1SFJjEei2bMSgJS8PBi2c3WxjK848KB7JnOIZ+kmq/OGaE8xdF/Fh+pq6/TTA+V4NVx3hfr89U1nI83lfrzrsvZaIm9cZVqesBAnMyRViFBO8HlEfGqfInkj54ue1slEMWg2zN/9ogRhE7PvRIbKmEAAACOQZ4+RRUsK/8HxsHN8v+hozXSKfBR7C8x7oPrRSqoAsp1n1WN4C6gBXKX9EBcsHAdiKR0s1j994PQQAeNWLq/t6zuJlujMcyJmCERBD44J8j1HWNRYdilJAYVgKXCJsxGPwdhUPywp6RSZA/UJ/GuoB+f7c7Rb+E1eyFNTeIxb7JdzB63xsv9ovrC/KBxwAAAAGYBnl10Qn8JMuIEE/Csnf9ZeZhUmLbLMXIxgcT9iOmXGV1j0OaOSzNRD1XyYAEPteIoeYgtzL41SVujdE7dEc8wpa2WLdtlUXntYySjTvZm65G65PzFFRRf0+D4KT6pO2f5F0/AC2gAAABnAZ5fakJ/CUEGDcPy4qYe/XlyNviazmC5GEfN40PIKcnVk/8KQMugaYXOdkuEAE4owpm1g+0bLY7DgcZmm/VsP04tj8Ba5cuRGItU0PwAscilAwcFwoiQvc4uunKwyfDW/8RHJADjgQAAAPZBmkRJqEFsmUwIb//+p4QAAAMAIKRai8yATBZcUoAopTv+L/S/md90S6ceAwWZX6ortnW8La88rZxDdkpdM3g4utsLemQUPNow/9uq+apt9LDu0WFMo+L1pht12mZQitGZSBJf/zB2KpzL/PNa3kO9+cV5JgaK3Z4E/BRZt8jUXQVjfIcXPFB4iQoDYsBQR+G/uz31NyxlgsRSa4XKrjEBboXraufnDUQ2760FjNSFmgPHQIRU+besr7ogSmObTe/3QwxKNX2ps4pYLeVRcKEKqOaAQZqy6Lbmlsb5gTFtkTOaHSQ0IX5LYOtcJsp+CKa1rhP+JWAAAACRQZ5iRRUsK/8HxsHN8v+hozXSKfBR7C8x7oPrRSqoAsp2OFLE2MqYzO8bUm9uiAEylUiLc+vYHtQrgiem3y40l014YP8DAn+3jfchJwBtpdRDtzfLfq+Fble+M15QCCpXDHYidPb9PRWvxd4HExBPvxPHVZtRAFr2zM0DPAl0XGEdLQRYA74n8/899M3WowChgQAAAHABnoF0Qn8JMuIEE/Csnf9ZeZhUmLbLMXIxgcUq1HK6KRcXM7yEmqaHhBKBWFP+NdIAIbiJ0FHpNk8nbtSJaZSbeL+z1byeHiLNN43WfSTb1ZbKiujClOp74X869n6GvNn1OndA3pZxEWtTz66CmALKAAAAfAGeg2pCfwlBBg3D8uKmHv15cjb4ms5guR7deVVsbBwfaFogcPFxV63eAE0/GmUdYTyEE6OxqPyeEkDO1htES/0E+5cudBELXEuv5ed+WK9HV8WTYgXc0gt87ldXV9msdqYOG1SHSgYquJyc//5ChfNI70fjBM782RfgCLkAAAEHQZqISahBbJlMCG///qeEAAADACCkWoqxACZ/jogVGe9voRKVT4r6Xf2yYxOe01GVG4/PoH1wIhPh466ejFmo8lwmx3exb1GLO44cMksUy/9YsZoystxHvFDWHjnvaczwsQ4Gbg93LDRRTszcqas7r4wC3FvroyKVw2pPFKhdpwbj2bG9GSzOv3fe7fMUQQr/jRxSsFjJ8Bm+mo7vPJ7pvUfwQlXaJiS6CCeHqFwBRlNPxM6nRCM8e3Sh8WpQjWo9PM4rgDb2fs+SCJ7Z2NJc6KaLIFGtutv2ZWdSe/09or1pwuKQZ/Y7CCQF2xaf7IRYem/0PhydeI4dYIwSdoJh7OHYycx3KmEAAACTQZ6mRRUsK/8HxsHN8v+hozXSKfBR7C8x7oPrRSqoAsp2N4TFPsaESBLul5vsBEQA3ExXvAMDZjumgukg1zNBYoQ/YqoeTdOASsY1/dC5cpp4qPwO2mu9h7R/R/iQxirDdLxQTuDLVDdebN4M/p20ub25LonMmfyz4s4Z1Ac0q22EKJLdgTxJNPd9VJnCf1IckAGBAAAAWAGexXRCfwky4gQT8Kyd/1l5mFSYtssxckFx1Vip0nQfiIMKR/m+QUAJq7U9hnvXYFvig+E7WAo9cyhY//99VP+RQDdKaAH9TEBH0Bgyrzg5/mvwA4YA2YEAAABlAZ7HakJ/CUEGDcPy4qYe/XlyNviazmC5Ht15VWXNW/16jACJYia7PL5SD4ACboXVZivWxW2prF4VTFT0jpFX9ZyC8zMcNCOy9ruUoyEGqS1cJd79qyT0p/BKT9OGRCiod76AGfAAAADoQZrMSahBbJlMCG///qeEAAADACCrQHCGYAjXHDC7fkLPuTeJqdBDzwj8cE3+4X88fVu/avdjsn99+5PK5UchLffqFIEDuUPXEfmzNFDfBdyluRU8jzmbsAjYZARnveWiN1yWXk+rh/Yb/Cob2DiHg28DYte9oT8mxPIXwHOJCfFRFsKcjmsYpKFezArnzydKzfY4kAMlziSAO/dntLV1tS15amsQoRBkEGqQm7XIo7nPLTBQtBgw9Q0x3BEVOLxEAqRWCVPTRGJKRLLpuYSKlWHcWGjIUbGrfcms7xyQ61dSVWDX4+3KmAAAAIBBnupFFSwr/wfGwc3y/6GjNdIp8FHsLzHug+tFKqgCynY4vPlvuL57ciZhG8uKHxGca0AFyMf5E5t7ZfhTn01fhyh9tfU6IwoU5+biB3oZ33DlTKYa1/qHZdusjwF9ZiGjytXMLitLQNKG8fWzzGHrV8p+gcSREzuq/Fq14eAbcQAAAHQBnwl0Qn8JMuIEE/Csnf9ZeZhUmLbLMXJBcdVYqZeDjvhU4HyEgAtnkq2hbf/LMMvqcXXeG5Qy/HaFnTU6tZo6inQZ4qkNaNoZ+B7J5waMHtBCKda59QGx2p3YKFXUrQovRwLwNDLIO4PPS+zBzf9iNfgJOAAAAE8BnwtqQn8JQQYNw/Liph79eXI2+JrOYLkYR827I/1tDzypKsZXV5nqd3PpjKr/3g4AC3BvkdXDPgSqOlFqcOtzjzoJa/8ar599GeUUAM+AAAABB0GbEEmoQWyZTAhv//6nhAAAAwAgq0Bwpuk9fnWAFgTe5UunpF6myqKpjXOFz3QDJnDbCljVPA0cP6rg7gLDZGqeDvbioSDD7Z85LzpYH6bdU2Oa63pedl5F00IkYkAtToxQprKM0cRX7S1Fmcjc6YZUrVcp4zs77H9dpjuZh5WcgmaXjsLERCL3Wd9ZOuxk/vZTIUvk+fdhnu9XUdbPol35iMykVl/02HC3YY912iO+Wl3oeX8BUv9RTl8oBv6+S1L2BjSrFedWES0RQKjqk8kPLAaoWR8dxX8byjOwaExE2rkBigJ//6aFhPaV4ur7Qw7ufhAXT+g+I84pnvDvk5Mnc3e7PkOhAAAAnUGfLkUVLCv/B8bBzfL/oaM10inwUewvMe6D60UqqALKdZ9Vjldo7rx2mCBRTQ4IMIBVkoyJReqAEmmjT2e+feQSfy4bIcm7XyOKRm8mCDeLWBGQhGiDY5WiIDqhbnktzExPTJzG/BcqAvNhdDwIbkGZLQhGTDMozL9Pegxv1gYdsz+GLW3tHvEHuLdChB0XSHH4sLbk39NXGYIAh4EAAABzAZ9NdEJ/CTLiBBPwrJ3/WXmYVJi2yzFyMYHDGioc3TYy/uvgBNPJ/GnZ3g9uZIM1Bum0kfQci6qH06ZyDNOPvznF2Gs0TJo5dBRXKnyvXxsnOr7zDNphy6fXtBf0Qedgy+G4mSG9E+5iIIbW+DQeNwANmQAAAIIBn09qQn8JQQYNw/Liph79eXI2+JrOYLkYR821pWqaISmPPjDgA/YfAnmztPnH0Ima1eMpQsSq881jD95HyqeT2iLafaQYWGxxWM8RqU7yKFbmdGogoUgn2f2IhHtHqR/yC8kMheOeXDW7PnC2Nqnf8nLHmmh1OD3Hyw9z/dzyQAi4AAAA30GbVEmoQWyZTAhv//6nhAAAAwAgqZLBYcdMACtOTrL+wtA/S9nK9QRV6tv7DoLSqhNojcZnpjcf6EknX+R6Q1eYIHTNVTjJ/VGPHtP4sxuhQmmwj6ZbCGKGY+7bV5ljnyLO5aZHgbjQ54K2UnBWamYVge1VE+0bV6W2zbd5vteYNJ+foiIc+uU2ohm8ak5gQQFdglSd1Y5sEbbTcgKZm5qHsuBEhU1oQhUjiedvO2L3ui8NZqAInwIbDTzqgmPl/bKMHYmij4ZMZDasF63QTCe/HFHXjPeniDB9oSwnMGAAAACxQZ9yRRUsK/8HxsHN8v+hozXSKfBR7C8x7oPrRSqoAsp2M9K62cR9wARkBlOw/LY3YwCAjBRMCa3fmKv5EATQF1i7m6564yTzaMLttKP3XZrmrqEPH2BQUNfQfrhvzfMzRBtiFng56dZuWYRdplVrhBvIzTw7rvzf0CV3zawO46qNiRHM+S0WV4LKwynVm1ShX3xmFAE6mLErjIZQGySqbksyStZhE/Qt4iXfqCckAKSBAAAAbQGfkXRCfwky4gQT8Kyd/1l5mFSYtssxcjGBxT90MAA1I6mLpbVwDvj4r5DKc52pGUivJuWNKjvr3w3mCuPjHmg7pWWbNRC1T8T7bomYhZZVbel9RzPxxJP70nKuxw8r17Q0MRGlfJv9iXJAB3QAAACPAZ+TakJ/CUEGDcPy4qYe/XlyNviazmC5Hp1+2ZQaFmwz6tAA/mhYMrDwFqK8KJXKj6dO3aNZIndrQLaelJjYpX5FeccCYTdai3BpXtwkecYadMeP2O9dnK2fjSY7+GIj99yt/i8CW8+T5hB4/dhk0m3Jt/KGG5uNYR6wqwM0FQVLVnzUC42ZpldgvsGoBSQAAAElQZuYSahBbJlMCG///qeEAAADAFa94UB11gPyA+c/L3DX8uC9oO33GaHA/g/IXyLZDMC8qwtZkGMUuJ5mB6g2SQJo8xIAH6Bpg+kyjqIe6z+BlD455Q7tG50+VSUhZThro4w7JkrXdKs4WYkA5wHXRr2hxVN0By+1HkzDoNtxFVe+oLQ5h9bJ1lLNxQpCJSbVKy40QXh4buQ8fmgu8nODkFpyue6e/Rg6r+usX4BCcGh5gLDz4t9Bj9CrixzWOeDgaRXz4ulS05HsdWjhyCJ+nLmjrYnlb2bSwrrUnKrpW8l7UTPBNDVy5j+LCLgoYwFnCnKKhfEz3NNn45Q/RBb7d+xqWazIiYKT0J1ndFbnmEnAcgocfjZEhUIyhpxTdDG++plplVEAAAB2QZ+2RRUsK/8HxsHN8v+hozXSKfBR7C8x7oPrRSqoAsp2NDxtLHtkcBaVYRKgpUHIqYIByWySG/i8gTSWm0D6v3QKrtUDDSKooSCiCV3vldIQB9LvWXzLvUM5mzTyJt/9omls5ipv3CUXehxwfa/yElHSCwDjgAAAAGgBn9V0Qn8JMuIEE/Csnf9ZeZhUmLbLMXJA4clYbuXv+YSfCx+4oPuGRgAVzNa4LFKK44BcyzOA8iRADZBUyBJ9KDLTWp1s7q2CG7wbljTnSe0qo5P2WCQXZKiBEb0C7H3f0weQMgBcQQAAAGYBn9dqQn8JQQYNw/Liph79eXI2+JrOYLkYR82lrUc0N8AObXUuANvJqVdV7ROGN+V+ZzEOISrcE4zAKN81pxInksJi0V2wWHttMV2+BYSG0UbACJSUKIIonYxaG5pb/bV0huyAScEAAACGQZvZSahBbJlMCE///fEAAAMABNvgGN5aghZYbRjyUAKtGjdfWxqmngyU8PsSc3vHxJzNGTN/GovaDQmKrxXu2vuq9/hsSpu8/AiIpALsEBxYGt+kz/1HuK/ztiTiC4ojjiABN7ue7T3+PIR3S/FXlRgCh4LQzrT2gfd2dKO2tIWfTG7JesAAAAabZYiCAAQ//veBvzLLZD+qyXH5530srM885DxyXYmuuNAAAAMAAAMAAUeHteuN3YNbSdAAABrAA6QfwXkYMdAj4+RwjoHARIvALcV9gsKoZmAMs3aUhNhTCq9RI132tUNeX9bc48d0jSBSpyt05yMZGzJuc69zNnIgXa0MgOAB5RQJcMkiffFljoHu5AINVEh75f1KPmtrdlJGj4sJZOwNI+Aoj/m4CWORb71JwprB75D5iM/pT4wWQy6pF5jKI235qUHx6kwMq6hHH3Ld5GMsah9MAxQxv+k44Yix7yfvkD4kBYB2tw31TGslW/AJjBnYFgotEcnDprPHw5BQV9qgBOwMJGKyB+eyCuad4yoPt5gJUCV2AdxqZmyMH6iH0QNmSPteIKT61RxdShqmGKSNBeA2ncMpv564EkF/ZaT3IVPBtTYZAma2BJMy/lQ72m6cFr9c7pi0Obt0E/EcAAfUo4NpjdVzO3PMlq4jWMQR/ZkKk1PVYzvKQyC4Q9miAyRmlIdMY2SRDqGYlMRmx5DJlLDMdoqZcbtY4sY+z8zfdhUkKZDdQRCTukCQ2UGzdtx6U+eo8g/DlftQYlcMmD7OrrbPPUZT9AVSLca2stN8ash8jfsK3wRG55FICSN4IjV9rrUQrc17IS1/G97Beb/1XJ2/eXy6F2opKGLgI7l0MAp5hUkD8TNsepzN9CtuvtDQ6kLCdFGNezhWqVdnmu8nIDDBJW0Y2LmM2LHUym3U1KaE6TvGJtQ+QHjseTPrNRPpK//ZNK6ItnjLRLboSWsAHUnLHPnOkOlz9f/cBGKUv9H1NvKdz7balx5Fn61g5XbEHGVAsxYKuDs5XB7VtrUW56khVc6KWrQXDEWPYMyZBgCix2TEpRg1hXVkLwd0QfVYP7RVA9uw8htlbTlEvuptdjUDQ5elxjjO8m0G91L2cWQfZOca3nTKmz9NqxE4R+kay6FfvoCHT3nODJf6IXNSgSHvAPE/5a1VLZonSViU4yfgflJFjBCCZukxheOrE9+xUtGcahKfsgK8hGbb7Tolw7xvYj3qO7RFm164xSiu93Td+jlUZYZ2wYM1YvNDwQ+ummjyD7BJStT2BcsHWHLa53BwDGuK8MSedtoge25hJ/P/6L6LkSDPWNMGmSuITdqhqnQ+QR1uQokrjbI036nngjKLXlanecRKndJUJEHt1mcKwyYsVVBBBnCtStR7566YqWK9ts2+9/dUIMQHvlSx6r+CyqB3g6JsbkTWBtjVRyYqVtEK/lK/G+uRdSaiC2zpRwAae8iwluP8wRqNCWJOb7ppabNsPrFHCUUxRl1een6Mc7J3gDod8L94nv/QntXTMMjC/Imintf8Or/Y+9YQnJtCpvqAfdcv7BkEbK4cRLzZ1tuyUsd5qj2Z92AYUhZ3o3hBxCv+q2XbeBNpYnw6rPxbbUAX7RubdqUbmhdvE6hQKmwTxOIZLs/kyeiikdhPDD+KVCtWVGXX4TlTHD73P8PiM7KMg7OVK5b4LG9ddE9mBsCWvwdtQzfqfp5qwOwgi+oNWYTfXnaeUS5TKszQeFctKqIVP3qHKs91fJObkjmfMn3qBZxTqHqU074cOmNzKep0XMafAct5UJiWBdmZ1JVOrQO46aEgDNRDD4wEV75MYkuJu9UPqM9I5/04Tzg7V2Ch66IYPuzxvjzDJO212pa94jpLiJjIo8Dqep1wNnh3snAgV9rqTxiaWBAjk/TbRrnYL+Vp/vCoE1v65OkS873TlXHHcSWeZCFGISEC8PWlW+p/KpbYPCP5VJLFLZoTxgp8CBF+GuImpuknb1GVzloQP7FR2cXOIpvShQmU+uHWhayAgwuDOvSaMhr44IRzc7/n4v9R7WRCJvwdP9I+puDwzLDc+/UUTFwdeZf9E83sbXxuPE0i734J920SwtDamNPhc1unzTHc/DLazPKzHl7A0A7PvorvbykzTxIFZO5P4DDdy5TmiA2MzpFJJ8W+ri4Bxj6sS5Fe7pgN3T3t9s9UUWanBYFjOQuE41mh1Jw/7Gf4Ze91txlQYgKPsGMtctf+A9DekgrvO8K1FAYGagofNVB1sfuOXkKCMRmusg3Mwtzz7Rryzqn7TxhopLdt7XAqdZh909RDMmqBqiW2Vc7I13kzzda5wgYh/VarzlUU5R7nZin9jcLD2Ty2K2dNvpiVVb++y/e0Z3aJI+IKWXJeQF6nkkwmzmJy/OnRi6VHzxhqTUS4AAAdPbglWvUoIAUSuAAAAwAABq0AAAEjQZokbEN//qeEAAADAA4jJyQBakufg1rf9F14tpYvQHnNoPJUqfttezgBRsVIDJRX8V0iD4ifVJCsAzRRsFIP8JaLhpx7t6/y/6UyWHSb2oFRma5zRAVEkAy4VT2idX+Yx/O5ZrdcxQQGPT30LKkU2w4qWw74a+GLgJUNsVBl9zAEO4VGOTysxggzEYceP9YAIbYInfukZRzbALU2MNXXZclHkNf70D4elOwHWP25aGBHrrv4KUnyPLyXMxbDC/0kjBthat929pq3kMYZ91+Iz8GN8aqV8T1kykBHbgxhvFvuYDvNYSeKwhq4Fwu1QmQ1D3Dm29vynl3IuafZSGroTXjhJLaEpvAYLYGq6DSOYOQaShFGSgEYOglcnRGDh/AbjEhWAAAAeEGeQniFfwAAAwALo1kHewBtwCoOgyAvOEl6lrf3gBlJCpyRDvP19Sv3WpZjx/7OoczyP8BW0eJSK8OcBmSUMfchCOiNW0NQGBiYKL6LxZHd58dZH/9zun/jvf6fsMIBPBNTyn0H23zl3elQY07UD+MFo9rRwYrI+QAAAGkBnmF0Qn8AAAMADYS/vbXABOF3lLxWo7Q7+wLFneQ8EFo7mnFrjRoep3kjgnzFZjo7XsKH9FTbH9C09vd0tqAatIQyrrTueFCO+n9aUqTvzrsOIzmQBee2WF+L96q/oCSyBFotz6nQFTEAAABaAZ5jakJ/AAADAA2F6ujlEyo0wAL/XNPHFsIuQZNXBO20puEqk7t9dO8XRj3zjPfhj8s1o+zk/ZuspMXSsaa5WbciNPWmLCcth+dqZzuMCTpVQFx1jm3BvBh3AAABCUGaaEmoQWiZTAhv//6nhAAAAwANfNBooAO1fKMQMjFmetH6/6AiL2MufBN7SAGcrTU0dWtitleADORzy8ifNY+iP2WqIpSinVFpl5hua/sAE3u2DqPoCbkW1Vv87TDng9hISv+tpgD4QCgFE7vb0dg6/n+6093Xw3wajFA+MpYdML94FF7E+r5SQRQ2Nou9IEbSc6rUExHhvCFefdd+8EGR3bK+YbL0eD41h176/iyc7Ns2casuX4DLvt+Kepg0tz2yM57ZoYKYvJN+txj6CQmSOOadUn0Bk9voLZ4hFyTuws4nr2cf2dlcq2tRQMc6wyJj1BMnQtVhlTh7iM9ZcoOwPdUsAAJO+sAAAAByQZ6GRREsK/8AAAMAGmdL3r5QuEANCH1T4ky+/CKDJBTjAr6aDgkWkj6ZSrBOX1RXmXA6e4vIl8HKqxHxbNCNt2pqXHd/UJ5PtqV6vJevj9ltj1mTL+yjwz69XrAjjpanTX9N72NQ4DtYwNSPgKOAdYPhAAAAYwGepXRCfwAAAwAkvs9fTcLKTSD6zADbVNnc9KpDKFbbkl+qAae48mQnpUHtrqnK7lsaHgAZn6OW0Gersi9HxSPcbsPPPf54hm43wm9eiGfV4pA/ETRNp832JZ9+O/Qt3xMHwAAAAGwBnqdqQn8AAAMAJLEY74XrK1HEAK5kgrhOcnps9qiiOkmSVokfgrvt6QleOFDCRMaXoyn7aorLo5UDWLFYUd2Nm0y/Rovi5e3cKwlyqxEeFA4qcjVocHjAJS1ePQzh6l3kaH5QFGGIiEpcXcEAAAEIQZqsSahBbJlMCG///qeEAAADAA3O+o+oAO4qqHgBgH3jB8jHvgYM0tu/fCJcotB736wiLRDgff5OUt7WTvlQjmDd8BLYMfItkC4dmbmOT8wk+1hGM0pXBxm4B0ZEPHvFsz3Fr4FO9oXnnvuNkyetzZK7sCoeLRbDWvLWhuOh2vxVuF2h7jcHUFVaRda4bR8/NVcxCqYsuAcRetb+Ir8KKThwtGzyTtHYpSqI+lHR9ZM72auzQxagCVf9xKcT/dkj770oPwn3Xuyh/Frx5oD6xYEfYlb+D/DAv9178mw2uCRbnAOjTiiCwDgo5E5rWNpkS+Wsfk9GZ8XcCMyTFQ0g1ZvxqP1c7omgAAAAWEGeykUVLCv/AAADABppMPPCm8vVHLnXpkeEAYOOkx7LPFXfgkAK48cAs1GKc+hvcU9dj+/9xhiF3JAA/uwTH1+V+jia1+GhO/g2MlrpkFam9vXjHuE6vTEAAAB/AZ7pdEJ/AAADACGtSweQkAFxeBGzYnvQepUTUTSggHXB+vhz6Yxmj/u6Toa9VcOqJrJBTdV2Q+hh7zfaheDGG7SlY9Dix+YsQHHW3DtO7w6WiPRN8Ih0hRkYIyGyKRbdQktZRd/kDdJrUTceDy5PwzAS2kxakPEf79OXGSENswAAAHkBnutqQn8AAAMAIbuBno0jG3cAUxhUrcbnjxHlvpyKIAbWXhknVlmQoyhJ+I5hSqStITiW9sDQPgSASEUgsMe36ggbAE2D844pegvVHI1cGFK1uEHS4zHdNFWVAFBTILNpP8jy6N+dRuTLeesyf26PxrSRZpZHRoeBAAAA+0Ga8EmoQWyZTAhv//6nhAAAAwAgpfNwA2+Os33OsMWVJ9ZN8S/W2NO83e+qBMtR1SO3FRiWXOXqbdAt6MVzqRqSVFS2QMsGIiPioz1u5U6ZFCoy3qZTEnR65E3b8dR2JllVO/jFLpUQHUxp+1/1Oq39R0U/jvvvhmt7iLNI2VPQamwIAqND7McEe6dUDnVYyHn6oCAzUkKp0P6WppDwmDICdQaffaC5Qz1gIG9a63MVavZk2T7T4WMl3io2AStIudgGEYw9Gv4u8g7UQhn+7A7DgKJuoT7li+E3V680UzhnI6vFeE+S+LgeNrRRDJlvgRxBL9nH0WciGdy9AAAApEGfDkUVLCv/AAADABsHJz9AAnqxRz31BWDKXz6xVE1uvEKmkrr2BxeBC2LSV0ZvIx99JashnefN6fD956Sg0Th671pt/N4wyBK1iZI96cSN+hbpIBuViSb93ACC/rwsvURPI55vPgzDJK5Ep/c4qq11l+Ahxirs03wFg8zWyrkMwfI39CrYJWcmELVeUJg2ApGeoIEFsqoG2v1xtF+4rvjFoNTTAAAAZQGfLXRCfwAAAwAhSb5SiAmAA2fERLFiWkeTuOqDPwjRfeW8dz+0YqDFB9lDywZVtozjpuxQxDCiskhLc+lxNaWbttkdvMccJ4OuGXBnqsSj5MWMEPDrsrCxMm02FnRgyWm39APTAAAAkwGfL2pCfwAAAwAiuyV2M+kQgDWxV8QXLT0+geW/TYycHLoWx49lZXmNtVMaIlcevTjBJOBvPg4j70HN157gcUEQURK+s+up3nl5GiOd/5eSgPC1ErJsMpkdN3YU3l+UKtRZiuknWBPPCDCsCvW3mfliHth+FrdjM4xTq4SsgAQJPDHwHZLcpg4AC9xOFgFTFJjbgQAAANtBmzRJqEFsmUwIb//+p4QAAAMAIN8jVvBLW69a70APDezkmtb1rfHinoXYDpP7Ds5OLzGduGgZirCcclk6MsU7xDYC4/tqw/AD1urtyypi3Otux/AukbTvw7GYzxBuiqvAVjSRGkZPC+gd/TKTrN27C8v3mqCEPuf6ZUE+YbOKPPgIX/gYx/azPLqKmQ58f7wTdqU6MlN0RhIlhhKQAYkSl51XzEG4srKElp2Yqx3yrSzUGuy+s3RqAYykrtnO+UEawxvfIOHPWTRIMqv1P2nNJeBrRGo70DBs4sAAAABjQZ9SRRUsK/8AAAMAGwsJmhYhF9PSl0geQIzqSJaAGgV0mGXAZQuutIvoqGk8kxgCxc1s/jhIMEixf+HWa67+x8zzsmoEZD5WzDELvSeanx7BkIlc67uYAUGmG/j7iJBl8EHAAAAAaQGfcXRCfwAAAwAirSecs3V7oAF/s2pBeaeXy05cb+Cp0WOAZPokV7IPnnv4pfZ2bZOrzDfQvTBFaXQmEAvyJGA6cIPEHhRgzKnwRLta49p47SUrh2Q8ACjIJXSJAYq8r+piaW7206Af4QAAAEoBn3NqQn8AAAMAIruBG6x7jif9HEVnrhoAVviIdNPqVywLC1QjEHG/hMgzXz6Wn0fesfB1l1LnHKgHYZlMBV3WWxrAMs4N25wCBwAAARVBm3hJqEFsmUwIb//+p4QAAAMAHlI46ADfchY4FW5k+OE80nuWVRcQD8kx0iawliokfvCAfh0M6jLreC6HOViCip8RqZima+Zb+1+04ABrgQ1Yuj6XjcVO1ffHFXlRq1TvbBK0bkFjpjEecUVmaqwNfBi7HjkqARPUrO/fnFyn0KTPBjzONPJc+HUGWm8OMzdQYJWny6N/aTWLRE5VkRIKVZmKgRIcNdaEVb96nNpuS+VfnEGXEvIOyS3TXYMMIC9DdkYveOhpk45fL8hOqdwJQs8bs3aahXcmMJfoGS7zp1lMaD9ah76iRPfMcVn2lIq47B/SQ0TNbVTGJcPMXKXQn5CgPYID5T4RemP1F70Tn33RBEbhAAAAekGflkUVLCv/AAADABknTCOV9NTxABs3YvW0ogs+URlH1qKtbFP2ulxivTSk/9NEK5fyuFSvRRknMwZ3mQkgKaburyze3HZzBVouwhKyNycDOinNcCZZM0yQq0HXyfGXXv7E3ql8lLu4cz42I4qT/gLnIjbXK9Pj7oxcAAAAYgGftXRCfwAAAwAN1L+WzgAs9Q6a7v7lumgD6Gse2BsgqY+wL83SSq7/KsCXboOhcvPzNicWQy364sAs+tfRa1YqqJZkmBxkbjESWE9bPTlX0ljxalNhgc90eZiliTOgCO6AAAAASwGft2pCfwAAAwAfy96pRuZ7gCt8OF8pQA0+nW7kLh+ZZQjCYAuOf5R8GQBm2pI9oxnRj/3DxYGOT2OdgpSADUp2ZWD1ZmMCbQ+O6QAAAPlBm7xJqEFsmUwIb//+p4QAAAMAHlTxZx+xnPzZY5Y4ATMeZv0wEGodzcpjR5MkNrM45RPudJvmkF5kmc+0cQVM6oSa9+5El8PI70EhR8a++6dn7qpxEetILTHEwuClihq4EKyly1yvUpqT8bsmL2Wyq0GcuEGDSMucoooh4utU/GlLZFgSSyu4S+8xsFDKyi7AigLGHCsR0ARJfl2RQJEmZu9BoMB/A29xa/amGZ9RmnIaTKGY70E31DrdsuODRDHMu0fThjzidlDt4eDPIAtYhIIxccYavuPF9hG8NDamD4abHDRgI+7h1xAgXKdMgxrUktuKadrg8nAAAACHQZ/aRRUsK/8AAAMAGmdW6oKrZfemB6AEZ66TzFm/YbIah3wIZqi3786a2kWwA5y8IN5jhsJaeNQjopbe0WSS/R3b0SSwqaap6NbJGFKD62Uz2iLEu7AL0PMLpO+JsZVNejRCbd2KVKmhDRPv7B/P1r+GIVlkSPEsWLFEMqCEi1myOizoUA6YAAAAVAGf+XRCfwAAAwAfw/DRoBQMaAHKwgSye7q5Nh7nRBddidomHNnBi+bZALGQNrTqzYUqZ8Ml/Li4YusGMVgJfFBYb79u5otV5Tz8MdkNZ1OnS1LF4QAAAEcBn/tqQn8AAAMAIbuBXpdSIgBFIt1KIEw/6wjeffR+SuGSm8i8YqY3cOGGn4I3vguBmPNExfr8DHCPLoc+/OPc30DhJuQ5OAAAAMlBm/9JqEFsmUwIb//+p4QAAAMADY+ypm/RyAIyCGRvPBnf2su/C2llmmDBe21Fz7Jt0DNFbOeXuoXEvrFDc2iHjMYhiko/v1iFq6nJRtKyj8HWh0y0qiUnfcGDWIy+b0ZcESyFJUjj/6bliQAqKeh4TpodBub+XhFJ5rp+sH/DK1lEIMwnFzHyovzEJeyIDYIXXr7az8pKeO0lm6ZnrvBtmPqcPyQfychxhB4jzOqIjREmsU1dY5T4fsLVtpybti1B9xnjl5bcKTcAAABFQZ4dRRUsK/8AAAMAGmsM9JVwAEpuoslXFaAGugr1jsaqaGGwkgq2IEZ9tK5/XctBHaLSNr0ZBWek4HkYLHRzbThhpF3BAAAAQgGePmpCfwAAAwAhu4HlIgACCXcYSKcqyieh8V/H9OxY6lbVzWu6a2JU+wMt1js0ybKtZxBkMRa5KsARBFpCNB1iLwAAASxBmiNJqEFsmUwIb//+p4QAAAMADI2QiLgAKVb0bJSQvvDGQTZiDCVSJJCCpCzaOpHZNTVR1NMdz+fSouRs/UeUOqXrboVpyevVxgAoT3cC4T4iYHr8v6qPCUNc0iTbSJoImxLPUiv76dcBW678f9AoiPqCDiARmWnGqUem9xLuIOJO1LPH5yEc4PuSrbk/R/R6wd1l0gQ99OJCxSCcL5fiZYSUs/vXwtWIxZp6w5Up/HKWQCB680/hJ6nHcM9rdZDBjPaSYAfng4Ey7JrO3px4oj63QqAY58bH6ktKqbycy/XszmBeXxwtDY6cGz8DSqD/BGsT1shHSr1nDTx7rg4uinm3epXZVdKKnrEMZuGWK4P+mTD9EcCacetRynmqOtj9gtQWIY+5y+MTKi0AAABfQZ5BRRUsK/8AAAMAGmsMz7gZzv+HqUIAHOx/Fr+ukQpu4PReu43JK7paWaIj4Z+D6rC0r+hOswmUnrABp/H/1r9mm36lL3wb0CrW7Sf94K47GuWTUpFLw7DjlbhGbAYAAABLAZ5gdEJ/AAADACGtScrRXpOO4AQfkcZDTulbiVirxMW7lWgmdRAPB+Bz8gD6mn9HxLv22cjplVgTOZCCVaXIB2NG01CwNhUk+dsxAAAAUQGeYmpCfwAAAwAhu4BOBvPhVjVAAbF88IY0KorRkfJh0HC4Ni/N8hwptzrQndiUN0rcGyV1FPJPuM3/922kJ4UFIAi5Tz/yt9gsH+3sUQBKGQAAATJBmmdJqEFsmUwIb//+p4QAAAMADJkW1IWrIATwZWEb92f3Z3CzMo4Lg3CzleS7UYpaNxfvN42ufPVo0Y6C3fPt8FIfMpdqrISY3li9HKzx/vZ+aIV+fBbeHcEbfZNpje7rWL0DzBPiwYn+Rz9xTR3tZ8FXJnWPsZy33hX2mEF8emePLZ8JhTgiEA2qzr4LzYYa99opSX8oRkdf2/pKiXtFafrUJcYmNhrysivYUN6XKDepzes7LdqV0AjcKmK/cN5i95YcEdFotKIwP+M6zqwTozv2AjX6EVR0Qh+jW9zQhNHP9q4kFt8a1qCBDmLqXBc2H//i3ZFwT5ANd6oJyRogNDJ1wJyDs2fhYQQPc6OwDO8xLltRljj3p4lq0T+I5rSGBFIujWJDqm6onYgCftx125UAAACtQZ6FRRUsK/8AAAMAGmsPGyGKDR0xj8qJmqQABqf4IUS00yyuBPhMZvXzPzrvaPksCEcXBBZ2eYTKOdWI+yZA7qduZ6mAPe1J0p16YeGTDjR044PdsDgxtIWrEYVopbazRKxqvNHkWniKoc8pI9LiIkmh0HEXM1Bu/DBZXuBLQ6wXJNzwR/WNy0/MgR+EJ+43J8xToAO+xhhSvg3dUjh7VcTtNg3grIxHwHJHK8oAAABvAZ6kdEJ/AAADACGtZIickcHfQAaCuofZPIdPDVhcM0BM9SIVuJXd0b83aU3oMVEv7UyC9chXyTaGe85nGRtkGAxUos3ETnq/qHW/lKhR4uNts/G9yionTH70K+/eyjDHLIIqmLJmvfeUpQbSXGzBAAAAdAGepmpCfwAAAwAhu5aJ20Z6hZa/aUABRpe3X1Hgh+BP8PsSc1mZPweB21Ya9Lv299E82aW405KNagusbbDfzVHuRAZWf4j3R5Mr/y/UvodoSWZ0ZYKVCaEYRL9Zs9oCek0xfhGh4CDkF5qyCfMUi8Q88w2AAAABE0Gaq0moQWyZTAhv//6nhAAAAwAMjTJroBBEPlsVu02yZLlkbjdKiXRQqoN4xNVweyIsJhHLFDbdH5yd1geNj5X44VdyWwYDhwXhGrLtpyQBQDcAF5U/o2f9k/2Ph6v8SX8sUSgmCV65Qg5y4FVdcpQINoYnmZKoqMxrWhzJ/445iX6NUFeDH4OcSC9yA/JsGwzZ+H1dr8EGP3as7jIPWuZa3ZLqncYfq25BR0pNfVpWlF/XJjuYvIk/YsgsIBj2+QBFhr1RZAtJ1xs+8v5pG/QrRBEeOj8HffJFmzy0veI2jPAYAgU2Cy89MSxExUgHXHSdUyg1yeGpHvwmt9kpM6zuXCeYiQgMIfwD/JTkXeE8B6+pAAAAVUGeyUUVLCv/AAADABprDx2QyRPEBdAAjFqGemN4JhUnBrFwNso8zfh4W3WvTHCg2gwA68lznVLkf/64aqbQGPoL4LrelZXBeHrfTN8U8OEQ38xeHTAAAABsAZ7odEJ/AAADACGtX3ZJJVxVz01SABx4KHhZgP1v5l237FaFwWO5uPY18xyonI4Kt1C8sEpNifsyVt5MHAGkU8KS2p95Pn48pQK4hE6r1yVVWiUVILinFZDUkDzZ8NrAuJ7ImgklhU/swmmBAAAAhQGe6mpCfwAAAwAhu5Ld0ZLRkMbbACau3pgKBJQZMU4exN2MnIyG6RG1qLLHIhQ6djPbAIKA6S9YADGzrzWe4mp7/mvh5nKWWLw7al6Jjr3At1a5uG4kzh/jwXMZ+MLe9WUFMOdv2KFCd+/7TFHwIPpSFWN/+oux2NBVHIGYTDs5CgDXQu8AAAB1QZrvSahBbJlMCG///qeEAAADACWz4hSAL0ITzipCEAcov2Ji2zGSPz4v703IAP1RcwQs4lqetpVwm7mllI6aR7zR08yJ1ioQtmQ0dRAkUO95+A0gUDG6TkF9bZ9MGlCjNMV6oQv/SEn6vs/w710OMGvVfGzBAAAAP0GfDUUVLCv/AAADAB0GXl4yL5V+OeAAQOmW75yRFHaHCHC1dnXrnQvWUhQi8QZ9t36FO9PoaxEvBQnSCmxqQQAAADcBnyx0Qn8AAAMAIa1fdkkbSyFj5tJoKQXRWWWHEAKiDliB5zJaWAA364cGf/o9EYv1uxqFIMUEAAAAMAGfLmpCfwAAAwAlu5apZARIeescTVdGdp1n/tqAKp/tRRdjDqJJHhsrGxVgIbIJGAAAAGNBmzNJqEFsmUwIb//+p4QAAAMAJbPgLgDjHenyRjZSn4AEwHZcToVeKyXbmcfwclVUzBCIPLXCLEflWRteTCofxaliilTasQmawrSW0K1jcTo9/MUUaNS6/jdmdL/OJqWSbukAAAAjQZ9RRRUsK/8AAAMAHmAde7I854DLODTyDFU4YhkCTFngZUAAAAAbAZ9wdEJ/AAADACfIp3k3VGgZqkyc+U3NdA6oAAAAFgGfcmpCfwAAAwAlu5apZARCzxoPE4EAAAA7QZt3SahBbJlMCG///qeEAAADAAG5tRDDzhk/+XRAAo2AvWCe44Xqqe0iXxauWWkZDIUA3/01+uJ1XdEAAAAcQZ+VRRUsK/8AAAMAHQr4AdOj5Uy8colGKyAUkQAAABUBn7R0Qn8AAAMAJa1kTS1yBZ1NKasAAAAWAZ+2akJ/AAADACW7lqlkBELFrg8bgAAAABhBm7tJqEFsmUwIb//+p4QAAAMAAAMA1IEAAAAbQZ/ZRRUsK/8AAAMAHQr4AdOj5Uy8cbkUbOYEAAAAFAGf+HRCfwAAAwAlrWRNLXIEILaAAAAAFAGf+mpCfwAAAwAlu5apZARCEFtBAAAAGEGb/0moQWyZTAhv//6nhAAAAwAAAwDUgAAAABtBnh1FFSwr/wAAAwAdCvgB06PlTLxxuaoEwIEAAAAUAZ48dEJ/AAADACWtZE0tcgQgtoEAAAAUAZ4+akJ/AAADACW7lqlkBEIQW0AAAAAYQZojSahBbJlMCG///qeEAAADAAADANSBAAAAG0GeQUUVLCv/AAADAB0K+AHTo+VMvHG5qgTAgAAAABQBnmB0Qn8AAAMAJa1kTS1yBCC2gQAAABQBnmJqQn8AAAMAJbuWqWQEQhBbQQAAABhBmmdJqEFsmUwIb//+p4QAAAMAAAMA1IAAAAAbQZ6FRRUsK/8AAAMAHQr4AdOj5Uy8cbmqBMCAAAAAFAGepHRCfwAAAwAlrWRNLXIEILaBAAAAFAGepmpCfwAAAwAlu5apZARCEFtAAAAAF0Gaq0moQWyZTAhn//6eEAAAAwAAAwM/AAAAG0GeyUUVLCv/AAADAB0K+AHTo+VMvHG5qgTAgAAAABQBnuh0Qn8AAAMAJa1kTS1yBCC2gQAAABQBnupqQn8AAAMAJbuWqWQEQhBbQQAAABdBmu9JqEFsmUwIX//+jLAAAAMAAAMDQwAAABtBnw1FFSwr/wAAAwAdCvgB06PlTLxxuaoEwIEAAAAUAZ8sdEJ/AAADACWtZE0tcgQgtoAAAAAUAZ8uakJ/AAADACW7lqlkBEIQW0AAAAAYQZsxSahBbJlMFEwn//3xAAADAAADAB6RAAAAGAGfUGpCfwAAAwAlwvi4bmm0Qd2HzHEGzAAAEp1tb292AAAAbG12aGQAAAAAAAAAAAAAAAAAAAPoAAArOwABAAABAAAAAAAAAAAAAAAAAQAAAAAAAAAAAAAAAAAAAAEAAAAAAAAAAAAAAAAAAEAAAAAAAAAAAAAAAAAAAAAAAAAAAAAAAAAAAAAAAAACAAARyHRyYWsAAABcdGtoZAAAAAMAAAAAAAAAAAAAAAEAAAAAAAArOwAAAAAAAAAAAAAAAAAAAAAAAQAAAAAAAAAAAAAAAAAAAAEAAAAAAAAAAAAAAAAAAEAAAAACYAAAAZAAAAAAACRlZHRzAAAAHGVsc3QAAAAAAAAAAQAAKzsAAAQAAAEAAAAAEUBtZGlhAAAAIG1kaGQAAAAAAAAAAAAAAAAAADwAAAKYAFXEAAAAAAAtaGRscgAAAAAAAAAAdmlkZQAAAAAAAAAAAAAAAFZpZGVvSGFuZGxlcgAAABDrbWluZgAAABR2bWhkAAAAAQAAAAAAAAAAAAAAJGRpbmYAAAAcZHJlZgAAAAAAAAABAAAADHVybCAAAAABAAAQq3N0YmwAAACvc3RzZAAAAAAAAAABAAAAn2F2YzEAAAAAAAAAAQAAAAAAAAAAAAAAAAAAAAACYAGQAEgAAABIAAAAAAAAAAEUTGF2YzYxLjMuMTAwIGxpYngyNjQAAAAAAAAAAAAAAAAY//8AAAA1YXZjQwFkAB7/4QAYZ2QAHqzZQJgzoQAAAwABAAADADwPFi2WAQAGaOvjyyLA/fj4AAAAABRidHJ0AAAAAAAAnIsAAJyLAAAAGHN0dHMAAAAAAAAAAQAAAUwAAAIAAAAAGHN0c3MAAAAAAAAAAgAAAAEAAAD7AAAKUGN0dHMAAAAAAAABSAAAAAEAAAQAAAAAAQAACgAAAAABAAAEAAAAAAEAAAAAAAAAAQAAAgAAAAABAAAKAAAAAAEAAAQAAAAAAQAAAAAAAAABAAACAAAAAAEAAAoAAAAAAQAABAAAAAABAAAAAAAAAAEAAAIAAAAAAQAACgAAAAABAAAEAAAAAAEAAAAAAAAAAQAAAgAAAAABAAAKAAAAAAEAAAQAAAAAAQAAAAAAAAABAAACAAAAAAEAAAoAAAAAAQAABAAAAAABAAAAAAAAAAEAAAIAAAAAAQAACgAAAAABAAAEAAAAAAEAAAAAAAAAAQAAAgAAAAABAAAGAAAAAAEAAAIAAAAAAQAACgAAAAABAAAEAAAAAAEAAAAAAAAAAQAAAgAAAAABAAAKAAAAAAEAAAQAAAAAAQAAAAAAAAABAAACAAAAAAEAAAoAAAAAAQAABAAAAAABAAAAAAAAAAEAAAIAAAAAAQAACgAAAAABAAAEAAAAAAEAAAAAAAAAAQAAAgAAAAABAAAKAAAAAAEAAAQAAAAAAQAAAAAAAAABAAACAAAAAAEAAAoAAAAAAQAABAAAAAABAAAAAAAAAAEAAAIAAAAAAQAACgAAAAABAAAEAAAAAAEAAAAAAAAAAQAAAgAAAAABAAAKAAAAAAEAAAQAAAAAAQAAAAAAAAABAAACAAAAAAEAAAoAAAAAAQAABAAAAAABAAAAAAAAAAEAAAIAAAAAAQAACgAAAAABAAAEAAAAAAEAAAAAAAAAAQAAAgAAAAABAAAKAAAAAAEAAAQAAAAAAQAAAAAAAAABAAACAAAAAAEAAAgAAAAAAgAAAgAAAAABAAAKAAAAAAEAAAQAAAAAAQAAAAAAAAABAAACAAAAAAEAAAoAAAAAAQAABAAAAAABAAAAAAAAAAEAAAIAAAAAAQAACAAAAAACAAACAAAAAAEAAAoAAAAAAQAABAAAAAABAAAAAAAAAAEAAAIAAAAAAQAACgAAAAABAAAEAAAAAAEAAAAAAAAAAQAAAgAAAAABAAAKAAAAAAEAAAQAAAAAAQAAAAAAAAABAAACAAAAAAEAAAoAAAAAAQAABAAAAAABAAAAAAAAAAEAAAIAAAAAAQAACgAAAAABAAAEAAAAAAEAAAAAAAAAAQAAAgAAAAABAAAKAAAAAAEAAAQAAAAAAQAAAAAAAAABAAACAAAAAAEAAAoAAAAAAQAABAAAAAABAAAAAAAAAAEAAAIAAAAAAQAACgAAAAABAAAEAAAAAAEAAAAAAAAAAQAAAgAAAAABAAAKAAAAAAEAAAQAAAAAAQAAAAAAAAABAAACAAAAAAEAAAoAAAAAAQAABAAAAAABAAAAAAAAAAEAAAIAAAAAAQAACgAAAAABAAAEAAAAAAEAAAAAAAAAAQAAAgAAAAABAAAKAAAAAAEAAAQAAAAAAQAAAAAAAAABAAACAAAAAAEAAAoAAAAAAQAABAAAAAABAAAAAAAAAAEAAAIAAAAAAQAACgAAAAABAAAEAAAAAAEAAAAAAAAAAQAAAgAAAAABAAAKAAAAAAEAAAQAAAAAAQAAAAAAAAABAAACAAAAAAEAAAoAAAAAAQAABAAAAAABAAAAAAAAAAEAAAIAAAAAAQAACgAAAAABAAAEAAAAAAEAAAAAAAAAAQAAAgAAAAABAAAKAAAAAAEAAAQAAAAAAQAAAAAAAAABAAACAAAAAAEAAAoAAAAAAQAABAAAAAABAAAAAAAAAAEAAAIAAAAAAQAACgAAAAABAAAEAAAAAAEAAAAAAAAAAQAAAgAAAAABAAAKAAAAAAEAAAQAAAAAAQAAAAAAAAABAAACAAAAAAEAAAoAAAAAAQAABAAAAAABAAAAAAAAAAEAAAIAAAAAAQAACgAAAAABAAAEAAAAAAEAAAAAAAAAAQAAAgAAAAABAAAKAAAAAAEAAAQAAAAAAQAAAAAAAAABAAACAAAAAAEAAAoAAAAAAQAABAAAAAABAAAAAAAAAAEAAAIAAAAAAQAACgAAAAABAAAEAAAAAAEAAAAAAAAAAQAAAgAAAAABAAAKAAAAAAEAAAQAAAAAAQAAAAAAAAABAAACAAAAAAEAAAoAAAAAAQAABAAAAAABAAAAAAAAAAEAAAIAAAAAAQAACgAAAAABAAAEAAAAAAEAAAAAAAAAAQAAAgAAAAABAAAKAAAAAAEAAAQAAAAAAQAAAAAAAAABAAACAAAAAAEAAAoAAAAAAQAABAAAAAABAAAAAAAAAAEAAAIAAAAAAQAACgAAAAABAAAEAAAAAAEAAAAAAAAAAQAAAgAAAAABAAAKAAAAAAEAAAQAAAAAAQAAAAAAAAABAAACAAAAAAEAAAoAAAAAAQAABAAAAAABAAAAAAAAAAEAAAIAAAAAAQAACgAAAAABAAAEAAAAAAEAAAAAAAAAAQAAAgAAAAABAAAKAAAAAAEAAAQAAAAAAQAAAAAAAAABAAACAAAAAAEAAAoAAAAAAQAABAAAAAABAAAAAAAAAAEAAAIAAAAAAQAACgAAAAABAAAEAAAAAAEAAAAAAAAAAQAAAgAAAAABAAAKAAAAAAEAAAQAAAAAAQAAAAAAAAABAAACAAAAAAEAAAoAAAAAAQAABAAAAAABAAAAAAAAAAEAAAIAAAAAAgAABAAAAAABAAAKAAAAAAEAAAQAAAAAAQAAAAAAAAABAAACAAAAAAEAAAoAAAAAAQAABAAAAAABAAAAAAAAAAEAAAIAAAAAAQAACgAAAAABAAAEAAAAAAEAAAAAAAAAAQAAAgAAAAABAAAKAAAAAAEAAAQAAAAAAQAAAAAAAAABAAACAAAAAAEAAAoAAAAAAQAABAAAAAABAAAAAAAAAAEAAAIAAAAAAQAACgAAAAABAAAEAAAAAAEAAAAAAAAAAQAAAgAAAAABAAAKAAAAAAEAAAQAAAAAAQAAAAAAAAABAAACAAAAAAEAAAgAAAAAAgAAAgAAAAABAAAKAAAAAAEAAAQAAAAAAQAAAAAAAAABAAACAAAAAAEAAAoAAAAAAQAABAAAAAABAAAAAAAAAAEAAAIAAAAAAQAACgAAAAABAAAEAAAAAAEAAAAAAAAAAQAAAgAAAAABAAAKAAAAAAEAAAQAAAAAAQAAAAAAAAABAAACAAAAAAEAAAoAAAAAAQAABAAAAAABAAAAAAAAAAEAAAIAAAAAAQAACgAAAAABAAAEAAAAAAEAAAAAAAAAAQAAAgAAAAABAAAKAAAAAAEAAAQAAAAAAQAAAAAAAAABAAACAAAAAAEAAAoAAAAAAQAABAAAAAABAAAAAAAAAAEAAAIAAAAAAQAACgAAAAABAAAEAAAAAAEAAAAAAAAAAQAAAgAAAAABAAAKAAAAAAEAAAQAAAAAAQAAAAAAAAABAAACAAAAAAEAAAoAAAAAAQAABAAAAAABAAAAAAAAAAEAAAIAAAAAAQAACgAAAAABAAAEAAAAAAEAAAAAAAAAAQAAAgAAAAABAAAGAAAAAAEAAAIAAAAAHHN0c2MAAAAAAAAAAQAAAAEAAAFMAAAAAQAABURzdHN6AAAAAAAAAAAAAAFMAAAHbwAAASAAAABeAAAAUAAAAEYAAACiAAAARwAAAEcAAAA0AAAAdAAAAEkAAAA3AAAALAAAAJUAAAA8AAAANQAAADYAAADoAAAAQgAAADYAAABBAAAA3QAAAEUAAABDAAAARAAAANMAAAA3AAAAQwAAAEcAAACnAAAAXwAAAOwAAABYAAAAUgAAAFsAAAEzAAAATQAAAE4AAABhAAAB2AAAALQAAACEAAAAnAAAAUIAAADcAAAAxgAAAKIAAAEcAAAAnQAAAKcAAACIAAABKAAAAMEAAACkAAAAnQAAAPMAAACmAAAAigAAAI4AAAEnAAAAwQAAAIsAAACBAAABBQAAAKwAAACdAAAApgAAARsAAACmAAAAlgAAAK0AAAELAAAA9AAAAKsAAACqAAAA0QAAALQAAACvAAAA8QAAAMkAAACGAAAAiwAAANcAAAC1AAAAnwAAAJEAAADgAAAArwAAAJ4AAADuAAAAnQAAAHQAAACYAAABBQAAALgAAACGAAAAfgAAAPMAAADEAAAAiAAAALAAAAFAAAAArgAAAJUAAACgAAABLwAAAMUAAACjAAAAwQAAAX0AAADQAAAA5wAAAOEAAAE+AAAA0QAAAOMAAADYAAABVgAAAKsAAAC6AAAAwgAAAUwAAADIAAAAtwAAAL8AAAFBAAAA6wAAANMAAADXAAABQwAAANAAAADiAAAAvwAAAQoAAAC3AAAArQAAAO4AAAFQAAAAzwAAAIYAAADFAAABFAAAANYAAAChAAAAoAAAAUQAAADAAAAAlgAAAJgAAADFAAAAdAAAAKIAAACoAAAA7wAAAKwAAACSAAAAiQAAAQAAAADcAAAAoQAAAK0AAADyAAAAsAAAAJUAAACbAAAAzgAAAJIAAADCAAAAkAAAARQAAACmAAAAjwAAAHsAAAEyAAAApgAAAIgAAACXAAABOAAAAKoAAAB+AAAAewAAASkAAAC4AAAAbwAAAJQAAAENAAAAzQAAAHUAAABwAAAA4wAAAKMAAACMAAAAjgAAAOsAAACZAAAAeQAAAHwAAAFOAAAAyQAAAHwAAACnAAABOQAAALMAAACXAAAAlAAAAVgAAAC6AAAAjgAAAH0AAAEWAAAArgAAAIMAAACCAAAA5QAAAJoAAAB8AAAAdwAAANgAAACFAAAAZwAAAF4AAAEFAAAAkgAAAGoAAABrAAAA+gAAAJUAAAB0AAAAgAAAAQsAAACXAAAAXAAAAGkAAADsAAAAhAAAAHgAAABTAAABCwAAAKEAAAB3AAAAhgAAAOMAAAC1AAAAcQAAAJMAAAEpAAAAegAAAGwAAABqAAAAigAABp8AAAEnAAAAfAAAAG0AAABeAAABDQAAAHYAAABnAAAAcAAAAQwAAABcAAAAgwAAAH0AAAD/AAAAqAAAAGkAAACXAAAA3wAAAGcAAABtAAAATgAAARkAAAB+AAAAZgAAAE8AAAD9AAAAiwAAAFgAAABLAAAAzQAAAEkAAABGAAABMAAAAGMAAABPAAAAVQAAATYAAACxAAAAcwAAAHgAAAEXAAAAWQAAAHAAAACJAAAAeQAAAEMAAAA7AAAANAAAAGcAAAAnAAAAHwAAABoAAAA/AAAAIAAAABkAAAAaAAAAHAAAAB8AAAAYAAAAGAAAABwAAAAfAAAAGAAAABgAAAAcAAAAHwAAABgAAAAYAAAAHAAAAB8AAAAYAAAAGAAAABsAAAAfAAAAGAAAABgAAAAbAAAAHwAAABgAAAAYAAAAHAAAABwAAAAUc3RjbwAAAAAAAAABAAAAMAAAAGF1ZHRhAAAAWW1ldGEAAAAAAAAAIWhkbHIAAAAAAAAAAG1kaXJhcHBsAAAAAAAAAAAAAAAALGlsc3QAAAAkqXRvbwAAABxkYXRhAAAAAQAAAABMYXZmNjEuMS4xMDA=\" type=\"video/mp4\" />\n",
              "             </video>"
            ]
          },
          "metadata": {}
        }
      ],
      "source": [
        "import glob\n",
        "import io\n",
        "import base64\n",
        "import imageio\n",
        "from IPython.display import HTML, display\n",
        "\n",
        "def show_video_of_model(agent, env_name):\n",
        "    env = gym.make(env_name, render_mode='rgb_array')\n",
        "    state, _ = env.reset()\n",
        "    done = False\n",
        "    frames = []\n",
        "    while not done:\n",
        "        frame = env.render()\n",
        "        frames.append(frame)\n",
        "        action = agent.act(state)\n",
        "        state, reward, done, _, _ = env.step(action.item())\n",
        "    env.close()\n",
        "    imageio.mimsave('video.mp4', frames, fps=30)\n",
        "\n",
        "show_video_of_model(agent, 'LunarLander-v3')\n",
        "\n",
        "def show_video():\n",
        "    mp4list = glob.glob('*.mp4')\n",
        "    if len(mp4list) > 0:\n",
        "        mp4 = mp4list[0]\n",
        "        video = io.open(mp4, 'r+b').read()\n",
        "        encoded = base64.b64encode(video)\n",
        "        display(HTML(data='''<video alt=\"test\" autoplay\n",
        "                loop controls style=\"height: 400px;\">\n",
        "                <source src=\"data:video/mp4;base64,{0}\" type=\"video/mp4\" />\n",
        "             </video>'''.format(encoded.decode('ascii'))))\n",
        "    else:\n",
        "        print(\"Could not find video\")\n",
        "\n",
        "show_video()"
      ]
    }
  ],
  "metadata": {
    "colab": {
      "provenance": [],
      "include_colab_link": true
    },
    "kernelspec": {
      "display_name": "Python 3",
      "name": "python3"
    },
    "language_info": {
      "name": "python"
    }
  },
  "nbformat": 4,
  "nbformat_minor": 0
}