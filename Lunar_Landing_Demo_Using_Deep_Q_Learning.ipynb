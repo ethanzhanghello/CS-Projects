{
  "cells": [
    {
      "cell_type": "markdown",
      "metadata": {
        "id": "view-in-github",
        "colab_type": "text"
      },
      "source": [
        "<a href=\"https://colab.research.google.com/github/ethanzhanghello/CS-Projects/blob/main/Lunar_Landing_Demo_Using_Deep_Q_Learning.ipynb\" target=\"_parent\"><img src=\"https://colab.research.google.com/assets/colab-badge.svg\" alt=\"Open In Colab\"/></a>"
      ]
    },
    {
      "cell_type": "markdown",
      "metadata": {
        "id": "LbZcI9ZXHl3a"
      },
      "source": [
        "# Deep Q-Learning for Lunar Landing"
      ]
    },
    {
      "cell_type": "markdown",
      "metadata": {
        "id": "E8yPRjteXgPb"
      },
      "source": [
        "## Part 0 - Installing the required packages and importing the libraries"
      ]
    },
    {
      "cell_type": "markdown",
      "metadata": {
        "id": "slEm5teGWjWU"
      },
      "source": [
        "### Installing Gymnasium"
      ]
    },
    {
      "cell_type": "code",
      "execution_count": 1,
      "metadata": {
        "id": "dbnq3XpoKa_7",
        "colab": {
          "base_uri": "https://localhost:8080/"
        },
        "outputId": "4833e96d-17fb-4aaa-d699-6d735898f5a3"
      },
      "outputs": [
        {
          "output_type": "stream",
          "name": "stdout",
          "text": [
            "Requirement already satisfied: gymnasium in /usr/local/lib/python3.11/dist-packages (1.1.1)\n",
            "Requirement already satisfied: numpy>=1.21.0 in /usr/local/lib/python3.11/dist-packages (from gymnasium) (2.0.2)\n",
            "Requirement already satisfied: cloudpickle>=1.2.0 in /usr/local/lib/python3.11/dist-packages (from gymnasium) (3.1.1)\n",
            "Requirement already satisfied: typing-extensions>=4.3.0 in /usr/local/lib/python3.11/dist-packages (from gymnasium) (4.13.2)\n",
            "Requirement already satisfied: farama-notifications>=0.0.1 in /usr/local/lib/python3.11/dist-packages (from gymnasium) (0.0.4)\n",
            "Requirement already satisfied: gymnasium[accept-rom-license,atari] in /usr/local/lib/python3.11/dist-packages (1.1.1)\n",
            "\u001b[33mWARNING: gymnasium 1.1.1 does not provide the extra 'accept-rom-license'\u001b[0m\u001b[33m\n",
            "\u001b[0mRequirement already satisfied: numpy>=1.21.0 in /usr/local/lib/python3.11/dist-packages (from gymnasium[accept-rom-license,atari]) (2.0.2)\n",
            "Requirement already satisfied: cloudpickle>=1.2.0 in /usr/local/lib/python3.11/dist-packages (from gymnasium[accept-rom-license,atari]) (3.1.1)\n",
            "Requirement already satisfied: typing-extensions>=4.3.0 in /usr/local/lib/python3.11/dist-packages (from gymnasium[accept-rom-license,atari]) (4.13.2)\n",
            "Requirement already satisfied: farama-notifications>=0.0.1 in /usr/local/lib/python3.11/dist-packages (from gymnasium[accept-rom-license,atari]) (0.0.4)\n",
            "Requirement already satisfied: ale_py>=0.9 in /usr/local/lib/python3.11/dist-packages (from gymnasium[accept-rom-license,atari]) (0.10.2)\n",
            "Reading package lists... Done\n",
            "Building dependency tree... Done\n",
            "Reading state information... Done\n",
            "The following additional packages will be installed:\n",
            "  swig4.0\n",
            "Suggested packages:\n",
            "  swig-doc swig-examples swig4.0-examples swig4.0-doc\n",
            "The following NEW packages will be installed:\n",
            "  swig swig4.0\n",
            "0 upgraded, 2 newly installed, 0 to remove and 34 not upgraded.\n",
            "Need to get 1,116 kB of archives.\n",
            "After this operation, 5,542 kB of additional disk space will be used.\n",
            "Get:1 http://archive.ubuntu.com/ubuntu jammy/universe amd64 swig4.0 amd64 4.0.2-1ubuntu1 [1,110 kB]\n",
            "Get:2 http://archive.ubuntu.com/ubuntu jammy/universe amd64 swig all 4.0.2-1ubuntu1 [5,632 B]\n",
            "Fetched 1,116 kB in 0s (3,925 kB/s)\n",
            "Selecting previously unselected package swig4.0.\n",
            "(Reading database ... 126333 files and directories currently installed.)\n",
            "Preparing to unpack .../swig4.0_4.0.2-1ubuntu1_amd64.deb ...\n",
            "Unpacking swig4.0 (4.0.2-1ubuntu1) ...\n",
            "Selecting previously unselected package swig.\n",
            "Preparing to unpack .../swig_4.0.2-1ubuntu1_all.deb ...\n",
            "Unpacking swig (4.0.2-1ubuntu1) ...\n",
            "Setting up swig4.0 (4.0.2-1ubuntu1) ...\n",
            "Setting up swig (4.0.2-1ubuntu1) ...\n",
            "Processing triggers for man-db (2.10.2-1) ...\n",
            "Requirement already satisfied: gymnasium[box2d] in /usr/local/lib/python3.11/dist-packages (1.1.1)\n",
            "Requirement already satisfied: numpy>=1.21.0 in /usr/local/lib/python3.11/dist-packages (from gymnasium[box2d]) (2.0.2)\n",
            "Requirement already satisfied: cloudpickle>=1.2.0 in /usr/local/lib/python3.11/dist-packages (from gymnasium[box2d]) (3.1.1)\n",
            "Requirement already satisfied: typing-extensions>=4.3.0 in /usr/local/lib/python3.11/dist-packages (from gymnasium[box2d]) (4.13.2)\n",
            "Requirement already satisfied: farama-notifications>=0.0.1 in /usr/local/lib/python3.11/dist-packages (from gymnasium[box2d]) (0.0.4)\n",
            "Collecting box2d-py==2.3.5 (from gymnasium[box2d])\n",
            "  Downloading box2d-py-2.3.5.tar.gz (374 kB)\n",
            "\u001b[2K     \u001b[90m━━━━━━━━━━━━━━━━━━━━━━━━━━━━━━━━━━━━━━━\u001b[0m \u001b[32m374.4/374.4 kB\u001b[0m \u001b[31m6.3 MB/s\u001b[0m eta \u001b[36m0:00:00\u001b[0m\n",
            "\u001b[?25h  Preparing metadata (setup.py) ... \u001b[?25l\u001b[?25hdone\n",
            "Requirement already satisfied: pygame>=2.1.3 in /usr/local/lib/python3.11/dist-packages (from gymnasium[box2d]) (2.6.1)\n",
            "Collecting swig==4.* (from gymnasium[box2d])\n",
            "  Downloading swig-4.3.1-py3-none-manylinux_2_12_x86_64.manylinux2010_x86_64.whl.metadata (3.5 kB)\n",
            "Downloading swig-4.3.1-py3-none-manylinux_2_12_x86_64.manylinux2010_x86_64.whl (1.9 MB)\n",
            "\u001b[2K   \u001b[90m━━━━━━━━━━━━━━━━━━━━━━━━━━━━━━━━━━━━━━━━\u001b[0m \u001b[32m1.9/1.9 MB\u001b[0m \u001b[31m43.9 MB/s\u001b[0m eta \u001b[36m0:00:00\u001b[0m\n",
            "\u001b[?25hBuilding wheels for collected packages: box2d-py\n",
            "  Building wheel for box2d-py (setup.py) ... \u001b[?25l\u001b[?25hdone\n",
            "  Created wheel for box2d-py: filename=box2d_py-2.3.5-cp311-cp311-linux_x86_64.whl size=2351179 sha256=676e8c909c93fc69f60c4095ab097586bbd71c730387731a8d807a27523ecad9\n",
            "  Stored in directory: /root/.cache/pip/wheels/ab/f1/0c/d56f4a2bdd12bae0a0693ec33f2f0daadb5eb9753c78fa5308\n",
            "Successfully built box2d-py\n",
            "Installing collected packages: swig, box2d-py\n",
            "Successfully installed box2d-py-2.3.5 swig-4.3.1\n"
          ]
        }
      ],
      "source": [
        "!pip install gymnasium\n",
        "!pip install \"gymnasium[atari, accept-rom-license]\"\n",
        "!apt-get install -y swig\n",
        "!pip install gymnasium[box2d]"
      ]
    },
    {
      "cell_type": "markdown",
      "metadata": {
        "id": "brqiMN3UW9T9"
      },
      "source": [
        "### Importing the libraries"
      ]
    },
    {
      "cell_type": "code",
      "execution_count": 3,
      "metadata": {
        "id": "mZaKXP_aMl9O"
      },
      "outputs": [],
      "source": [
        "import os\n",
        "import random\n",
        "import numpy as np\n",
        "import torch\n",
        "import torch.nn as nn\n",
        "import torch.optim as optim\n",
        "import torch.nn.functional as F\n",
        "import torch.autograd as autograd\n",
        "from torch.autograd import Variable\n",
        "from collections import deque, namedtuple"
      ]
    },
    {
      "cell_type": "markdown",
      "metadata": {
        "id": "EzlDKXvkXzGI"
      },
      "source": [
        "## Part 1 - Building the AI"
      ]
    },
    {
      "cell_type": "markdown",
      "metadata": {
        "id": "UtG6Zc83YYy3"
      },
      "source": [
        "### Creating the architecture of the Neural Network"
      ]
    },
    {
      "cell_type": "code",
      "source": [
        "class Network(nn.Module):\n",
        "\n",
        "  def __init__(self, state_size, action_size, seed = 42):\n",
        "    super(Network, self).__init__()\n",
        "    self.seed = torch.manual_seed(seed)\n",
        "    self.fc1 = nn.Linear(state_size, 64)\n",
        "    self.fc2 = nn.Linear(64, 64)\n",
        "    self.fc3 = nn.Linear(64, action_size)\n",
        "\n",
        "  def forward(self, state):\n",
        "    x = self.fc1(state)\n",
        "    x = F.relu(x)\n",
        "    x = self.fc2(x)\n",
        "    x = F.relu(x)\n",
        "    return self.fc3(x)"
      ],
      "metadata": {
        "id": "Av9NtniO8w_R"
      },
      "execution_count": 4,
      "outputs": []
    },
    {
      "cell_type": "markdown",
      "metadata": {
        "id": "UxVrBnFWZKb1"
      },
      "source": [
        "## Part 2 - Training the AI"
      ]
    },
    {
      "cell_type": "markdown",
      "metadata": {
        "id": "T364fz9qZb2j"
      },
      "source": [
        "### Setting up the environment"
      ]
    },
    {
      "cell_type": "code",
      "source": [
        "import gymnasium as gym\n",
        "env = gym.make('LunarLander-v3') # The Lunar Lander environment was upgraded to v3\n",
        "state_shape = env.observation_space.shape\n",
        "state_size = env.observation_space.shape[0]\n",
        "number_actions = env.action_space.n\n",
        "print('State shape: ', state_shape)\n",
        "print('State size: ', state_size)\n",
        "print('Number of actions: ', number_actions)"
      ],
      "metadata": {
        "id": "41sgnpCwtd5f",
        "colab": {
          "base_uri": "https://localhost:8080/"
        },
        "outputId": "f2061008-fe4a-4220-f438-d11ea751ea27"
      },
      "execution_count": 5,
      "outputs": [
        {
          "output_type": "stream",
          "name": "stdout",
          "text": [
            "State shape:  (8,)\n",
            "State size:  8\n",
            "Number of actions:  4\n"
          ]
        }
      ]
    },
    {
      "cell_type": "markdown",
      "metadata": {
        "id": "c_dZmOIvZgj-"
      },
      "source": [
        "### Initializing the hyperparameters"
      ]
    },
    {
      "cell_type": "code",
      "source": [
        "learning_rate = 5e-4\n",
        "minibatch_size = 100\n",
        "discount_factor = .99\n",
        "replay_buffer_size = int(1e5)\n",
        "interpolation_parameter = 1e-3"
      ],
      "metadata": {
        "id": "dTE2XlQCCOov"
      },
      "execution_count": 6,
      "outputs": []
    },
    {
      "cell_type": "markdown",
      "metadata": {
        "id": "8hD_Vs-bYnip"
      },
      "source": [
        "### Implementing Experience Replay"
      ]
    },
    {
      "cell_type": "code",
      "source": [
        "class ReplayMemory(object):\n",
        "\n",
        "  def __init__(self, capacity):\n",
        "    self.device = torch.device(\"cuda:0\" if torch.cuda.is_available() else \"cpu\")\n",
        "    self.capacity = capacity\n",
        "    self.memory = []\n",
        "\n",
        "  def push(self, event):\n",
        "    self.memory.append(event)\n",
        "    if len(self.memory) > self.capacity:\n",
        "      del self.memory[0]\n",
        "\n",
        "  def sample(self, batch_size):\n",
        "    experiences = random.sample(self.memory, k = batch_size)\n",
        "    states = torch.from_numpy(np.vstack([e[0] for e in experiences if e is not None])).float().to(self.device)\n",
        "    actions = torch.from_numpy(np.vstack([e[1] for e in experiences if e is not None])).long().to(self.device)\n",
        "    rewards = torch.from_numpy(np.vstack([e[2] for e in experiences if e is not None])).float().to(self.device)\n",
        "    next_states = torch.from_numpy(np.vstack([e[3] for e in experiences if e is not None])).float().to(self.device)\n",
        "    dones = torch.from_numpy(np.vstack([e[4] for e in experiences if e is not None]).astype(np.uint8)).float().to(self.device)\n",
        "    return states, next_states, actions, rewards, dones"
      ],
      "metadata": {
        "id": "rtFAn9VTTcXk"
      },
      "execution_count": 7,
      "outputs": []
    },
    {
      "cell_type": "markdown",
      "metadata": {
        "id": "JmEkbFbUY6Jt"
      },
      "source": [
        "### Implementing the DQN class"
      ]
    },
    {
      "cell_type": "code",
      "source": [
        "class Agent():\n",
        "\n",
        "  def __init__(self, state_size, action_size):\n",
        "    self.device = torch.device(\"cuda:0\" if torch.cuda.is_available() else \"cpu\")\n",
        "    self.state_size = state_size\n",
        "    self.action_size = action_size\n",
        "    self.local_qnetwork = Network(state_size, action_size).to(self.device)\n",
        "    self.target_qnetwork = Network(state_size, action_size).to(self.device)\n",
        "    self.optimizer = optim.Adam(self.local_qnetwork.parameters(), lr = learning_rate)\n",
        "    self.memory = ReplayMemory(replay_buffer_size)\n",
        "    self.t_step = 0\n",
        "\n",
        "  def step(self, state, action, reward, next_state, done):\n",
        "    self.memory.push((state, action, reward, next_state, done))\n",
        "    self.t_step = (self.t_step + 1) % 4\n",
        "    if self.t_step == 0:\n",
        "      if len(self.memory.memory) > minibatch_size:\n",
        "        experiences = self.memory.sample(100)\n",
        "        self.learn(experiences, discount_factor)\n",
        "\n",
        "  def act(self, state, epsilon = 0.):\n",
        "    state = torch.from_numpy(state).float().unsqueeze(0).to(self.device)\n",
        "    self.local_qnetwork.eval()\n",
        "    with torch.no_grad():\n",
        "      action_values = self.local_qnetwork(state)\n",
        "    self.local_qnetwork.train()\n",
        "    if random.random() > epsilon:\n",
        "      return np.argmax(action_values.cpu().data.numpy())\n",
        "    else:\n",
        "      return random.choice(np.arange(self.action_size))\n",
        "\n",
        "  def learn(self, experiences, discount_factor):\n",
        "    states, next_states, actions, rewards, dones = experiences\n",
        "    next_q_targets = self.target_qnetwork(next_states).detach().max(1)[0].unsqueeze(1)\n",
        "    q_targets = rewards + discount_factor * next_q_targets * (1 - dones)\n",
        "    q_expected = self.local_qnetwork(states).gather(1, actions)\n",
        "    loss = F.mse_loss(q_expected, q_targets)\n",
        "    self.optimizer.zero_grad()\n",
        "    loss.backward()\n",
        "    self.optimizer.step()\n",
        "    self.soft_update(self.local_qnetwork, self.target_qnetwork, interpolation_parameter)\n",
        "\n",
        "  def soft_update(self, local_model, target_model, interpolation_parameter):\n",
        "    for target_param, local_param in zip(target_model.parameters(), local_model.parameters()):\n",
        "      target_param.data.copy_(interpolation_parameter * local_param.data + (1.0 - interpolation_parameter) * target_param.data)"
      ],
      "metadata": {
        "id": "kxI55b4qWWnT"
      },
      "execution_count": 8,
      "outputs": []
    },
    {
      "cell_type": "markdown",
      "metadata": {
        "id": "o1tZElccZmf6"
      },
      "source": [
        "### Initializing the DQN agent"
      ]
    },
    {
      "cell_type": "code",
      "source": [
        "agent = Agent(state_size, number_actions)"
      ],
      "metadata": {
        "id": "sar4aQ5v6O41"
      },
      "execution_count": 9,
      "outputs": []
    },
    {
      "cell_type": "markdown",
      "metadata": {
        "id": "E8v0PtUfaVQp"
      },
      "source": [
        "### Training the DQN agent"
      ]
    },
    {
      "cell_type": "code",
      "source": [
        "number_episodes = 2000\n",
        "maximum_number_timesteps_per_episode = 1000\n",
        "epsilon_starting_value  = 1.0\n",
        "epsilon_ending_value  = 0.01\n",
        "epsilon_decay_value  = 0.995\n",
        "epsilon = epsilon_starting_value\n",
        "scores_on_100_episodes = deque(maxlen = 100)\n",
        "\n",
        "for episode in range(1, number_episodes + 1):\n",
        "  state, _ = env.reset()\n",
        "  score = 0\n",
        "  for t in range(maximum_number_timesteps_per_episode):\n",
        "    action = agent.act(state, epsilon)\n",
        "    next_state, reward, done, _, _ = env.step(action)\n",
        "    agent.step(state, action, reward, next_state, done)\n",
        "    state = next_state\n",
        "    score += reward\n",
        "    if done:\n",
        "      break\n",
        "  scores_on_100_episodes.append(score)\n",
        "  epsilon = max(epsilon_ending_value, epsilon_decay_value * epsilon)\n",
        "  print('\\rEpisode {}\\tAverage Score: {:.2f}'.format(episode, np.mean(scores_on_100_episodes)), end = \"\")\n",
        "  if episode % 100 == 0:\n",
        "    print('\\rEpisode {}\\tAverage Score: {:.2f}'.format(episode, np.mean(scores_on_100_episodes)))\n",
        "  if np.mean(scores_on_100_episodes) >= 200.0:\n",
        "    print('\\nEnvironment solved in {:d} episodes!\\tAverage Score: {:.2f}'.format(episode - 100, np.mean(scores_on_100_episodes)))\n",
        "    torch.save(agent.local_qnetwork.state_dict(), 'checkpoint.pth')\n",
        "    break"
      ],
      "metadata": {
        "colab": {
          "base_uri": "https://localhost:8080/"
        },
        "id": "u84P10-b6gcc",
        "outputId": "6937b45a-d32d-4466-86c5-af4d5a723fc2"
      },
      "execution_count": 10,
      "outputs": [
        {
          "output_type": "stream",
          "name": "stdout",
          "text": [
            "Episode 100\tAverage Score: -165.91\n",
            "Episode 200\tAverage Score: -99.24\n",
            "Episode 300\tAverage Score: -45.08\n",
            "Episode 400\tAverage Score: -14.57\n",
            "Episode 500\tAverage Score: 78.43\n",
            "Episode 600\tAverage Score: 163.62\n",
            "Episode 700\tAverage Score: 193.00\n",
            "Episode 728\tAverage Score: 200.79\n",
            "Environment solved in 628 episodes!\tAverage Score: 200.79\n"
          ]
        }
      ]
    },
    {
      "cell_type": "markdown",
      "metadata": {
        "id": "O8CNwdOTcCoP"
      },
      "source": [
        "## Part 3 - Visualizing the results"
      ]
    },
    {
      "cell_type": "code",
      "execution_count": 11,
      "metadata": {
        "id": "cb9nVvU2Okhk",
        "colab": {
          "base_uri": "https://localhost:8080/",
          "height": 459
        },
        "outputId": "68a91bd1-f442-4224-c7ef-9871703b205a"
      },
      "outputs": [
        {
          "output_type": "stream",
          "name": "stderr",
          "text": [
            "WARNING:imageio_ffmpeg:IMAGEIO FFMPEG_WRITER WARNING: input image is not divisible by macro_block_size=16, resizing from (600, 400) to (608, 400) to ensure video compatibility with most codecs and players. To prevent resizing, make your input image divisible by the macro_block_size or set the macro_block_size to 1 (risking incompatibility).\n"
          ]
        },
        {
          "output_type": "display_data",
          "data": {
            "text/plain": [
              "<IPython.core.display.HTML object>"
            ],
            "text/html": [
              "<video alt=\"test\" autoplay\n",
              "                loop controls style=\"height: 400px;\">\n",
              "                <source src=\"data:video/mp4;base64,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\" type=\"video/mp4\" />\n",
              "             </video>"
            ]
          },
          "metadata": {}
        }
      ],
      "source": [
        "import glob\n",
        "import io\n",
        "import base64\n",
        "import imageio\n",
        "from IPython.display import HTML, display\n",
        "\n",
        "def show_video_of_model(agent, env_name):\n",
        "    env = gym.make(env_name, render_mode='rgb_array')\n",
        "    state, _ = env.reset()\n",
        "    done = False\n",
        "    frames = []\n",
        "    while not done:\n",
        "        frame = env.render()\n",
        "        frames.append(frame)\n",
        "        action = agent.act(state)\n",
        "        state, reward, done, _, _ = env.step(action.item())\n",
        "    env.close()\n",
        "    imageio.mimsave('video.mp4', frames, fps=30)\n",
        "\n",
        "show_video_of_model(agent, 'LunarLander-v3')\n",
        "\n",
        "def show_video():\n",
        "    mp4list = glob.glob('*.mp4')\n",
        "    if len(mp4list) > 0:\n",
        "        mp4 = mp4list[0]\n",
        "        video = io.open(mp4, 'r+b').read()\n",
        "        encoded = base64.b64encode(video)\n",
        "        display(HTML(data='''<video alt=\"test\" autoplay\n",
        "                loop controls style=\"height: 400px;\">\n",
        "                <source src=\"data:video/mp4;base64,{0}\" type=\"video/mp4\" />\n",
        "             </video>'''.format(encoded.decode('ascii'))))\n",
        "    else:\n",
        "        print(\"Could not find video\")\n",
        "\n",
        "show_video()"
      ]
    }
  ],
  "metadata": {
    "colab": {
      "provenance": [],
      "include_colab_link": true
    },
    "kernelspec": {
      "display_name": "Python 3",
      "name": "python3"
    },
    "language_info": {
      "name": "python"
    }
  },
  "nbformat": 4,
  "nbformat_minor": 0
}